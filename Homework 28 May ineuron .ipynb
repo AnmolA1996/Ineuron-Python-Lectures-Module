{
 "cells": [
  {
   "cell_type": "markdown",
   "id": "e9b3a3fe",
   "metadata": {},
   "source": [
    "# q1 :\n",
    "ineruon \n",
    "ineruon ineruon \n",
    "ineruon ineruon ineruon\n",
    "ineruon ineruon ineruon ineruon\n"
   ]
  },
  {
   "cell_type": "code",
   "execution_count": 3,
   "id": "851ecf08",
   "metadata": {},
   "outputs": [
    {
     "name": "stdout",
     "output_type": "stream",
     "text": [
      "ineuron \n",
      "\n",
      "ineuron ineuron \n",
      "\n",
      "ineuron ineuron ineuron \n",
      "\n",
      "ineuron ineuron ineuron ineuron \n",
      "\n"
     ]
    }
   ],
   "source": [
    "n = 4\n",
    "for i in range(n):\n",
    "    for j in range(0,i+1):\n",
    "        print(\"ineuron\",end=\" \")\n",
    "    print(\"\\n\")"
   ]
  },
  {
   "cell_type": "code",
   "execution_count": 2,
   "id": "58683751",
   "metadata": {},
   "outputs": [
    {
     "name": "stdout",
     "output_type": "stream",
     "text": [
      "Enter pattern size4\n",
      "ineuron \n",
      "\n",
      "ineuron ineuron \n",
      "\n",
      "ineuron ineuron ineuron \n",
      "\n",
      "ineuron ineuron ineuron ineuron \n",
      "\n"
     ]
    }
   ],
   "source": [
    "x = int(input(\"Enter pattern size\"))\n",
    "for i in range(x):\n",
    "    for j in range(0,i+1):\n",
    "        print(\"ineuron\",end=\" \")\n",
    "    print(\"\\n\")"
   ]
  },
  {
   "cell_type": "markdown",
   "id": "950ff559",
   "metadata": {},
   "source": [
    "# q3,q4 &q5 : Try to extract all the list entity , Try to extract all the dict enteties  ,&  Try to extract all the tuples entities"
   ]
  },
  {
   "cell_type": "code",
   "execution_count": 108,
   "id": "3f9523d4",
   "metadata": {},
   "outputs": [],
   "source": [
    "l = [[1,2,3,4] , (2,3,4,5,6) , (3,4,5,6,7) , set([23,4,5,45,4,4,5,45,45,4,5]) , {'k1' :\"sudh\" , \"k2\" : \"ineuron\",\"k3\":\n",
    "            \"kumar\" , 3:6 , 7:8} , [\"ineuron\" , \"data science \"]]"
   ]
  },
  {
   "cell_type": "code",
   "execution_count": 102,
   "id": "7f5ae0e5",
   "metadata": {},
   "outputs": [
    {
     "name": "stdout",
     "output_type": "stream",
     "text": [
      "[1, 2, 3, 4]\n",
      "['ineuron', 'data science ']\n",
      " \n"
     ]
    }
   ],
   "source": [
    "for i in l:\n",
    "    if type(i) == list:\n",
    "        print(i)\n",
    "else:\n",
    "    print(\" \")"
   ]
  },
  {
   "cell_type": "code",
   "execution_count": 103,
   "id": "c7522e8a",
   "metadata": {},
   "outputs": [
    {
     "name": "stdout",
     "output_type": "stream",
     "text": [
      "{'k1': 'sudh', 'k2': 'ineuron', 'k3': 'kumar', 3: 6, 7: 8}\n",
      " \n"
     ]
    }
   ],
   "source": [
    "for i in l:\n",
    "    if type(i) == dict:\n",
    "        print(i)\n",
    "else:\n",
    "    print(\" \")"
   ]
  },
  {
   "cell_type": "code",
   "execution_count": 104,
   "id": "082bb812",
   "metadata": {},
   "outputs": [
    {
     "name": "stdout",
     "output_type": "stream",
     "text": [
      "(2, 3, 4, 5, 6)\n",
      "(3, 4, 5, 6, 7)\n",
      " \n"
     ]
    }
   ],
   "source": [
    "for i in l:\n",
    "    if type(i) == tuple:\n",
    "        print(i)\n",
    "else:\n",
    "    print(\" \")"
   ]
  },
  {
   "cell_type": "code",
   "execution_count": 105,
   "id": "dc95f696",
   "metadata": {},
   "outputs": [
    {
     "name": "stdout",
     "output_type": "stream",
     "text": [
      "{45, 4, 5, 23}\n",
      " \n"
     ]
    }
   ],
   "source": [
    "for i in l:\n",
    "    if type(i) == set:\n",
    "        print(i)\n",
    "else:\n",
    "    print(\" \")"
   ]
  },
  {
   "cell_type": "markdown",
   "id": "0553a115",
   "metadata": {},
   "source": [
    "# q6 : Try to extract all the numerical data it may b a part of dict key and values \n"
   ]
  },
  {
   "cell_type": "code",
   "execution_count": 127,
   "id": "0208ff67",
   "metadata": {},
   "outputs": [
    {
     "data": {
      "text/plain": [
       "[[1, 2, 3, 4],\n",
       " (2, 3, 4, 5, 6),\n",
       " (3, 4, 5, 6, 7),\n",
       " {4, 5, 23, 45},\n",
       " {'k1': 'sudh', 'k2': 'ineuron', 'k3': 'kumar', 3: 6, 7: 8},\n",
       " ['ineuron', 'data science ']]"
      ]
     },
     "execution_count": 127,
     "metadata": {},
     "output_type": "execute_result"
    }
   ],
   "source": [
    "l"
   ]
  },
  {
   "cell_type": "code",
   "execution_count": 134,
   "id": "a3ecafe4",
   "metadata": {},
   "outputs": [
    {
     "name": "stdout",
     "output_type": "stream",
     "text": [
      "1\n",
      "2\n",
      "3\n",
      "4\n",
      "2\n",
      "3\n",
      "4\n",
      "5\n",
      "6\n",
      "3\n",
      "4\n",
      "5\n",
      "6\n",
      "7\n",
      "5\n",
      "4\n",
      "45\n",
      "23\n",
      "3\n",
      "7\n",
      "11\n",
      "9\n"
     ]
    }
   ],
   "source": [
    "for i in l:\n",
    "    if type(i) == list or type(i) == dict or type(i) == tuple or type(i) == set:\n",
    "        for j in i:\n",
    "            if type(j) == int:\n",
    "                print(j)\n",
    "for h in d.values():\n",
    "    if type(h) == int:\n",
    "        print(h)"
   ]
  },
  {
   "cell_type": "markdown",
   "id": "d104cab0",
   "metadata": {},
   "source": [
    "# q7 : Try to give summation of all the numeric data \n"
   ]
  },
  {
   "cell_type": "code",
   "execution_count": 53,
   "id": "19cf6c22",
   "metadata": {},
   "outputs": [
    {
     "name": "stdout",
     "output_type": "stream",
     "text": [
      "142\n"
     ]
    }
   ],
   "source": [
    "k = []\n",
    "for i in l:\n",
    "    if type(i) == tuple or type(i) == list or type(i) == dict or type(i) == set:\n",
    "        for j in i:\n",
    "            if type(j) == int:\n",
    "                k.append(j)\n",
    "print(sum(k))"
   ]
  },
  {
   "cell_type": "code",
   "execution_count": 122,
   "id": "4dd4c87f",
   "metadata": {},
   "outputs": [
    {
     "name": "stdout",
     "output_type": "stream",
     "text": [
      "142\n"
     ]
    }
   ],
   "source": [
    "k = []\n",
    "for i in l:\n",
    "    if type(i) == tuple or type(i) == list or type(i) == dict or type(i) == set:\n",
    "        for j in i:\n",
    "            if type(j) == int:\n",
    "                k.append(j)\n",
    "print(sum(k))     "
   ]
  },
  {
   "cell_type": "markdown",
   "id": "ac21cc3d",
   "metadata": {},
   "source": [
    "# q8 : Try to filter out all the odd values out all numeric data which is a part of a list \n"
   ]
  },
  {
   "cell_type": "code",
   "execution_count": 120,
   "id": "a3240374",
   "metadata": {},
   "outputs": [],
   "source": [
    "l = [[1, 2, 3, 4],\n",
    " (2, 3, 4, 5, 6),\n",
    " (3, 4, 5, 6, 7),\n",
    " {4, 5, 23, 45},\n",
    " {'k1': 'sudh', 'k2': 'ineuron', 'k3': 'kumar', 3: 6, 7: 8},\n",
    " ['ineuron', 'data science ']]"
   ]
  },
  {
   "cell_type": "code",
   "execution_count": 154,
   "id": "f6eddbc0",
   "metadata": {},
   "outputs": [
    {
     "name": "stdout",
     "output_type": "stream",
     "text": [
      "[1, 2, 3, 4]\n"
     ]
    }
   ],
   "source": [
    "k = []\n",
    "for i in l:\n",
    "    if type(i) == list:\n",
    "        for j in i:\n",
    "            if type(j)== int :\n",
    "                k.append(j)\n",
    "print(k)"
   ]
  },
  {
   "cell_type": "markdown",
   "id": "da654e36",
   "metadata": {},
   "source": [
    "# q9 : Try to extract \"ineruon\" out of this data\n"
   ]
  },
  {
   "cell_type": "code",
   "execution_count": 141,
   "id": "7512b556",
   "metadata": {},
   "outputs": [
    {
     "name": "stdout",
     "output_type": "stream",
     "text": [
      "ineuron\n"
     ]
    }
   ],
   "source": [
    "for i in l:\n",
    "    if type(i) == dict:\n",
    "        for j in i.values():\n",
    "            if j == 'ineuron':\n",
    "                print(j)"
   ]
  },
  {
   "cell_type": "markdown",
   "id": "1b409146",
   "metadata": {},
   "source": [
    "# q10 :Try to find out a number of occurances of all the data \n"
   ]
  },
  {
   "cell_type": "code",
   "execution_count": null,
   "id": "df81ddd1",
   "metadata": {},
   "outputs": [],
   "source": []
  },
  {
   "cell_type": "markdown",
   "id": "a3b6d37f",
   "metadata": {},
   "source": [
    "# q11 : Try to find out number of keys in dict element\n"
   ]
  },
  {
   "cell_type": "code",
   "execution_count": 144,
   "id": "9edb60e6",
   "metadata": {},
   "outputs": [
    {
     "name": "stdout",
     "output_type": "stream",
     "text": [
      "k1\n",
      "k2\n",
      "k3\n",
      "3\n",
      "7\n"
     ]
    }
   ],
   "source": [
    "for i in l:\n",
    "    if type(i) == dict:\n",
    "        for j in i.keys():\n",
    "            print(j)"
   ]
  },
  {
   "cell_type": "markdown",
   "id": "c75cbdc9",
   "metadata": {},
   "source": [
    "# q12 : Try to filter out all the string data "
   ]
  },
  {
   "cell_type": "code",
   "execution_count": 153,
   "id": "eb073fde",
   "metadata": {},
   "outputs": [
    {
     "name": "stdout",
     "output_type": "stream",
     "text": [
      "No data type is string\n"
     ]
    }
   ],
   "source": [
    "for i in l:\n",
    "    if type(i) == list or type(i) == tuple or type(i) == dict or type(i) == str:\n",
    "        for j in i:\n",
    "            if type(i) == str:\n",
    "                print(j)\n",
    "    else:\n",
    "        print(\"No data type is string\")"
   ]
  },
  {
   "cell_type": "markdown",
   "id": "e312805f",
   "metadata": {},
   "source": [
    "# q13 : Try to Find  out alphanum in data"
   ]
  },
  {
   "cell_type": "code",
   "execution_count": 167,
   "id": "4958862a",
   "metadata": {},
   "outputs": [
    {
     "data": {
      "text/plain": [
       "False"
      ]
     },
     "execution_count": 167,
     "metadata": {},
     "output_type": "execute_result"
    }
   ],
   "source": [
    "s = str(l)\n",
    "s.isalnum()"
   ]
  },
  {
   "cell_type": "markdown",
   "id": "b8d700a1",
   "metadata": {},
   "source": [
    "# q14 : Try to find out multiplication of all numeric value in  the individual collection inside dataset "
   ]
  },
  {
   "cell_type": "code",
   "execution_count": 4,
   "id": "ca531fcb",
   "metadata": {},
   "outputs": [],
   "source": [
    "l = [[1, 2, 3, 4],\n",
    " (2, 3, 4, 5, 6),\n",
    " (3, 4, 5, 6, 7),\n",
    " {4, 5, 23, 45},\n",
    " {'k1': 'sudh', 'k2': 'ineuron', 'k3': 'kumar', 3: 6, 7: 8},\n",
    " ['ineuron', 'data science ']]"
   ]
  },
  {
   "cell_type": "code",
   "execution_count": 24,
   "id": "4fc0155d",
   "metadata": {},
   "outputs": [
    {
     "name": "stdout",
     "output_type": "stream",
     "text": [
      "1\n",
      "2\n",
      "6\n",
      "24\n"
     ]
    }
   ],
   "source": [
    "k = 1\n",
    "l2 = []\n",
    "for i in l:\n",
    "    if type(i) == list:\n",
    "        for j in i:\n",
    "            if type(j) == int:\n",
    "                k = k * j\n",
    "                print(k)"
   ]
  },
  {
   "cell_type": "code",
   "execution_count": 25,
   "id": "0f7e66a8",
   "metadata": {},
   "outputs": [
    {
     "name": "stdout",
     "output_type": "stream",
     "text": [
      "2\n",
      "6\n",
      "24\n",
      "120\n",
      "720\n",
      "2160\n",
      "8640\n",
      "43200\n",
      "259200\n",
      "1814400\n"
     ]
    }
   ],
   "source": [
    "m = 1\n",
    "l2 = ()\n",
    "for i in l:\n",
    "    if type(i) == tuple:\n",
    "        for j in i:\n",
    "            if type(j) == int:\n",
    "                m = m * j\n",
    "                print(m)"
   ]
  },
  {
   "cell_type": "code",
   "execution_count": 26,
   "id": "2c0ee0e5",
   "metadata": {},
   "outputs": [
    {
     "name": "stdout",
     "output_type": "stream",
     "text": [
      "3\n",
      "21\n"
     ]
    }
   ],
   "source": [
    "v = 1\n",
    "l2 = {}\n",
    "for i in l:\n",
    "    if type(i) == dict:\n",
    "        for j in i:\n",
    "            if type(j) == int:\n",
    "                v = v * j\n",
    "                print(v)"
   ]
  },
  {
   "cell_type": "code",
   "execution_count": 21,
   "id": "4212c36b",
   "metadata": {},
   "outputs": [
    {
     "name": "stdout",
     "output_type": "stream",
     "text": [
      "[24, 17280, 43545600, 901393920000, 18929272320000, 18929272320000]\n"
     ]
    }
   ],
   "source": [
    "k = 1\n",
    "l2 = []\n",
    "l3 = []\n",
    "for i in l:\n",
    "    if type(i) in [list , tuple, set, dict]:\n",
    "        for j in i:\n",
    "            if type(j) == int:\n",
    "                k = k*j\n",
    "                continue\n",
    "        l2.append(k)\n",
    "    else:\n",
    "        l3.append(i)\n",
    "print(l2)"
   ]
  },
  {
   "cell_type": "code",
   "execution_count": null,
   "id": "322d886e",
   "metadata": {},
   "outputs": [],
   "source": [
    "def multiplyList(yourlist) :\n",
    "     \n",
    "    k = 1\n",
    "    for x in yourlist:\n",
    "        k = k * x\n",
    "    return k\n",
    "     using this logic you can multiply elements sir "
   ]
  },
  {
   "cell_type": "code",
   "execution_count": null,
   "id": "aaf02cc6",
   "metadata": {},
   "outputs": [],
   "source": [
    "l2 = []\n",
    "for i in l:\n",
    "    if type(i) == list:\n",
    "        for j in i:\n",
    "            if type(j) == int:\n",
    "                l2.append(j)\n",
    "def multiplyList(l2):\n",
    "    k = 1\n",
    "    for x in l2:\n",
    "        k = k * x\n",
    "    return k"
   ]
  },
  {
   "cell_type": "markdown",
   "id": "66b578a1",
   "metadata": {},
   "source": [
    "# q15 : Try to unwrape all the collection inside collection and create a flat list \n"
   ]
  },
  {
   "cell_type": "code",
   "execution_count": 32,
   "id": "0a0e9ea2",
   "metadata": {},
   "outputs": [
    {
     "data": {
      "text/plain": [
       "[[1, 2, 3, 4],\n",
       " (2, 3, 4, 5, 6),\n",
       " (3, 4, 5, 6, 7),\n",
       " {4, 5, 23, 45},\n",
       " {'k1': 'sudh', 'k2': 'ineuron', 'k3': 'kumar', 3: 6, 7: 8},\n",
       " ['ineuron', 'data science ']]"
      ]
     },
     "execution_count": 32,
     "metadata": {},
     "output_type": "execute_result"
    }
   ],
   "source": [
    "l"
   ]
  },
  {
   "cell_type": "code",
   "execution_count": 44,
   "id": "25c3a363",
   "metadata": {},
   "outputs": [
    {
     "name": "stdout",
     "output_type": "stream",
     "text": [
      "[1, 2, 3, 4, 2, 3, 4, 5, 6, 3, 4, 5, 6, 7, 5, 4, 45, 23, 'k1', 'k2', 'k3', 3, 7, 'ineuron', 'data science ']\n"
     ]
    }
   ],
   "source": [
    "l2 = []\n",
    "for i in l:\n",
    "    if type(i) == list or type(i) == tuple or type(i) == dict or type(i) == set:\n",
    "        for j in i:\n",
    "            if type(j) == int or type(j) == str:\n",
    "                l2.append(j)\n",
    "print(l2)"
   ]
  },
  {
   "cell_type": "code",
   "execution_count": null,
   "id": "5ba7c853",
   "metadata": {},
   "outputs": [],
   "source": []
  }
 ],
 "metadata": {
  "kernelspec": {
   "display_name": "Python 3 (ipykernel)",
   "language": "python",
   "name": "python3"
  },
  "language_info": {
   "codemirror_mode": {
    "name": "ipython",
    "version": 3
   },
   "file_extension": ".py",
   "mimetype": "text/x-python",
   "name": "python",
   "nbconvert_exporter": "python",
   "pygments_lexer": "ipython3",
   "version": "3.9.7"
  },
  "widgets": {
   "application/vnd.jupyter.widget-state+json": {
    "state": {},
    "version_major": 2,
    "version_minor": 0
   }
  }
 },
 "nbformat": 4,
 "nbformat_minor": 5
}
