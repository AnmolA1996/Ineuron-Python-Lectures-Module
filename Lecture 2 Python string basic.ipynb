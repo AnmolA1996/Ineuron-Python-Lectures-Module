{
 "cells": [
  {
   "cell_type": "raw",
   "id": "ab6d2e20",
   "metadata": {},
   "source": [
    "string bvariable / String manipulation\n",
    "\n",
    "        its a combination of character = string \n",
    "        so everytime system will try to create indexes inside a string so based on the indexes i'll be able to extract everything. always try to use square bracker []. \n",
    "\n",
    "indexes may be both forward or backward \n",
    "ex:- s[0,1,2,3,4....] and s[....,-3,-2,-1] (negative indexes)"
   ]
  },
  {
   "cell_type": "code",
   "execution_count": 2,
   "id": "756a8c91",
   "metadata": {},
   "outputs": [],
   "source": [
    "s = \"ineuron\""
   ]
  },
  {
   "cell_type": "code",
   "execution_count": 3,
   "id": "0500e1e8",
   "metadata": {},
   "outputs": [
    {
     "data": {
      "text/plain": [
       "str"
      ]
     },
     "execution_count": 3,
     "metadata": {},
     "output_type": "execute_result"
    }
   ],
   "source": [
    "type(s)"
   ]
  },
  {
   "cell_type": "code",
   "execution_count": 4,
   "id": "893cb0d8",
   "metadata": {},
   "outputs": [
    {
     "data": {
      "text/plain": [
       "'i'"
      ]
     },
     "execution_count": 4,
     "metadata": {},
     "output_type": "execute_result"
    }
   ],
   "source": [
    "s[0]"
   ]
  },
  {
   "cell_type": "code",
   "execution_count": 5,
   "id": "1f318236",
   "metadata": {},
   "outputs": [
    {
     "data": {
      "text/plain": [
       "'o'"
      ]
     },
     "execution_count": 5,
     "metadata": {},
     "output_type": "execute_result"
    }
   ],
   "source": [
    "s[5]"
   ]
  },
  {
   "cell_type": "code",
   "execution_count": 6,
   "id": "00cca838",
   "metadata": {},
   "outputs": [
    {
     "data": {
      "text/plain": [
       "'n'"
      ]
     },
     "execution_count": 6,
     "metadata": {},
     "output_type": "execute_result"
    }
   ],
   "source": [
    "s[-1]"
   ]
  },
  {
   "cell_type": "raw",
   "id": "985ca301",
   "metadata": {},
   "source": [
    "In string i can use double course & as well as single course. \n",
    "\" \" & '' both"
   ]
  },
  {
   "cell_type": "code",
   "execution_count": 7,
   "id": "0b2477e2",
   "metadata": {},
   "outputs": [],
   "source": [
    "s1n= 'sudh'"
   ]
  },
  {
   "cell_type": "code",
   "execution_count": 8,
   "id": "22ed8600",
   "metadata": {},
   "outputs": [
    {
     "data": {
      "text/plain": [
       "'sudh'"
      ]
     },
     "execution_count": 8,
     "metadata": {},
     "output_type": "execute_result"
    }
   ],
   "source": [
    "s1n"
   ]
  },
  {
   "cell_type": "code",
   "execution_count": 9,
   "id": "cff5b81c",
   "metadata": {},
   "outputs": [
    {
     "data": {
      "text/plain": [
       "'d'"
      ]
     },
     "execution_count": 9,
     "metadata": {},
     "output_type": "execute_result"
    }
   ],
   "source": [
    "s1n[-2]"
   ]
  },
  {
   "cell_type": "code",
   "execution_count": 10,
   "id": "12a51e87",
   "metadata": {},
   "outputs": [
    {
     "data": {
      "text/plain": [
       "'h'"
      ]
     },
     "execution_count": 10,
     "metadata": {},
     "output_type": "execute_result"
    }
   ],
   "source": [
    "s1n[-1]"
   ]
  },
  {
   "cell_type": "code",
   "execution_count": 11,
   "id": "5ee29fd2",
   "metadata": {},
   "outputs": [
    {
     "ename": "SyntaxError",
     "evalue": "invalid syntax (Temp/ipykernel_12816/2465724452.py, line 1)",
     "output_type": "error",
     "traceback": [
      "\u001b[1;36m  File \u001b[1;32m\"C:\\Users\\Anmol\\AppData\\Local\\Temp/ipykernel_12816/2465724452.py\"\u001b[1;36m, line \u001b[1;32m1\u001b[0m\n\u001b[1;33m    'this is my very first programming language's'\u001b[0m\n\u001b[1;37m                                                ^\u001b[0m\n\u001b[1;31mSyntaxError\u001b[0m\u001b[1;31m:\u001b[0m invalid syntax\n"
     ]
    }
   ],
   "source": [
    "'this is my very first programming language's'\n",
    "\n",
    "here the issue is system is confused where string ends. "
   ]
  },
  {
   "cell_type": "code",
   "execution_count": 13,
   "id": "98a10e50",
   "metadata": {},
   "outputs": [],
   "source": [
    "s2 = \"this is my very first programming class's\""
   ]
  },
  {
   "cell_type": "code",
   "execution_count": 14,
   "id": "5a8f148d",
   "metadata": {},
   "outputs": [
    {
     "data": {
      "text/plain": [
       "\"this is my very first programming class's\""
      ]
     },
     "execution_count": 14,
     "metadata": {},
     "output_type": "execute_result"
    }
   ],
   "source": [
    "s2"
   ]
  },
  {
   "cell_type": "code",
   "execution_count": 15,
   "id": "b05f2e2e",
   "metadata": {},
   "outputs": [
    {
     "data": {
      "text/plain": [
       "'m'"
      ]
     },
     "execution_count": 15,
     "metadata": {},
     "output_type": "execute_result"
    }
   ],
   "source": [
    "s2[8]"
   ]
  },
  {
   "cell_type": "code",
   "execution_count": 16,
   "id": "a4f47c35",
   "metadata": {},
   "outputs": [
    {
     "data": {
      "text/plain": [
       "'his '"
      ]
     },
     "execution_count": 16,
     "metadata": {},
     "output_type": "execute_result"
    }
   ],
   "source": [
    "s2[1:5]"
   ]
  },
  {
   "cell_type": "raw",
   "id": "b97809f2",
   "metadata": {},
   "source": [
    "this time we are not trying to extract single character from the string but we are trying to extracting in between indexes multiple. But it wil exclude the upper bound 5 from [1:5]. It will always starts from 1 go till 5 but it will exclude 5"
   ]
  },
  {
   "cell_type": "code",
   "execution_count": 17,
   "id": "ee5a5837",
   "metadata": {},
   "outputs": [
    {
     "data": {
      "text/plain": [
       "'s my very first programm'"
      ]
     },
     "execution_count": 17,
     "metadata": {},
     "output_type": "execute_result"
    }
   ],
   "source": [
    "s2[6:30]"
   ]
  },
  {
   "cell_type": "raw",
   "id": "2b44e568",
   "metadata": {},
   "source": [
    "here you can see data extraction. but we can use one more method in which i can extract characters from the string using jump/skip method "
   ]
  },
  {
   "cell_type": "code",
   "execution_count": 18,
   "id": "23316062",
   "metadata": {},
   "outputs": [
    {
     "data": {
      "text/plain": [
       "'sm eyfrtporm'"
      ]
     },
     "execution_count": 18,
     "metadata": {},
     "output_type": "execute_result"
    }
   ],
   "source": [
    "s2[6:30:2]"
   ]
  },
  {
   "cell_type": "code",
   "execution_count": 19,
   "id": "29963de1",
   "metadata": {},
   "outputs": [],
   "source": [
    "s = \"sudhanshu\""
   ]
  },
  {
   "cell_type": "code",
   "execution_count": 20,
   "id": "7277eef0",
   "metadata": {},
   "outputs": [
    {
     "data": {
      "text/plain": [
       "'sudhanshu'"
      ]
     },
     "execution_count": 20,
     "metadata": {},
     "output_type": "execute_result"
    }
   ],
   "source": [
    "s"
   ]
  },
  {
   "cell_type": "code",
   "execution_count": 21,
   "id": "31fbf085",
   "metadata": {},
   "outputs": [
    {
     "data": {
      "text/plain": [
       "'s'"
      ]
     },
     "execution_count": 21,
     "metadata": {},
     "output_type": "execute_result"
    }
   ],
   "source": [
    "s[0]"
   ]
  },
  {
   "cell_type": "code",
   "execution_count": 22,
   "id": "ecc5e567",
   "metadata": {},
   "outputs": [
    {
     "data": {
      "text/plain": [
       "'sdasu'"
      ]
     },
     "execution_count": 22,
     "metadata": {},
     "output_type": "execute_result"
    }
   ],
   "source": [
    "s[0:9:2]"
   ]
  },
  {
   "cell_type": "code",
   "execution_count": 23,
   "id": "91751e25",
   "metadata": {},
   "outputs": [
    {
     "data": {
      "text/plain": [
       "'sudhanshu'"
      ]
     },
     "execution_count": 23,
     "metadata": {},
     "output_type": "execute_result"
    }
   ],
   "source": [
    "s[0:9:1]"
   ]
  },
  {
   "cell_type": "code",
   "execution_count": 24,
   "id": "231e3596",
   "metadata": {},
   "outputs": [
    {
     "data": {
      "text/plain": [
       "''"
      ]
     },
     "execution_count": 24,
     "metadata": {},
     "output_type": "execute_result"
    }
   ],
   "source": [
    "s[0:8:-1]"
   ]
  },
  {
   "cell_type": "raw",
   "id": "685097d9",
   "metadata": {},
   "source": [
    "it means starts from zero go till eight and jump with -1\n",
    "S U D H A N S H U \n",
    "0 1 2 3 4 5 6 7 8\n",
    "------------------> this is the direction that i have defined so jump into a \n",
    "negative direction\n",
    "\n",
    "how it is creating jump into negative direction so it is creating contradiction in the statement that \n",
    "is why its showing blank ''. "
   ]
  },
  {
   "cell_type": "code",
   "execution_count": 25,
   "id": "b11fb73e",
   "metadata": {},
   "outputs": [
    {
     "data": {
      "text/plain": [
       "'uhsnahdu'"
      ]
     },
     "execution_count": 25,
     "metadata": {},
     "output_type": "execute_result"
    }
   ],
   "source": [
    "s[8:0:-1]"
   ]
  },
  {
   "cell_type": "raw",
   "id": "353bfc28",
   "metadata": {},
   "source": [
    "it means start from EIGHT GO TILL zero \n",
    "S U D H A N S H U \n",
    "0 1 2 3 4 5 6 7 8\n",
    "<-----------------\n",
    "so here we mentioned try to jump into begative direction\n",
    "therefore,  there is no contradiction at all. \n",
    "s[8:0:-1]\n",
    "\n",
    "this time it will starts from 8 but upper bound will reach till 1 because upper bound is 0\n",
    "so it starts from 8 go till zero but excluding zero in a reverse jump with -1. "
   ]
  },
  {
   "cell_type": "code",
   "execution_count": 27,
   "id": "0b896e1e",
   "metadata": {},
   "outputs": [
    {
     "data": {
      "text/plain": [
       "'usad'"
      ]
     },
     "execution_count": 27,
     "metadata": {},
     "output_type": "execute_result"
    }
   ],
   "source": [
    "s[8:0:-2]"
   ]
  },
  {
   "cell_type": "code",
   "execution_count": 26,
   "id": "bb15adf4",
   "metadata": {},
   "outputs": [
    {
     "data": {
      "text/plain": [
       "'sudhan'"
      ]
     },
     "execution_count": 26,
     "metadata": {},
     "output_type": "execute_result"
    }
   ],
   "source": [
    "s[:-3]"
   ]
  },
  {
   "cell_type": "raw",
   "id": "8457a8be",
   "metadata": {},
   "source": [
    "here, what it means it doesn't specified upper or lower bound only,\n",
    "it is saying that it starts from -3 in a reverse direction. \n",
    "\n",
    "S U D H A N S H U\n",
    "0 1 2 3 4 5 6 7 8\n",
    "-9-8-7-6-5-4-3-2-1\n",
    "\n",
    "s[8:0:-2]"
   ]
  },
  {
   "cell_type": "raw",
   "id": "f1fad122",
   "metadata": {},
   "source": [
    "\n",
    "in below extract i did not menntioned any upper bound so this will go till last character o a string. "
   ]
  },
  {
   "cell_type": "code",
   "execution_count": 28,
   "id": "bcbc35f0",
   "metadata": {},
   "outputs": [
    {
     "data": {
      "text/plain": [
       "'sudhanshu'"
      ]
     },
     "execution_count": 28,
     "metadata": {},
     "output_type": "execute_result"
    }
   ],
   "source": [
    "s[::1]"
   ]
  },
  {
   "cell_type": "code",
   "execution_count": 29,
   "id": "1b2e710a",
   "metadata": {},
   "outputs": [
    {
     "data": {
      "text/plain": [
       "'sudhanshu'"
      ]
     },
     "execution_count": 29,
     "metadata": {},
     "output_type": "execute_result"
    }
   ],
   "source": [
    "s[0:50:1]"
   ]
  },
  {
   "cell_type": "code",
   "execution_count": 30,
   "id": "71c7a6d6",
   "metadata": {},
   "outputs": [
    {
     "data": {
      "text/plain": [
       "'uhsnahdus'"
      ]
     },
     "execution_count": 30,
     "metadata": {},
     "output_type": "execute_result"
    }
   ],
   "source": [
    "s[::-1]"
   ]
  },
  {
   "cell_type": "raw",
   "id": "670f4926",
   "metadata": {},
   "source": [
    "Here you can see it is trying to reverse the string only."
   ]
  },
  {
   "cell_type": "code",
   "execution_count": 31,
   "id": "be32fe49",
   "metadata": {},
   "outputs": [
    {
     "data": {
      "text/plain": [
       "\"this is my very first programming class's\""
      ]
     },
     "execution_count": 31,
     "metadata": {},
     "output_type": "execute_result"
    }
   ],
   "source": [
    "s2"
   ]
  },
  {
   "cell_type": "markdown",
   "id": "f61fae24",
   "metadata": {},
   "source": [
    "s2[::-1]"
   ]
  },
  {
   "cell_type": "code",
   "execution_count": 32,
   "id": "61197616",
   "metadata": {},
   "outputs": [
    {
     "data": {
      "text/plain": [
       "\"s'ssalc gnimmargorp tsrif yrev ym si siht\""
      ]
     },
     "execution_count": 32,
     "metadata": {},
     "output_type": "execute_result"
    }
   ],
   "source": [
    "s2[::-1]"
   ]
  },
  {
   "cell_type": "code",
   "execution_count": 33,
   "id": "2fcc883f",
   "metadata": {},
   "outputs": [
    {
     "data": {
      "text/plain": [
       "'uhsnahdu'"
      ]
     },
     "execution_count": 33,
     "metadata": {},
     "output_type": "execute_result"
    }
   ],
   "source": [
    "s[8:0:-1]"
   ]
  },
  {
   "cell_type": "code",
   "execution_count": 34,
   "id": "32ea6f0e",
   "metadata": {},
   "outputs": [
    {
     "data": {
      "text/plain": [
       "'sudhanshu'"
      ]
     },
     "execution_count": 34,
     "metadata": {},
     "output_type": "execute_result"
    }
   ],
   "source": [
    "s"
   ]
  },
  {
   "cell_type": "code",
   "execution_count": 35,
   "id": "d2ebb199",
   "metadata": {},
   "outputs": [],
   "source": [
    "s3 = 'ineuron'"
   ]
  },
  {
   "cell_type": "code",
   "execution_count": 36,
   "id": "c92a6c92",
   "metadata": {},
   "outputs": [
    {
     "data": {
      "text/plain": [
       "'norueni'"
      ]
     },
     "execution_count": 36,
     "metadata": {},
     "output_type": "execute_result"
    }
   ],
   "source": [
    "s3[::-1]"
   ]
  },
  {
   "cell_type": "code",
   "execution_count": 37,
   "id": "4f52f6bb",
   "metadata": {},
   "outputs": [
    {
     "data": {
      "text/plain": [
       "''"
      ]
     },
     "execution_count": 37,
     "metadata": {},
     "output_type": "execute_result"
    }
   ],
   "source": [
    "s3[-2:-7:1]"
   ]
  },
  {
   "cell_type": "code",
   "execution_count": 38,
   "id": "d9c32310",
   "metadata": {},
   "outputs": [
    {
     "data": {
      "text/plain": [
       "'ineur'"
      ]
     },
     "execution_count": 38,
     "metadata": {},
     "output_type": "execute_result"
    }
   ],
   "source": [
    "s3[-7:-2:1]"
   ]
  },
  {
   "cell_type": "raw",
   "id": "17a5276b",
   "metadata": {},
   "source": [
    "0 1 2 3 4 5 6\n",
    "I N E U R O N\n",
    "-7-6-5-4-3-2-1\n",
    "->---------> IT GOES LIKE THIS \n",
    "but it will exclude upper bound & it will go till jump 1 \n",
    "s3[-7:-2:1]"
   ]
  },
  {
   "cell_type": "code",
   "execution_count": 39,
   "id": "3c3fb581",
   "metadata": {},
   "outputs": [
    {
     "data": {
      "text/plain": [
       "''"
      ]
     },
     "execution_count": 39,
     "metadata": {},
     "output_type": "execute_result"
    }
   ],
   "source": [
    "s[5:0]"
   ]
  },
  {
   "cell_type": "raw",
   "id": "933c1ae7",
   "metadata": {},
   "source": [
    "by default if you' won't mentioned jump direction it will consider +1 .\n",
    "s[5:0]\n",
    "here you can see\n",
    "S U D H A N S H U\n",
    "0 1 2 3 4 5 6 7 8\n",
    "-9-8-7-6-5-4-3-2-1\n",
    "\n",
    "it means it is starts from to 0 exluding zero by default jump direction \n",
    "is positive  so it contradicts & showing blank"
   ]
  },
  {
   "cell_type": "code",
   "execution_count": 40,
   "id": "430711fe",
   "metadata": {},
   "outputs": [
    {
     "data": {
      "text/plain": [
       "''"
      ]
     },
     "execution_count": 40,
     "metadata": {},
     "output_type": "execute_result"
    }
   ],
   "source": [
    "s3[-7:0:1]"
   ]
  },
  {
   "cell_type": "raw",
   "id": "c9ba1ec9",
   "metadata": {},
   "source": [
    "----------------------------------------\n",
    "-7-6-5-4-3-2-1 0 1 2 3 4 5 6 7\n",
    "--------------->\n",
    "and jump must be starts into positive direction "
   ]
  },
  {
   "cell_type": "code",
   "execution_count": 42,
   "id": "9cec4f14",
   "metadata": {},
   "outputs": [
    {
     "data": {
      "text/plain": [
       "''"
      ]
     },
     "execution_count": 42,
     "metadata": {},
     "output_type": "execute_result"
    }
   ],
   "source": [
    "s[:-1:-1]"
   ]
  },
  {
   "cell_type": "code",
   "execution_count": 43,
   "id": "50b46029",
   "metadata": {},
   "outputs": [
    {
     "data": {
      "text/plain": [
       "'sudhanshu'"
      ]
     },
     "execution_count": 43,
     "metadata": {},
     "output_type": "execute_result"
    }
   ],
   "source": [
    "s"
   ]
  },
  {
   "cell_type": "code",
   "execution_count": 44,
   "id": "f51ed87c",
   "metadata": {},
   "outputs": [
    {
     "ename": "TypeError",
     "evalue": "can only concatenate str (not \"int\") to str",
     "output_type": "error",
     "traceback": [
      "\u001b[1;31m---------------------------------------------------------------------------\u001b[0m",
      "\u001b[1;31mTypeError\u001b[0m                                 Traceback (most recent call last)",
      "\u001b[1;32m~\\AppData\\Local\\Temp/ipykernel_12816/3893389454.py\u001b[0m in \u001b[0;36m<module>\u001b[1;34m\u001b[0m\n\u001b[1;32m----> 1\u001b[1;33m \u001b[0ms\u001b[0m \u001b[1;33m+\u001b[0m \u001b[1;36m1\u001b[0m\u001b[1;33m\u001b[0m\u001b[1;33m\u001b[0m\u001b[0m\n\u001b[0m",
      "\u001b[1;31mTypeError\u001b[0m: can only concatenate str (not \"int\") to str"
     ]
    }
   ],
   "source": [
    "s + 1"
   ]
  },
  {
   "cell_type": "raw",
   "id": "ab8bb75c",
   "metadata": {},
   "source": [
    "we can convert anything into different data type \n",
    "if you want to perform concatenation operation it can perform f"
   ]
  },
  {
   "cell_type": "code",
   "execution_count": 45,
   "id": "c7a69d22",
   "metadata": {},
   "outputs": [
    {
     "data": {
      "text/plain": [
       "'sudhanshu1'"
      ]
     },
     "execution_count": 45,
     "metadata": {},
     "output_type": "execute_result"
    }
   ],
   "source": [
    "s + '1'"
   ]
  },
  {
   "cell_type": "code",
   "execution_count": 46,
   "id": "3b32650b",
   "metadata": {},
   "outputs": [
    {
     "data": {
      "text/plain": [
       "'sudhanshu1'"
      ]
     },
     "execution_count": 46,
     "metadata": {},
     "output_type": "execute_result"
    }
   ],
   "source": [
    "s + str(1)"
   ]
  },
  {
   "cell_type": "code",
   "execution_count": 47,
   "id": "176c3392",
   "metadata": {},
   "outputs": [
    {
     "ename": "TypeError",
     "evalue": "can only concatenate str (not \"int\") to str",
     "output_type": "error",
     "traceback": [
      "\u001b[1;31m---------------------------------------------------------------------------\u001b[0m",
      "\u001b[1;31mTypeError\u001b[0m                                 Traceback (most recent call last)",
      "\u001b[1;32m~\\AppData\\Local\\Temp/ipykernel_12816/2424447823.py\u001b[0m in \u001b[0;36m<module>\u001b[1;34m\u001b[0m\n\u001b[1;32m----> 1\u001b[1;33m \u001b[1;34m\"sudh\"\u001b[0m \u001b[1;33m+\u001b[0m \u001b[1;36m66666666666666\u001b[0m\u001b[1;33m\u001b[0m\u001b[1;33m\u001b[0m\u001b[0m\n\u001b[0m",
      "\u001b[1;31mTypeError\u001b[0m: can only concatenate str (not \"int\") to str"
     ]
    }
   ],
   "source": [
    "\"sudh\" + 66666666666666"
   ]
  },
  {
   "cell_type": "code",
   "execution_count": 48,
   "id": "a6c40d5c",
   "metadata": {},
   "outputs": [
    {
     "data": {
      "text/plain": [
       "'sudh666666666666'"
      ]
     },
     "execution_count": 48,
     "metadata": {},
     "output_type": "execute_result"
    }
   ],
   "source": [
    "\"sudh\" + \"666666666666\""
   ]
  },
  {
   "cell_type": "code",
   "execution_count": 49,
   "id": "405e82b5",
   "metadata": {},
   "outputs": [
    {
     "data": {
      "text/plain": [
       "'sudhanshu'"
      ]
     },
     "execution_count": 49,
     "metadata": {},
     "output_type": "execute_result"
    }
   ],
   "source": [
    "s"
   ]
  },
  {
   "cell_type": "code",
   "execution_count": 50,
   "id": "a3ba1477",
   "metadata": {},
   "outputs": [
    {
     "data": {
      "text/plain": [
       "9"
      ]
     },
     "execution_count": 50,
     "metadata": {},
     "output_type": "execute_result"
    }
   ],
   "source": [
    "len(s)"
   ]
  },
  {
   "cell_type": "code",
   "execution_count": 51,
   "id": "a549fad9",
   "metadata": {},
   "outputs": [
    {
     "data": {
      "text/plain": [
       "'sudhanshusudhanshu'"
      ]
     },
     "execution_count": 51,
     "metadata": {},
     "output_type": "execute_result"
    }
   ],
   "source": [
    "s *2 "
   ]
  },
  {
   "cell_type": "raw",
   "id": "48689bf0",
   "metadata": {},
   "source": [
    "muletiplication with string can be done because it simply means,\n",
    "it is going to repeat itself."
   ]
  },
  {
   "cell_type": "code",
   "execution_count": 53,
   "id": "b2794b82",
   "metadata": {},
   "outputs": [
    {
     "data": {
      "text/plain": [
       "2"
      ]
     },
     "execution_count": 53,
     "metadata": {},
     "output_type": "execute_result"
    }
   ],
   "source": [
    "s.count('s')"
   ]
  },
  {
   "cell_type": "code",
   "execution_count": 54,
   "id": "cc23defc",
   "metadata": {},
   "outputs": [
    {
     "data": {
      "text/plain": [
       "0"
      ]
     },
     "execution_count": 54,
     "metadata": {},
     "output_type": "execute_result"
    }
   ],
   "source": [
    "s.count('sum')"
   ]
  },
  {
   "cell_type": "raw",
   "id": "80bfd98a",
   "metadata": {},
   "source": [
    "Function of s.count is to confirm how many times string chsracter or\n",
    "character combination is repeating in string"
   ]
  },
  {
   "cell_type": "code",
   "execution_count": 55,
   "id": "7e79d22e",
   "metadata": {},
   "outputs": [
    {
     "data": {
      "text/plain": [
       "['s', 'dhansh', '']"
      ]
     },
     "execution_count": 55,
     "metadata": {},
     "output_type": "execute_result"
    }
   ],
   "source": [
    "s.split('u')"
   ]
  },
  {
   "cell_type": "code",
   "execution_count": 56,
   "id": "940a4e2b",
   "metadata": {},
   "outputs": [
    {
     "data": {
      "text/plain": [
       "list"
      ]
     },
     "execution_count": 56,
     "metadata": {},
     "output_type": "execute_result"
    }
   ],
   "source": [
    "type(s.split('u'))"
   ]
  },
  {
   "cell_type": "raw",
   "id": "ceb7a4fc",
   "metadata": {},
   "source": [
    "split function is basically saying that u is working in this string, \n",
    "as splitter or seprator of a data inside a string, "
   ]
  },
  {
   "cell_type": "code",
   "execution_count": 58,
   "id": "515769a2",
   "metadata": {},
   "outputs": [],
   "source": [
    "sw = \"chrome-extension://mhffmephdchhhbfjmdpoaldedhhdanbn/homePage.html\""
   ]
  },
  {
   "cell_type": "code",
   "execution_count": 59,
   "id": "70a29bc0",
   "metadata": {},
   "outputs": [
    {
     "data": {
      "text/plain": [
       "'chrome-extension://mhffmephdchhhbfjmdpoaldedhhdanbn/homePage.html'"
      ]
     },
     "execution_count": 59,
     "metadata": {},
     "output_type": "execute_result"
    }
   ],
   "source": [
    "sw"
   ]
  },
  {
   "cell_type": "code",
   "execution_count": 61,
   "id": "3f08c4b8",
   "metadata": {},
   "outputs": [
    {
     "data": {
      "text/plain": [
       "['chro',\n",
       " 'e-extension://',\n",
       " 'hff',\n",
       " 'ephdchhhbfj',\n",
       " 'dpoaldedhhdanbn/ho',\n",
       " 'ePage.ht',\n",
       " 'l']"
      ]
     },
     "execution_count": 61,
     "metadata": {},
     "output_type": "execute_result"
    }
   ],
   "source": [
    "sw.split('m')"
   ]
  },
  {
   "cell_type": "code",
   "execution_count": 63,
   "id": "ae01351f",
   "metadata": {},
   "outputs": [],
   "source": [
    "swe = \"\"\"The samsung group or simply samsung, stylized,as samsung\"\"\""
   ]
  },
  {
   "cell_type": "raw",
   "id": "44c0b131",
   "metadata": {},
   "source": [
    "triple quotes can be used for multy line comment now if i am going to execute multiline comment \n",
    "with split or string function with seprator it will execute \n"
   ]
  },
  {
   "cell_type": "code",
   "execution_count": 64,
   "id": "3afd672f",
   "metadata": {},
   "outputs": [
    {
     "data": {
      "text/plain": [
       "['The',\n",
       " 'samsung',\n",
       " 'group',\n",
       " 'or',\n",
       " 'simply',\n",
       " 'samsung,',\n",
       " 'stylized,as',\n",
       " 'samsung']"
      ]
     },
     "execution_count": 64,
     "metadata": {},
     "output_type": "execute_result"
    }
   ],
   "source": [
    "swe.split(' ')"
   ]
  },
  {
   "cell_type": "raw",
   "id": "3a3cd7e3",
   "metadata": {},
   "source": [
    "from above data set of a string we can perform multiple operation with the elp of python to replace or \n",
    "manipulation with data set that we'll discuss later. "
   ]
  },
  {
   "cell_type": "code",
   "execution_count": 65,
   "id": "f15e9d56",
   "metadata": {},
   "outputs": [],
   "source": [
    "sf = \"\"\"The Samsung Group[3] (or simply Samsung, stylized as SΛMSUNG) (Korean: 삼성 [samsʌŋ]) is a South Korean multinational manufacturing conglomerate headquartered in Samsung Town, Seoul, South Korea.[1] It comprises numerous affiliated businesses,[1] most of them united under the Samsung brand, and is the largest South Korean chaebol (business conglomerate). As of 2020, Samsung has the 8th highest global brand value.[4]\n",
    "\n",
    "Samsung was founded by Lee Byung-chul in 1938 as a trading company. Over the next three decades, the group diversified into areas including food processing, textiles, insurance, securities, and retail. Samsung entered the electronics industry in the late 1960s and the construction and shipbuilding industries in the mid-1970s; these areas would drive its subsequent growth. Following Lee's death in 1987, Samsung was separated into five business groups – Samsung Group, Shinsegae Group, CJ Group and Hansol Group, and Joongang Group.\n",
    "\n",
    "Notable Samsung industrial affiliates include Samsung Electronics (the world's largest information technology company, consumer electronics maker and chipmaker measured by 2017 revenues),[5][6] Samsung Heavy Industries (the world's 2nd largest shipbuilder measured by 2010 revenues),[7] and Samsung Engineering and Samsung C&T Corporation (respectively the world's 13th and 36th largest construction companies).[8] Other notable subsidiaries include Samsung Life Insurance (the world's 14th largest life insurance company),[9] Samsung Everland (operator of Everland Resort, the oldest theme park in South Korea)[10] and Cheil Worldwide (the world's 15th largest advertising agency, as measured by 2012 revenues).[11][12]\n",
    "\n",
    "\"\"\""
   ]
  },
  {
   "cell_type": "code",
   "execution_count": 66,
   "id": "fefea68f",
   "metadata": {},
   "outputs": [
    {
     "data": {
      "text/plain": [
       "\"The Samsung Group[3] (or simply Samsung, stylized as SΛMSUNG) (Korean: 삼성 [samsʌŋ]) is a South Korean multinational manufacturing conglomerate headquartered in Samsung Town, Seoul, South Korea.[1] It comprises numerous affiliated businesses,[1] most of them united under the Samsung brand, and is the largest South Korean chaebol (business conglomerate). As of 2020, Samsung has the 8th highest global brand value.[4]\\n\\nSamsung was founded by Lee Byung-chul in 1938 as a trading company. Over the next three decades, the group diversified into areas including food processing, textiles, insurance, securities, and retail. Samsung entered the electronics industry in the late 1960s and the construction and shipbuilding industries in the mid-1970s; these areas would drive its subsequent growth. Following Lee's death in 1987, Samsung was separated into five business groups – Samsung Group, Shinsegae Group, CJ Group and Hansol Group, and Joongang Group.\\n\\nNotable Samsung industrial affiliates include Samsung Electronics (the world's largest information technology company, consumer electronics maker and chipmaker measured by 2017 revenues),[5][6] Samsung Heavy Industries (the world's 2nd largest shipbuilder measured by 2010 revenues),[7] and Samsung Engineering and Samsung C&T Corporation (respectively the world's 13th and 36th largest construction companies).[8] Other notable subsidiaries include Samsung Life Insurance (the world's 14th largest life insurance company),[9] Samsung Everland (operator of Everland Resort, the oldest theme park in South Korea)[10] and Cheil Worldwide (the world's 15th largest advertising agency, as measured by 2012 revenues).[11][12]\\n\\n\""
      ]
     },
     "execution_count": 66,
     "metadata": {},
     "output_type": "execute_result"
    }
   ],
   "source": [
    "sf"
   ]
  },
  {
   "cell_type": "code",
   "execution_count": 68,
   "id": "f438cac8",
   "metadata": {},
   "outputs": [
    {
     "data": {
      "text/plain": [
       "['The',\n",
       " 'Samsung',\n",
       " 'Group[3]',\n",
       " '(or',\n",
       " 'simply',\n",
       " 'Samsung,',\n",
       " 'stylized',\n",
       " 'as',\n",
       " 'SΛMSUNG)',\n",
       " '(Korean:',\n",
       " '삼성',\n",
       " '[samsʌŋ])',\n",
       " 'is',\n",
       " 'a',\n",
       " 'South',\n",
       " 'Korean',\n",
       " 'multinational',\n",
       " 'manufacturing',\n",
       " 'conglomerate',\n",
       " 'headquartered',\n",
       " 'in',\n",
       " 'Samsung',\n",
       " 'Town,',\n",
       " 'Seoul,',\n",
       " 'South',\n",
       " 'Korea.[1]',\n",
       " 'It',\n",
       " 'comprises',\n",
       " 'numerous',\n",
       " 'affiliated',\n",
       " 'businesses,[1]',\n",
       " 'most',\n",
       " 'of',\n",
       " 'them',\n",
       " 'united',\n",
       " 'under',\n",
       " 'the',\n",
       " 'Samsung',\n",
       " 'brand,',\n",
       " 'and',\n",
       " 'is',\n",
       " 'the',\n",
       " 'largest',\n",
       " 'South',\n",
       " 'Korean',\n",
       " 'chaebol',\n",
       " '(business',\n",
       " 'conglomerate).',\n",
       " 'As',\n",
       " 'of',\n",
       " '2020,',\n",
       " 'Samsung',\n",
       " 'has',\n",
       " 'the',\n",
       " '8th',\n",
       " 'highest',\n",
       " 'global',\n",
       " 'brand',\n",
       " 'value.[4]\\n\\nSamsung',\n",
       " 'was',\n",
       " 'founded',\n",
       " 'by',\n",
       " 'Lee',\n",
       " 'Byung-chul',\n",
       " 'in',\n",
       " '1938',\n",
       " 'as',\n",
       " 'a',\n",
       " 'trading',\n",
       " 'company.',\n",
       " 'Over',\n",
       " 'the',\n",
       " 'next',\n",
       " 'three',\n",
       " 'decades,',\n",
       " 'the',\n",
       " 'group',\n",
       " 'diversified',\n",
       " 'into',\n",
       " 'areas',\n",
       " 'including',\n",
       " 'food',\n",
       " 'processing,',\n",
       " 'textiles,',\n",
       " 'insurance,',\n",
       " 'securities,',\n",
       " 'and',\n",
       " 'retail.',\n",
       " 'Samsung',\n",
       " 'entered',\n",
       " 'the',\n",
       " 'electronics',\n",
       " 'industry',\n",
       " 'in',\n",
       " 'the',\n",
       " 'late',\n",
       " '1960s',\n",
       " 'and',\n",
       " 'the',\n",
       " 'construction',\n",
       " 'and',\n",
       " 'shipbuilding',\n",
       " 'industries',\n",
       " 'in',\n",
       " 'the',\n",
       " 'mid-1970s;',\n",
       " 'these',\n",
       " 'areas',\n",
       " 'would',\n",
       " 'drive',\n",
       " 'its',\n",
       " 'subsequent',\n",
       " 'growth.',\n",
       " 'Following',\n",
       " \"Lee's\",\n",
       " 'death',\n",
       " 'in',\n",
       " '1987,',\n",
       " 'Samsung',\n",
       " 'was',\n",
       " 'separated',\n",
       " 'into',\n",
       " 'five',\n",
       " 'business',\n",
       " 'groups',\n",
       " '–',\n",
       " 'Samsung',\n",
       " 'Group,',\n",
       " 'Shinsegae',\n",
       " 'Group,',\n",
       " 'CJ',\n",
       " 'Group',\n",
       " 'and',\n",
       " 'Hansol',\n",
       " 'Group,',\n",
       " 'and',\n",
       " 'Joongang',\n",
       " 'Group.\\n\\nNotable',\n",
       " 'Samsung',\n",
       " 'industrial',\n",
       " 'affiliates',\n",
       " 'include',\n",
       " 'Samsung',\n",
       " 'Electronics',\n",
       " '(the',\n",
       " \"world's\",\n",
       " 'largest',\n",
       " 'information',\n",
       " 'technology',\n",
       " 'company,',\n",
       " 'consumer',\n",
       " 'electronics',\n",
       " 'maker',\n",
       " 'and',\n",
       " 'chipmaker',\n",
       " 'measured',\n",
       " 'by',\n",
       " '2017',\n",
       " 'revenues),[5][6]',\n",
       " 'Samsung',\n",
       " 'Heavy',\n",
       " 'Industries',\n",
       " '(the',\n",
       " \"world's\",\n",
       " '2nd',\n",
       " 'largest',\n",
       " 'shipbuilder',\n",
       " 'measured',\n",
       " 'by',\n",
       " '2010',\n",
       " 'revenues),[7]',\n",
       " 'and',\n",
       " 'Samsung',\n",
       " 'Engineering',\n",
       " 'and',\n",
       " 'Samsung',\n",
       " 'C&T',\n",
       " 'Corporation',\n",
       " '(respectively',\n",
       " 'the',\n",
       " \"world's\",\n",
       " '13th',\n",
       " 'and',\n",
       " '36th',\n",
       " 'largest',\n",
       " 'construction',\n",
       " 'companies).[8]',\n",
       " 'Other',\n",
       " 'notable',\n",
       " 'subsidiaries',\n",
       " 'include',\n",
       " 'Samsung',\n",
       " 'Life',\n",
       " 'Insurance',\n",
       " '(the',\n",
       " \"world's\",\n",
       " '14th',\n",
       " 'largest',\n",
       " 'life',\n",
       " 'insurance',\n",
       " 'company),[9]',\n",
       " 'Samsung',\n",
       " 'Everland',\n",
       " '(operator',\n",
       " 'of',\n",
       " 'Everland',\n",
       " 'Resort,',\n",
       " 'the',\n",
       " 'oldest',\n",
       " 'theme',\n",
       " 'park',\n",
       " 'in',\n",
       " 'South',\n",
       " 'Korea)[10]',\n",
       " 'and',\n",
       " 'Cheil',\n",
       " 'Worldwide',\n",
       " '(the',\n",
       " \"world's\",\n",
       " '15th',\n",
       " 'largest',\n",
       " 'advertising',\n",
       " 'agency,',\n",
       " 'as',\n",
       " 'measured',\n",
       " 'by',\n",
       " '2012',\n",
       " 'revenues).[11][12]\\n\\n']"
      ]
     },
     "execution_count": 68,
     "metadata": {},
     "output_type": "execute_result"
    }
   ],
   "source": [
    "sf.split(' ')"
   ]
  },
  {
   "cell_type": "code",
   "execution_count": 69,
   "id": "2b64f41e",
   "metadata": {},
   "outputs": [
    {
     "data": {
      "text/plain": [
       "\"THE SAMSUNG GROUP[3] (OR SIMPLY SAMSUNG, STYLIZED AS SΛMSUNG) (KOREAN: 삼성 [SAMSɅŊ]) IS A SOUTH KOREAN MULTINATIONAL MANUFACTURING CONGLOMERATE HEADQUARTERED IN SAMSUNG TOWN, SEOUL, SOUTH KOREA.[1] IT COMPRISES NUMEROUS AFFILIATED BUSINESSES,[1] MOST OF THEM UNITED UNDER THE SAMSUNG BRAND, AND IS THE LARGEST SOUTH KOREAN CHAEBOL (BUSINESS CONGLOMERATE). AS OF 2020, SAMSUNG HAS THE 8TH HIGHEST GLOBAL BRAND VALUE.[4]\\n\\nSAMSUNG WAS FOUNDED BY LEE BYUNG-CHUL IN 1938 AS A TRADING COMPANY. OVER THE NEXT THREE DECADES, THE GROUP DIVERSIFIED INTO AREAS INCLUDING FOOD PROCESSING, TEXTILES, INSURANCE, SECURITIES, AND RETAIL. SAMSUNG ENTERED THE ELECTRONICS INDUSTRY IN THE LATE 1960S AND THE CONSTRUCTION AND SHIPBUILDING INDUSTRIES IN THE MID-1970S; THESE AREAS WOULD DRIVE ITS SUBSEQUENT GROWTH. FOLLOWING LEE'S DEATH IN 1987, SAMSUNG WAS SEPARATED INTO FIVE BUSINESS GROUPS – SAMSUNG GROUP, SHINSEGAE GROUP, CJ GROUP AND HANSOL GROUP, AND JOONGANG GROUP.\\n\\nNOTABLE SAMSUNG INDUSTRIAL AFFILIATES INCLUDE SAMSUNG ELECTRONICS (THE WORLD'S LARGEST INFORMATION TECHNOLOGY COMPANY, CONSUMER ELECTRONICS MAKER AND CHIPMAKER MEASURED BY 2017 REVENUES),[5][6] SAMSUNG HEAVY INDUSTRIES (THE WORLD'S 2ND LARGEST SHIPBUILDER MEASURED BY 2010 REVENUES),[7] AND SAMSUNG ENGINEERING AND SAMSUNG C&T CORPORATION (RESPECTIVELY THE WORLD'S 13TH AND 36TH LARGEST CONSTRUCTION COMPANIES).[8] OTHER NOTABLE SUBSIDIARIES INCLUDE SAMSUNG LIFE INSURANCE (THE WORLD'S 14TH LARGEST LIFE INSURANCE COMPANY),[9] SAMSUNG EVERLAND (OPERATOR OF EVERLAND RESORT, THE OLDEST THEME PARK IN SOUTH KOREA)[10] AND CHEIL WORLDWIDE (THE WORLD'S 15TH LARGEST ADVERTISING AGENCY, AS MEASURED BY 2012 REVENUES).[11][12]\\n\\n\""
      ]
     },
     "execution_count": 69,
     "metadata": {},
     "output_type": "execute_result"
    }
   ],
   "source": [
    "sf.upper()"
   ]
  },
  {
   "cell_type": "raw",
   "id": "b0bb3e35",
   "metadata": {},
   "source": [
    "here you can see upper function can transform all data set into \n",
    "caps letter \n",
    "\n",
    "similarly lower function can convert data set into lower caps. "
   ]
  },
  {
   "cell_type": "code",
   "execution_count": 70,
   "id": "45f4986c",
   "metadata": {},
   "outputs": [
    {
     "data": {
      "text/plain": [
       "\"the samsung group[3] (or simply samsung, stylized as sλmsung) (korean: 삼성 [samsʌŋ]) is a south korean multinational manufacturing conglomerate headquartered in samsung town, seoul, south korea.[1] it comprises numerous affiliated businesses,[1] most of them united under the samsung brand, and is the largest south korean chaebol (business conglomerate). as of 2020, samsung has the 8th highest global brand value.[4]\\n\\nsamsung was founded by lee byung-chul in 1938 as a trading company. over the next three decades, the group diversified into areas including food processing, textiles, insurance, securities, and retail. samsung entered the electronics industry in the late 1960s and the construction and shipbuilding industries in the mid-1970s; these areas would drive its subsequent growth. following lee's death in 1987, samsung was separated into five business groups – samsung group, shinsegae group, cj group and hansol group, and joongang group.\\n\\nnotable samsung industrial affiliates include samsung electronics (the world's largest information technology company, consumer electronics maker and chipmaker measured by 2017 revenues),[5][6] samsung heavy industries (the world's 2nd largest shipbuilder measured by 2010 revenues),[7] and samsung engineering and samsung c&t corporation (respectively the world's 13th and 36th largest construction companies).[8] other notable subsidiaries include samsung life insurance (the world's 14th largest life insurance company),[9] samsung everland (operator of everland resort, the oldest theme park in south korea)[10] and cheil worldwide (the world's 15th largest advertising agency, as measured by 2012 revenues).[11][12]\\n\\n\""
      ]
     },
     "execution_count": 70,
     "metadata": {},
     "output_type": "execute_result"
    }
   ],
   "source": [
    "sf.lower()"
   ]
  },
  {
   "cell_type": "raw",
   "id": "9a8a3659",
   "metadata": {},
   "source": [
    "sw = sw.upper()\n",
    "\n",
    "so here you can see symbol 'sw' is assigning data to sw.upper__"
   ]
  },
  {
   "cell_type": "code",
   "execution_count": 72,
   "id": "93041427",
   "metadata": {},
   "outputs": [],
   "source": [
    "s = 'sudhanshu'"
   ]
  },
  {
   "cell_type": "code",
   "execution_count": 74,
   "id": "e7eb855e",
   "metadata": {},
   "outputs": [
    {
     "data": {
      "text/plain": [
       "'sudhanshu'"
      ]
     },
     "execution_count": 74,
     "metadata": {},
     "output_type": "execute_result"
    }
   ],
   "source": [
    "s"
   ]
  },
  {
   "cell_type": "code",
   "execution_count": 75,
   "id": "a9235b4c",
   "metadata": {},
   "outputs": [
    {
     "data": {
      "text/plain": [
       "'Sudhanshu'"
      ]
     },
     "execution_count": 75,
     "metadata": {},
     "output_type": "execute_result"
    }
   ],
   "source": [
    "s.title()"
   ]
  },
  {
   "cell_type": "raw",
   "id": "7078659d",
   "metadata": {},
   "source": [
    "so here s.title() fuction is transforming only first character into caps \n",
    "    similar thing can be done through s.capitalize() function "
   ]
  },
  {
   "cell_type": "code",
   "execution_count": 77,
   "id": "bc730417",
   "metadata": {},
   "outputs": [
    {
     "data": {
      "text/plain": [
       "'Sudhanshu'"
      ]
     },
     "execution_count": 77,
     "metadata": {},
     "output_type": "execute_result"
    }
   ],
   "source": [
    "s.capitalize()"
   ]
  },
  {
   "cell_type": "code",
   "execution_count": 78,
   "id": "75675027",
   "metadata": {},
   "outputs": [],
   "source": [
    "s = 'sudhanshu kumar'"
   ]
  },
  {
   "cell_type": "code",
   "execution_count": 79,
   "id": "c846054b",
   "metadata": {},
   "outputs": [
    {
     "data": {
      "text/plain": [
       "'sudhanshu kumar'"
      ]
     },
     "execution_count": 79,
     "metadata": {},
     "output_type": "execute_result"
    }
   ],
   "source": [
    "s"
   ]
  },
  {
   "cell_type": "code",
   "execution_count": 80,
   "id": "ea0b8445",
   "metadata": {},
   "outputs": [
    {
     "data": {
      "text/plain": [
       "'Sudhanshu kumar'"
      ]
     },
     "execution_count": 80,
     "metadata": {},
     "output_type": "execute_result"
    }
   ],
   "source": [
    "s.capitalize()"
   ]
  },
  {
   "cell_type": "raw",
   "id": "c74c909d",
   "metadata": {},
   "source": [
    "Signature: s.capitalize()\n",
    "Docstring:\n",
    "Return a capitalized version of the string.\n",
    "\n",
    "More specifically, make the first character have upper case and the rest lower\n",
    "case.\n",
    "Type:      builtin_function_or_method"
   ]
  },
  {
   "cell_type": "code",
   "execution_count": 81,
   "id": "955db073",
   "metadata": {},
   "outputs": [
    {
     "data": {
      "text/plain": [
       "'SUDHANSHU KUMAR'"
      ]
     },
     "execution_count": 81,
     "metadata": {},
     "output_type": "execute_result"
    }
   ],
   "source": [
    "s.swapcase()"
   ]
  },
  {
   "cell_type": "raw",
   "id": "800e129d",
   "metadata": {},
   "source": [
    "Signature: s.swapcase()\n",
    "Docstring: Convert uppercase characters to lowercase and lowercase characters to uppercase.\n",
    "Type:      builtin_function_or_method"
   ]
  },
  {
   "cell_type": "code",
   "execution_count": 82,
   "id": "2424e116",
   "metadata": {},
   "outputs": [],
   "source": [
    "s = 'Sudhanshu KumAR'"
   ]
  },
  {
   "cell_type": "code",
   "execution_count": 83,
   "id": "58d472b7",
   "metadata": {},
   "outputs": [
    {
     "data": {
      "text/plain": [
       "'Sudhanshu KumAR'"
      ]
     },
     "execution_count": 83,
     "metadata": {},
     "output_type": "execute_result"
    }
   ],
   "source": [
    "s"
   ]
  },
  {
   "cell_type": "code",
   "execution_count": 84,
   "id": "3df2d2c5",
   "metadata": {},
   "outputs": [
    {
     "data": {
      "text/plain": [
       "'RAmuK uhsnahduS'"
      ]
     },
     "execution_count": 84,
     "metadata": {},
     "output_type": "execute_result"
    }
   ],
   "source": [
    "''.join(reversed(s))"
   ]
  },
  {
   "cell_type": "code",
   "execution_count": 85,
   "id": "b80cc7b4",
   "metadata": {},
   "outputs": [
    {
     "data": {
      "text/plain": [
       "'RAmuK uhsnahduS'"
      ]
     },
     "execution_count": 85,
     "metadata": {},
     "output_type": "execute_result"
    }
   ],
   "source": [
    "s[::-1]"
   ]
  },
  {
   "cell_type": "code",
   "execution_count": 86,
   "id": "67b76e55",
   "metadata": {},
   "outputs": [],
   "source": [
    "s=\" su dh \""
   ]
  },
  {
   "cell_type": "code",
   "execution_count": 87,
   "id": "51e8b8d2",
   "metadata": {},
   "outputs": [
    {
     "data": {
      "text/plain": [
       "' su dh '"
      ]
     },
     "execution_count": 87,
     "metadata": {},
     "output_type": "execute_result"
    }
   ],
   "source": [
    "s"
   ]
  },
  {
   "cell_type": "code",
   "execution_count": 88,
   "id": "4dfe3944",
   "metadata": {},
   "outputs": [
    {
     "data": {
      "text/plain": [
       "'su dh'"
      ]
     },
     "execution_count": 88,
     "metadata": {},
     "output_type": "execute_result"
    }
   ],
   "source": [
    "s.strip()"
   ]
  },
  {
   "cell_type": "raw",
   "id": "67cbd760",
   "metadata": {},
   "source": [
    "Signature: s.strip(chars=None, /)\n",
    "Docstring:\n",
    "Return a copy of the string with leading and trailing whitespace removed.\n",
    "\n",
    "If chars is given and not None, remove characters in chars instead.\n",
    "Type:      builtin_function_or_method"
   ]
  },
  {
   "cell_type": "code",
   "execution_count": 89,
   "id": "53ba8b70",
   "metadata": {},
   "outputs": [
    {
     "data": {
      "text/plain": [
       "'su dh '"
      ]
     },
     "execution_count": 89,
     "metadata": {},
     "output_type": "execute_result"
    }
   ],
   "source": [
    "s.lstrip()"
   ]
  },
  {
   "cell_type": "code",
   "execution_count": 90,
   "id": "23e04525",
   "metadata": {},
   "outputs": [
    {
     "data": {
      "text/plain": [
       "' su dh'"
      ]
     },
     "execution_count": 90,
     "metadata": {},
     "output_type": "execute_result"
    }
   ],
   "source": [
    "s.rstrip()"
   ]
  },
  {
   "cell_type": "raw",
   "id": "e9d67570",
   "metadata": {},
   "source": [
    "l and r in abkve strips define space in the string"
   ]
  },
  {
   "cell_type": "code",
   "execution_count": 92,
   "id": "d0f8cc08",
   "metadata": {},
   "outputs": [
    {
     "data": {
      "text/plain": [
       "'sauadahaaanasahau'"
      ]
     },
     "execution_count": 92,
     "metadata": {},
     "output_type": "execute_result"
    }
   ],
   "source": [
    "\"a\" . join(\"sudhanshu\")"
   ]
  },
  {
   "cell_type": "code",
   "execution_count": 93,
   "id": "3edbdd86",
   "metadata": {},
   "outputs": [
    {
     "data": {
      "text/plain": [
       "' su dh '"
      ]
     },
     "execution_count": 93,
     "metadata": {},
     "output_type": "execute_result"
    }
   ],
   "source": [
    "s"
   ]
  },
  {
   "cell_type": "code",
   "execution_count": 94,
   "id": "321651f7",
   "metadata": {},
   "outputs": [],
   "source": [
    "s = 'sudh'"
   ]
  },
  {
   "cell_type": "code",
   "execution_count": 95,
   "id": "d8cb9de2",
   "metadata": {},
   "outputs": [
    {
     "data": {
      "text/plain": [
       "'sudh'"
      ]
     },
     "execution_count": 95,
     "metadata": {},
     "output_type": "execute_result"
    }
   ],
   "source": [
    "s"
   ]
  },
  {
   "cell_type": "code",
   "execution_count": 96,
   "id": "eb74e207",
   "metadata": {},
   "outputs": [
    {
     "data": {
      "text/plain": [
       "'########sudh########'"
      ]
     },
     "execution_count": 96,
     "metadata": {},
     "output_type": "execute_result"
    }
   ],
   "source": [
    "s.center(20 , '#')"
   ]
  },
  {
   "cell_type": "raw",
   "id": "260a9fcc",
   "metadata": {},
   "source": [
    "'########sudh########'\n",
    "​\n",
    "​\n",
    "​\n",
    "​\n",
    "​\n",
    "​\n",
    "​\n",
    "Signature: s.center(width, fillchar=' ', /)\n",
    "Docstring:\n",
    "Return a centered string of length width.\n",
    "\n",
    "Padding is done using the specified fill character (default is a space).\n",
    "Type:      builtin_function_or_method"
   ]
  },
  {
   "cell_type": "code",
   "execution_count": 97,
   "id": "d1ae7f7e",
   "metadata": {
    "scrolled": true
   },
   "outputs": [
    {
     "data": {
      "text/plain": [
       "False"
      ]
     },
     "execution_count": 97,
     "metadata": {},
     "output_type": "execute_result"
    }
   ],
   "source": [
    "s.isupper()"
   ]
  },
  {
   "cell_type": "raw",
   "id": "6f95916a",
   "metadata": {},
   "source": [
    "Signature: s.isupper()\n",
    "Docstring:\n",
    "Return True if the string is an uppercase string, False otherwise.\n",
    "\n",
    "A string is uppercase if all cased characters in the string are uppercase and\n",
    "there is at least one cased character in the string.\n",
    "Type:      builtin_function_or_method"
   ]
  },
  {
   "cell_type": "code",
   "execution_count": 98,
   "id": "62060fd5",
   "metadata": {},
   "outputs": [],
   "source": [
    "s1 = \"SUDH\""
   ]
  },
  {
   "cell_type": "code",
   "execution_count": 99,
   "id": "38bd2560",
   "metadata": {},
   "outputs": [
    {
     "data": {
      "text/plain": [
       "'SUDH'"
      ]
     },
     "execution_count": 99,
     "metadata": {},
     "output_type": "execute_result"
    }
   ],
   "source": [
    "s1"
   ]
  },
  {
   "cell_type": "code",
   "execution_count": 100,
   "id": "710db19a",
   "metadata": {},
   "outputs": [
    {
     "data": {
      "text/plain": [
       "True"
      ]
     },
     "execution_count": 100,
     "metadata": {},
     "output_type": "execute_result"
    }
   ],
   "source": [
    "s1.isupper()"
   ]
  },
  {
   "cell_type": "code",
   "execution_count": 101,
   "id": "9d5f248d",
   "metadata": {},
   "outputs": [
    {
     "data": {
      "text/plain": [
       "True"
      ]
     },
     "execution_count": 101,
     "metadata": {},
     "output_type": "execute_result"
    }
   ],
   "source": [
    "s.islower()"
   ]
  },
  {
   "cell_type": "code",
   "execution_count": 102,
   "id": "e15ed0f5",
   "metadata": {},
   "outputs": [
    {
     "data": {
      "text/plain": [
       "False"
      ]
     },
     "execution_count": 102,
     "metadata": {},
     "output_type": "execute_result"
    }
   ],
   "source": [
    "s1.islower()"
   ]
  },
  {
   "cell_type": "code",
   "execution_count": 103,
   "id": "fddd4c85",
   "metadata": {},
   "outputs": [
    {
     "data": {
      "text/plain": [
       "False"
      ]
     },
     "execution_count": 103,
     "metadata": {},
     "output_type": "execute_result"
    }
   ],
   "source": [
    "s.isspace()"
   ]
  },
  {
   "cell_type": "raw",
   "id": "728e2a22",
   "metadata": {},
   "source": [
    "it means it is asking does this string contain space that is false\n",
    "Signature: s.isspace()\n",
    "Docstring:\n",
    "Return True if the string is a whitespace string, False otherwise.\n",
    "\n",
    "A string is whitespace if all characters in the string are whitespace and there\n",
    "is at least one character in the string.\n",
    "Type:      builtin_function_or_method"
   ]
  },
  {
   "cell_type": "code",
   "execution_count": 105,
   "id": "164409de",
   "metadata": {},
   "outputs": [],
   "source": [
    "s = 'Sudhanshu'"
   ]
  },
  {
   "cell_type": "code",
   "execution_count": 106,
   "id": "7dda1981",
   "metadata": {},
   "outputs": [
    {
     "data": {
      "text/plain": [
       "'Sudhanshu'"
      ]
     },
     "execution_count": 106,
     "metadata": {},
     "output_type": "execute_result"
    }
   ],
   "source": [
    "s"
   ]
  },
  {
   "cell_type": "code",
   "execution_count": 107,
   "id": "ed545135",
   "metadata": {},
   "outputs": [],
   "source": [
    "s5 =\"56565\""
   ]
  },
  {
   "cell_type": "code",
   "execution_count": 108,
   "id": "1a3878bb",
   "metadata": {},
   "outputs": [
    {
     "data": {
      "text/plain": [
       "'56565'"
      ]
     },
     "execution_count": 108,
     "metadata": {},
     "output_type": "execute_result"
    }
   ],
   "source": [
    "s5"
   ]
  },
  {
   "cell_type": "code",
   "execution_count": 109,
   "id": "ea422e49",
   "metadata": {},
   "outputs": [
    {
     "data": {
      "text/plain": [
       "False"
      ]
     },
     "execution_count": 109,
     "metadata": {},
     "output_type": "execute_result"
    }
   ],
   "source": [
    "s.isdigit()"
   ]
  },
  {
   "cell_type": "code",
   "execution_count": 110,
   "id": "0e2c31ff",
   "metadata": {},
   "outputs": [
    {
     "data": {
      "text/plain": [
       "True"
      ]
     },
     "execution_count": 110,
     "metadata": {},
     "output_type": "execute_result"
    }
   ],
   "source": [
    "s5.isdigit()"
   ]
  },
  {
   "cell_type": "code",
   "execution_count": 111,
   "id": "3dd4e353",
   "metadata": {},
   "outputs": [],
   "source": [
    "s6 = \"sdssd54848\""
   ]
  },
  {
   "cell_type": "code",
   "execution_count": 112,
   "id": "31e659ae",
   "metadata": {},
   "outputs": [
    {
     "data": {
      "text/plain": [
       "'sdssd54848'"
      ]
     },
     "execution_count": 112,
     "metadata": {},
     "output_type": "execute_result"
    }
   ],
   "source": [
    "s6"
   ]
  },
  {
   "cell_type": "code",
   "execution_count": 113,
   "id": "153c8c7d",
   "metadata": {},
   "outputs": [
    {
     "data": {
      "text/plain": [
       "True"
      ]
     },
     "execution_count": 113,
     "metadata": {},
     "output_type": "execute_result"
    }
   ],
   "source": [
    "s.isalnum()"
   ]
  },
  {
   "cell_type": "raw",
   "id": "8d2d74ff",
   "metadata": {},
   "source": [
    "it is true because it is showing result based on OR gate \n",
    "because alphabet is there and condition satisfied"
   ]
  },
  {
   "cell_type": "code",
   "execution_count": 114,
   "id": "ae5fa084",
   "metadata": {},
   "outputs": [
    {
     "data": {
      "text/plain": [
       "True"
      ]
     },
     "execution_count": 114,
     "metadata": {},
     "output_type": "execute_result"
    }
   ],
   "source": [
    "s.isalpha()"
   ]
  },
  {
   "cell_type": "code",
   "execution_count": 115,
   "id": "6f9962b1",
   "metadata": {},
   "outputs": [
    {
     "data": {
      "text/plain": [
       "True"
      ]
     },
     "execution_count": 115,
     "metadata": {},
     "output_type": "execute_result"
    }
   ],
   "source": [
    "s.isalnum()"
   ]
  },
  {
   "cell_type": "code",
   "execution_count": 116,
   "id": "b245df77",
   "metadata": {},
   "outputs": [
    {
     "data": {
      "text/plain": [
       "False"
      ]
     },
     "execution_count": 116,
     "metadata": {},
     "output_type": "execute_result"
    }
   ],
   "source": [
    "s.isnumeric()"
   ]
  },
  {
   "cell_type": "code",
   "execution_count": 117,
   "id": "08c5ba12",
   "metadata": {},
   "outputs": [
    {
     "data": {
      "text/plain": [
       "'Sudhanshu'"
      ]
     },
     "execution_count": 117,
     "metadata": {},
     "output_type": "execute_result"
    }
   ],
   "source": [
    "s"
   ]
  },
  {
   "cell_type": "code",
   "execution_count": 118,
   "id": "91f8a42a",
   "metadata": {},
   "outputs": [
    {
     "data": {
      "text/plain": [
       "False"
      ]
     },
     "execution_count": 118,
     "metadata": {},
     "output_type": "execute_result"
    }
   ],
   "source": [
    "s.startswith('i')"
   ]
  },
  {
   "cell_type": "code",
   "execution_count": 119,
   "id": "95ee959d",
   "metadata": {},
   "outputs": [
    {
     "data": {
      "text/plain": [
       "False"
      ]
     },
     "execution_count": 119,
     "metadata": {},
     "output_type": "execute_result"
    }
   ],
   "source": [
    "s.startswith('s')"
   ]
  },
  {
   "cell_type": "raw",
   "id": "fc0ee9e8",
   "metadata": {},
   "source": [
    "above condition is false because pythong is case sensitive language"
   ]
  },
  {
   "cell_type": "code",
   "execution_count": 120,
   "id": "82a5374a",
   "metadata": {},
   "outputs": [
    {
     "data": {
      "text/plain": [
       "True"
      ]
     },
     "execution_count": 120,
     "metadata": {},
     "output_type": "execute_result"
    }
   ],
   "source": [
    "s.startswith('S')"
   ]
  },
  {
   "cell_type": "code",
   "execution_count": 121,
   "id": "23d9a8df",
   "metadata": {},
   "outputs": [
    {
     "data": {
      "text/plain": [
       "False"
      ]
     },
     "execution_count": 121,
     "metadata": {},
     "output_type": "execute_result"
    }
   ],
   "source": [
    "s.endswith('n')"
   ]
  },
  {
   "cell_type": "code",
   "execution_count": 122,
   "id": "7b46ade6",
   "metadata": {},
   "outputs": [
    {
     "data": {
      "text/plain": [
       "True"
      ]
     },
     "execution_count": 122,
     "metadata": {},
     "output_type": "execute_result"
    }
   ],
   "source": [
    "s.endswith('u')"
   ]
  },
  {
   "cell_type": "code",
   "execution_count": 123,
   "id": "6d08cebd",
   "metadata": {},
   "outputs": [
    {
     "data": {
      "text/plain": [
       "'sdssd54848'"
      ]
     },
     "execution_count": 123,
     "metadata": {},
     "output_type": "execute_result"
    }
   ],
   "source": [
    "s6"
   ]
  },
  {
   "cell_type": "code",
   "execution_count": 124,
   "id": "3d985b45",
   "metadata": {},
   "outputs": [
    {
     "data": {
      "text/plain": [
       "False"
      ]
     },
     "execution_count": 124,
     "metadata": {},
     "output_type": "execute_result"
    }
   ],
   "source": [
    "s.isdigit()"
   ]
  },
  {
   "cell_type": "raw",
   "id": "1e5e713e",
   "metadata": {},
   "source": [
    "Signature: s.isdigit()\n",
    "Docstring:\n",
    "Return True if the string is a digit string, False otherwise.\n",
    "\n",
    "A string is a digit string if all characters in the string are digits and there\n",
    "is at least one character in the string.\n",
    "Type:      builtin_function_or_method"
   ]
  },
  {
   "cell_type": "code",
   "execution_count": 125,
   "id": "a51bcdd4",
   "metadata": {},
   "outputs": [
    {
     "data": {
      "text/plain": [
       "False"
      ]
     },
     "execution_count": 125,
     "metadata": {},
     "output_type": "execute_result"
    }
   ],
   "source": [
    "s.isnumeric()"
   ]
  },
  {
   "cell_type": "raw",
   "id": "c4d2d99c",
   "metadata": {},
   "source": [
    "Signature: s.isnumeric()\n",
    "Docstring:\n",
    "Return True if the string is a numeric string, False otherwise.\n",
    "\n",
    "A string is numeric if all characters in the string are numeric and there is at\n",
    "least one character in the string.\n",
    "Type:      builtin_function_or_method"
   ]
  },
  {
   "cell_type": "code",
   "execution_count": 126,
   "id": "06cdba39",
   "metadata": {},
   "outputs": [
    {
     "data": {
      "text/plain": [
       "True"
      ]
     },
     "execution_count": 126,
     "metadata": {},
     "output_type": "execute_result"
    }
   ],
   "source": [
    "s.isascii()"
   ]
  },
  {
   "cell_type": "raw",
   "id": "bf2bf90f",
   "metadata": {},
   "source": [
    "\n",
    "Signature: s.isascii()\n",
    "Docstring:\n",
    "Return True if all characters in the string are ASCII, False otherwise.\n",
    "\n",
    "ASCII characters have code points in the range U+0000-U+007F.\n",
    "Empty string is ASCII too.\n",
    "Type:      builtin_function_or_method"
   ]
  },
  {
   "cell_type": "raw",
   "id": "d0eb48a4",
   "metadata": {},
   "source": [
    "ASCII Chart\n",
    "Decimal\tBinary\tOctal\tHexadecimal\tSymbol\tDescription\n",
    "0\t0\t0\t0\tNUL\tNull char\n",
    "1\t1\t1\t1\tSOH\tStart of Heading\n",
    "2\t10\t2\t2\tSTX\tStart of Text\n",
    "3\t11\t3\t3\tETX\tEnd of Text\n",
    "4\t100\t4\t4\tEOT\tEnd of Transmission\n",
    "5\t101\t5\t5\tENQ\tEnquiry\n",
    "6\t110\t6\t6\tACK\tAcknowledgement\n",
    "7\t111\t7\t7\tBEL\tBell\n",
    "8\t1000\t10\t8\tBS\tBack Space\n",
    "9\t1001\t11\t9\tHT\tHorizontal Tab\n",
    "10\t1010\t12\t0A\tLF\tLine Feed\n",
    "11\t1011\t13\t0B\tVT\tVertical Tab\n",
    "12\t1100\t14\t0C\tFF\tForm Feed\n",
    "13\t1101\t15\t0D\tCR\tCarriage Return\n",
    "14\t1110\t16\t0E\tSO\tShift Out / X-On\n",
    "15\t1111\t17\t0F\tSI\tShift In / X-Off\n",
    "16\t10000\t20\t10\tDLE\tData Line Escape\n",
    "17\t10001\t21\t11\tDC1\tDevice Control 1 (oft.XON)\n",
    "18\t10010\t22\t12\tDC2\tDevice Control 2\n",
    "19\t10011\t23\t13\tDC3\tDevice Control 3 (oft.XOFF)\n",
    "20\t10100\t24\t14\tDC4\tDevice Control 4\n",
    "21\t10101\t25\t15\tNAK\tNegative Acknowledgement\n",
    "22\t10110\t26\t16\tSYN\tSynchronous Idle\n",
    "23\t10111\t27\t17\tETB\tEnd of Transmit Block\n",
    "24\t11000\t30\t18\tCAN\tCancel\n",
    "25\t11001\t31\t19\tEM\tEnd of Medium\n",
    "26\t11010\t32\t1A\tSUB\tSubstitute\n",
    "27\t11011\t33\t1B\tESC\tEscape\n",
    "28\t11100\t34\t1C\tFS\tFile Separator\n",
    "29\t11101\t35\t1D\tGS\tGroup Separator\n",
    "30\t11110\t36\t1E\tRS\tRecord Separator\n",
    "31\t11111\t37\t1F\tUS\tUnit Separator\n",
    "32\t100000\t40\t20\tSPACE\tSpace\n",
    "33\t100001\t41\t21\t!\tExclamation mark\n",
    "34\t100010\t42\t22\t“\tDouble quotes (or speech marks)\n",
    "35\t100011\t43\t23\t#\tNumber\n",
    "36\t100100\t44\t24\t$\tDollar\n",
    "37\t100101\t45\t25\t%\tPercent\n",
    "38\t100110\t46\t26\t&\tAmpersand\n",
    "39\t100111\t47\t27\t‘\tSingle quote\n",
    "40\t101000\t50\t28\t(\tOpen parenthesis (or open bracket)\n",
    "41\t101001\t51\t29\t)\tClose parenthesis (orclose bracket)\n",
    "42\t101010\t52\t2A\t*\tAsterisk\n",
    "43\t101011\t53\t2B\t+\tPlus\n",
    "44\t101100\t54\t2C\t,\tComma\n",
    "45\t101101\t55\t2D\t-\tHyphen\n",
    "46\t101110\t56\t2E\t.\tPeriod, dot or full stop\n",
    "47\t101111\t57\t2F\t/\tSlash or divide\n",
    "48\t110000\t60\t30\t0\tZero\n",
    "49\t110001\t61\t31\t1\tOne\n",
    "50\t110010\t62\t32\t2\tTwo\n",
    "51\t110011\t63\t33\t3\tThree\n",
    "52\t110100\t64\t34\t4\tFour\n",
    "53\t110101\t65\t35\t5\tFive\n",
    "54\t110110\t66\t36\t6\tSix\n",
    "55\t110111\t67\t37\t7\tSeven\n",
    "56\t111000\t70\t38\t8\tEight\n",
    "57\t111001\t71\t39\t9\tNine\n",
    "58\t111010\t72\t3A\t:\tColon\n",
    "59\t111011\t73\t3B\t;\tSemicolon\n",
    "60\t111100\t74\t3C\t<\tLess than (or open angled bracket)\n",
    "61\t111101\t75\t3D\t=\tEquals\n",
    "62\t111110\t76\t3E\t>\tGreater than (or closeangled bracket)\n",
    "63\t111111\t77\t3F\t?\tQuestion mark\n",
    "64\t1000000\t100\t40\t@\tAt symbol\n",
    "65\t1000001\t101\t41\tA\tUppercase A\n",
    "66\t1000010\t102\t42\tB\tUppercase B\n",
    "67\t1000011\t103\t43\tC\tUppercase C\n",
    "68\t1000100\t104\t44\tD\tUppercase D\n",
    "69\t1000101\t105\t45\tE\tUppercase E\n",
    "70\t1000110\t106\t46\tF\tUppercase F\n",
    "71\t1000111\t107\t47\tG\tUppercase G\n",
    "72\t1001000\t110\t48\tH\tUppercase H\n",
    "73\t1001001\t111\t49\tI\tUppercase I\n",
    "74\t1001010\t112\t4A\tJ\tUppercase J\n",
    "75\t1001011\t113\t4B\tK\tUppercase K\n",
    "76\t1001100\t114\t4C\tL\tUppercase L\n",
    "77\t1001101\t115\t4D\tM\tUppercase M\n",
    "78\t1001110\t116\t4E\tN\tUppercase N\n",
    "79\t1001111\t117\t4F\tO\tUppercase O\n",
    "80\t1010000\t120\t50\tP\tUppercase P\n",
    "81\t1010001\t121\t51\tQ\tUppercase Q\n",
    "82\t1010010\t122\t52\tR\tUppercase R\n",
    "83\t1010011\t123\t53\tS\tUppercase S\n",
    "84\t1010100\t124\t54\tT\tUppercase T\n",
    "85\t1010101\t125\t55\tU\tUppercase U\n",
    "86\t1010110\t126\t56\tV\tUppercase V\n",
    "87\t1010111\t127\t57\tW\tUppercase W\n",
    "88\t1011000\t130\t58\tX\tUppercase X\n",
    "89\t1011001\t131\t59\tY\tUppercase Y\n",
    "90\t1011010\t132\t5A\tZ\tUppercase Z\n",
    "91\t1011011\t133\t5B\t[\tOpening bracket\n",
    "92\t1011100\t134\t5C\t\\\tBackslash\n",
    "93\t1011101\t135\t5D\t]\tClosing bracket\n",
    "94\t1011110\t136\t5E\t^\tCaret - circumflex\n",
    "95\t1011111\t137\t5F\t_\tUnderscore\n",
    "96\t1100000\t140\t60\t`\tGrave accent\n",
    "97\t1100001\t141\t61\ta\tLowercase a\n",
    "98\t1100010\t142\t62\tb\tLowercase b\n",
    "99\t1100011\t143\t63\tc\tLowercase c\n",
    "100\t1100100\t144\t64\td\tLowercase d\n",
    "101\t1100101\t145\t65\te\tLowercase e\n",
    "102\t1100110\t146\t66\tf\tLowercase f\n",
    "103\t1100111\t147\t67\tg\tLowercase g\n",
    "104\t1101000\t150\t68\th\tLowercase h\n",
    "105\t1101001\t151\t69\ti\tLowercase i\n",
    "106\t1101010\t152\t6A\tj\tLowercase j\n",
    "107\t1101011\t153\t6B\tk\tLowercase k\n",
    "108\t1101100\t154\t6C\tl\tLowercase l\n",
    "109\t1101101\t155\t6D\tm\tLowercase m\n",
    "110\t1101110\t156\t6E\tn\tLowercase n\n",
    "111\t1101111\t157\t6F\to\tLowercase o\n",
    "112\t1110000\t160\t70\tp\tLowercase p\n",
    "113\t1110001\t161\t71\tq\tLowercase q\n",
    "114\t1110010\t162\t72\tr\tLowercase r\n",
    "115\t1110011\t163\t73\ts\tLowercase s\n",
    "116\t1110100\t164\t74\tt\tLowercase t\n",
    "117\t1110101\t165\t75\tu\tLowercase u\n",
    "118\t1110110\t166\t76\tv\tLowercase v\n",
    "119\t1110111\t167\t77\tw\tLowercase w\n",
    "120\t1111000\t170\t78\tx\tLowercase x\n",
    "121\t1111001\t171\t79\ty\tLowercase y\n",
    "122\t1111010\t172\t7A\tz\tLowercase z\n",
    "123\t1111011\t173\t7B\t{\tOpening brace\n",
    "124\t1111100\t174\t7C\t|\tVertical bar\n",
    "125\t1111101\t175\t7D\t}\tClosing brace\n",
    "126\t1111110\t176\t7E\t~\tEquivalency sign - tilde\n",
    "127\t1111111\t177\t7F\tDEL\tDelete"
   ]
  },
  {
   "cell_type": "code",
   "execution_count": 127,
   "id": "276b2820",
   "metadata": {},
   "outputs": [
    {
     "ename": "NameError",
     "evalue": "name 'suppose' is not defined",
     "output_type": "error",
     "traceback": [
      "\u001b[1;31m---------------------------------------------------------------------------\u001b[0m",
      "\u001b[1;31mNameError\u001b[0m                                 Traceback (most recent call last)",
      "\u001b[1;32m~\\AppData\\Local\\Temp/ipykernel_12816/2690524902.py\u001b[0m in \u001b[0;36m<module>\u001b[1;34m\u001b[0m\n\u001b[1;32m----> 1\u001b[1;33m \u001b[0msuppose\u001b[0m\u001b[1;33m\u001b[0m\u001b[1;33m\u001b[0m\u001b[0m\n\u001b[0m",
      "\u001b[1;31mNameError\u001b[0m: name 'suppose' is not defined"
     ]
    }
   ],
   "source": [
    "suppose "
   ]
  },
  {
   "cell_type": "code",
   "execution_count": 128,
   "id": "364722c1",
   "metadata": {},
   "outputs": [],
   "source": [
    "s = 'sudhanshu12 '"
   ]
  },
  {
   "cell_type": "code",
   "execution_count": 129,
   "id": "ed84d7d2",
   "metadata": {},
   "outputs": [
    {
     "data": {
      "text/plain": [
       "'sudhanshu12 '"
      ]
     },
     "execution_count": 129,
     "metadata": {},
     "output_type": "execute_result"
    }
   ],
   "source": [
    "s"
   ]
  },
  {
   "cell_type": "code",
   "execution_count": 130,
   "id": "f2b45cef",
   "metadata": {},
   "outputs": [
    {
     "data": {
      "text/plain": [
       "False"
      ]
     },
     "execution_count": 130,
     "metadata": {},
     "output_type": "execute_result"
    }
   ],
   "source": [
    "s.isalnum()"
   ]
  },
  {
   "cell_type": "code",
   "execution_count": 131,
   "id": "00ed82fa",
   "metadata": {},
   "outputs": [],
   "source": [
    "s= 'sudhanshu123'"
   ]
  },
  {
   "cell_type": "code",
   "execution_count": 132,
   "id": "72711165",
   "metadata": {},
   "outputs": [
    {
     "data": {
      "text/plain": [
       "'sudhanshu123'"
      ]
     },
     "execution_count": 132,
     "metadata": {},
     "output_type": "execute_result"
    }
   ],
   "source": [
    "s"
   ]
  },
  {
   "cell_type": "code",
   "execution_count": 133,
   "id": "9978db38",
   "metadata": {},
   "outputs": [
    {
     "data": {
      "text/plain": [
       "True"
      ]
     },
     "execution_count": 133,
     "metadata": {},
     "output_type": "execute_result"
    }
   ],
   "source": [
    "s.isalnum()"
   ]
  },
  {
   "cell_type": "code",
   "execution_count": 134,
   "id": "234019c4",
   "metadata": {},
   "outputs": [
    {
     "data": {
      "text/plain": [
       "'****sudhanshu123****'"
      ]
     },
     "execution_count": 134,
     "metadata": {},
     "output_type": "execute_result"
    }
   ],
   "source": [
    "s.center (20,'*')"
   ]
  },
  {
   "cell_type": "code",
   "execution_count": 136,
   "id": "309912d8",
   "metadata": {},
   "outputs": [
    {
     "data": {
      "text/plain": [
       "False"
      ]
     },
     "execution_count": 136,
     "metadata": {},
     "output_type": "execute_result"
    }
   ],
   "source": [
    "s = ' 5 '\n",
    "s.isalnum()"
   ]
  },
  {
   "cell_type": "code",
   "execution_count": 137,
   "id": "599b5af6",
   "metadata": {},
   "outputs": [],
   "source": [
    "sw = \"this is very first prgramming class\""
   ]
  },
  {
   "cell_type": "code",
   "execution_count": 138,
   "id": "ba352b18",
   "metadata": {},
   "outputs": [
    {
     "data": {
      "text/plain": [
       "'this is very first prgramming class'"
      ]
     },
     "execution_count": 138,
     "metadata": {},
     "output_type": "execute_result"
    }
   ],
   "source": [
    "sw"
   ]
  },
  {
   "cell_type": "code",
   "execution_count": 139,
   "id": "fa9fc2f4",
   "metadata": {},
   "outputs": [
    {
     "data": {
      "text/plain": [
       "False"
      ]
     },
     "execution_count": 139,
     "metadata": {},
     "output_type": "execute_result"
    }
   ],
   "source": [
    "sw.isspace()"
   ]
  },
  {
   "cell_type": "raw",
   "id": "dce5c9c3",
   "metadata": {},
   "source": [
    "above one is false because string contain space inside string,\n",
    "but its not space string completely as per the definition. "
   ]
  },
  {
   "cell_type": "code",
   "execution_count": 140,
   "id": "f6ca7ed6",
   "metadata": {},
   "outputs": [],
   "source": [
    "s = ' 6  '"
   ]
  },
  {
   "cell_type": "code",
   "execution_count": 141,
   "id": "8a06ed0a",
   "metadata": {},
   "outputs": [
    {
     "data": {
      "text/plain": [
       "False"
      ]
     },
     "execution_count": 141,
     "metadata": {},
     "output_type": "execute_result"
    }
   ],
   "source": [
    "s.isspace()"
   ]
  },
  {
   "cell_type": "code",
   "execution_count": 143,
   "id": "fc094bac",
   "metadata": {},
   "outputs": [
    {
     "data": {
      "text/plain": [
       "True"
      ]
     },
     "execution_count": 143,
     "metadata": {},
     "output_type": "execute_result"
    }
   ],
   "source": [
    "s = \"554546\"\n",
    "s.isdigit()"
   ]
  },
  {
   "cell_type": "code",
   "execution_count": 145,
   "id": "23690e3c",
   "metadata": {},
   "outputs": [
    {
     "data": {
      "text/plain": [
       "False"
      ]
     },
     "execution_count": 145,
     "metadata": {},
     "output_type": "execute_result"
    }
   ],
   "source": [
    "s1 = \"eefefdfdf5544545\"\n",
    "s1.isnumeric()"
   ]
  },
  {
   "cell_type": "code",
   "execution_count": 146,
   "id": "722cff1f",
   "metadata": {},
   "outputs": [
    {
     "data": {
      "text/plain": [
       "False"
      ]
     },
     "execution_count": 146,
     "metadata": {},
     "output_type": "execute_result"
    }
   ],
   "source": [
    "s1.isdigit()"
   ]
  },
  {
   "cell_type": "raw",
   "id": "97777542",
   "metadata": {},
   "source": [
    "Signature: s1.isnumeric()\n",
    "Docstring:\n",
    "Return True if the string is a numeric string, False otherwise.\n",
    "\n",
    "A string is numeric if all characters in the string are numeric and there is at\n",
    "least one character in the string.\n",
    "Type:      builtin_function_or_method"
   ]
  },
  {
   "cell_type": "raw",
   "id": "cae9b746",
   "metadata": {},
   "source": [
    "Signature: s1.isdigit()\n",
    "Docstring:\n",
    "Return True if the string is a digit string, False otherwise.\n",
    "\n",
    "A string is a digit string if all characters in the string are digits and there\n",
    "is at least one character in the string.\n",
    "Type:      builtin_function_or_method"
   ]
  },
  {
   "cell_type": "code",
   "execution_count": 147,
   "id": "7c14a0d0",
   "metadata": {},
   "outputs": [],
   "source": [
    "s = \"sudh\""
   ]
  },
  {
   "cell_type": "code",
   "execution_count": 148,
   "id": "08823170",
   "metadata": {},
   "outputs": [
    {
     "data": {
      "text/plain": [
       "<reversed at 0x187d496b8e0>"
      ]
     },
     "execution_count": 148,
     "metadata": {},
     "output_type": "execute_result"
    }
   ],
   "source": [
    "reversed(s)"
   ]
  },
  {
   "cell_type": "code",
   "execution_count": 153,
   "id": "b15d5c19",
   "metadata": {},
   "outputs": [
    {
     "data": {
      "text/plain": [
       "'idndedudrdodn'"
      ]
     },
     "execution_count": 153,
     "metadata": {},
     "output_type": "execute_result"
    }
   ],
   "source": [
    "'d' .join(\"ineuron\")"
   ]
  },
  {
   "cell_type": "code",
   "execution_count": 154,
   "id": "f975249b",
   "metadata": {},
   "outputs": [
    {
     "data": {
      "text/plain": [
       "'hdus'"
      ]
     },
     "execution_count": 154,
     "metadata": {},
     "output_type": "execute_result"
    }
   ],
   "source": [
    "\"\".join(reversed(\"sudh\"))"
   ]
  },
  {
   "cell_type": "code",
   "execution_count": 157,
   "id": "72a3b47c",
   "metadata": {},
   "outputs": [],
   "source": [
    "s = 'sudhanshu\\tkumar\\tineuron'"
   ]
  },
  {
   "cell_type": "code",
   "execution_count": 158,
   "id": "0bc4f767",
   "metadata": {},
   "outputs": [
    {
     "data": {
      "text/plain": [
       "'sudhanshu       kumar   ineuron'"
      ]
     },
     "execution_count": 158,
     "metadata": {},
     "output_type": "execute_result"
    }
   ],
   "source": [
    "s.expandtabs()"
   ]
  },
  {
   "cell_type": "code",
   "execution_count": 159,
   "id": "48cde420",
   "metadata": {},
   "outputs": [
    {
     "data": {
      "text/plain": [
       "'uhsnahduS'"
      ]
     },
     "execution_count": 159,
     "metadata": {},
     "output_type": "execute_result"
    }
   ],
   "source": [
    "s=\"Sudhanshu\"\n",
    "\"\".join(reversed(s))"
   ]
  },
  {
   "cell_type": "code",
   "execution_count": 160,
   "id": "150c96d3",
   "metadata": {},
   "outputs": [
    {
     "data": {
      "text/plain": [
       "'hhe     gge     hhe'"
      ]
     },
     "execution_count": 160,
     "metadata": {},
     "output_type": "execute_result"
    }
   ],
   "source": [
    "s=\"hhe\\tgge\\thhe\"\n",
    "s.expandtabs()"
   ]
  },
  {
   "cell_type": "raw",
   "id": "1ea9be1f",
   "metadata": {},
   "source": [
    "s = \"this is My Frist Python programming class and i am learNING pythin string and its function\"\n",
    "1. Try to extract data from index one to index 300 with a jump of 3\n",
    "2. Try to reverse a string without using reverse function\n",
    "3. Try to split a string after conversion of entire string in uppercase\n",
    "4. Try to convert the whole string into lower case\n",
    "5. Try to capitalize the whole string \n",
    "6/ Write a difference between isalnum() and isalpha()\n",
    "7. Try to give an example of expand tab\n",
    "8. Give an example of strip, lstrip and rstrip \n",
    "9. Replace a string character by another character by taking your own example\n",
    "10. Try to give a definition of string center function with and example\n",
    "11. Write your own defintion of compiler and interpretor without copy paste from internet in your language \n",
    "12. Python is a interpreted of compiled langauge give a c;ear answer with your understanding \n",
    "13. Try to write a usecase of python with your understanding. "
   ]
  },
  {
   "cell_type": "code",
   "execution_count": null,
   "id": "cbee6396",
   "metadata": {},
   "outputs": [],
   "source": [
    "https://codeshare.io/X8PY8Y"
   ]
  },
  {
   "cell_type": "raw",
   "id": "ba0c4caf",
   "metadata": {},
   "source": [
    "\n",
    "s = \"this is My First Python programming class and i am learNING python string and its function\"\n",
    "1 . Try to extract data from index one to index 300 with a jump of 3 \n",
    "2. Try to reverse a string without using reverse function \n",
    "3. Try to split a string after conversion of entire string in uppercase \n",
    "4. try to convert the whole string into lower case \n",
    "5 . Try to capitalize the whole string \n",
    "6 . Write a diference between isalnum() and isalpha()\n",
    "7. Try to give an example of expand tab\n",
    "8 . Give an example of strip , lstrip and rstrip \n",
    "9.  Replace a string charecter by another charector by taking your own example \n",
    "\"sudhanshu\"\n",
    "10 . Try  to give a defination of string center function with and exmple \n",
    "11 . Write your own definition of compiler and interpretor without copy paste form internet in your own language\n",
    "12 . Python is a interpreted of compiled language give a clear ans with your understanding \n",
    "13 . Try to write a usecase of python with your understanding \n",
    "\n",
    "\n",
    "We have to sent our jupyter notebook to shivan@ineuron.ai \n",
    "before next saturday class 21st may "
   ]
  },
  {
   "cell_type": "code",
   "execution_count": null,
   "id": "782cd591",
   "metadata": {},
   "outputs": [],
   "source": []
  },
  {
   "cell_type": "code",
   "execution_count": null,
   "id": "18f5bfbc",
   "metadata": {},
   "outputs": [],
   "source": []
  },
  {
   "cell_type": "code",
   "execution_count": null,
   "id": "073fa381",
   "metadata": {},
   "outputs": [],
   "source": []
  },
  {
   "cell_type": "code",
   "execution_count": null,
   "id": "43b465f6",
   "metadata": {},
   "outputs": [],
   "source": []
  },
  {
   "cell_type": "code",
   "execution_count": null,
   "id": "3c9566cf",
   "metadata": {},
   "outputs": [],
   "source": []
  },
  {
   "cell_type": "code",
   "execution_count": null,
   "id": "d67a8e8a",
   "metadata": {},
   "outputs": [],
   "source": []
  },
  {
   "cell_type": "code",
   "execution_count": null,
   "id": "d32d309f",
   "metadata": {},
   "outputs": [],
   "source": []
  },
  {
   "cell_type": "code",
   "execution_count": null,
   "id": "640bba8f",
   "metadata": {},
   "outputs": [],
   "source": []
  },
  {
   "cell_type": "code",
   "execution_count": null,
   "id": "94d2ac2c",
   "metadata": {},
   "outputs": [],
   "source": []
  },
  {
   "cell_type": "code",
   "execution_count": null,
   "id": "b0a7db95",
   "metadata": {},
   "outputs": [],
   "source": []
  }
 ],
 "metadata": {
  "kernelspec": {
   "display_name": "Python 3 (ipykernel)",
   "language": "python",
   "name": "python3"
  },
  "language_info": {
   "codemirror_mode": {
    "name": "ipython",
    "version": 3
   },
   "file_extension": ".py",
   "mimetype": "text/x-python",
   "name": "python",
   "nbconvert_exporter": "python",
   "pygments_lexer": "ipython3",
   "version": "3.9.7"
  }
 },
 "nbformat": 4,
 "nbformat_minor": 5
}
