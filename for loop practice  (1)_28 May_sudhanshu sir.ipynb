{
 "cells": [
  {
   "cell_type": "code",
   "execution_count": 1,
   "id": "39fae000",
   "metadata": {},
   "outputs": [],
   "source": [
    "l = [1,2,3,4,\"sudh\" ,\"kumar\" , 45.56]"
   ]
  },
  {
   "cell_type": "code",
   "execution_count": 4,
   "id": "8efb4581",
   "metadata": {},
   "outputs": [
    {
     "name": "stdout",
     "output_type": "stream",
     "text": [
      "1\n",
      "2\n",
      "3\n",
      "4\n",
      "sudh\n",
      "kumar\n",
      "45.56\n"
     ]
    }
   ],
   "source": [
    "for i in l :\n",
    "    print(i)"
   ]
  },
  {
   "cell_type": "code",
   "execution_count": 7,
   "id": "a3c4aaa1",
   "metadata": {},
   "outputs": [],
   "source": [
    "for i in l :\n",
    "    pass"
   ]
  },
  {
   "cell_type": "code",
   "execution_count": 8,
   "id": "e158d612",
   "metadata": {},
   "outputs": [
    {
     "name": "stdout",
     "output_type": "stream",
     "text": [
      "s\n",
      "u\n",
      "d\n",
      "h\n"
     ]
    }
   ],
   "source": [
    "s = \"sudh\"\n",
    "for i in s :\n",
    "    print(i)"
   ]
  },
  {
   "cell_type": "code",
   "execution_count": 9,
   "id": "0027fea7",
   "metadata": {},
   "outputs": [
    {
     "name": "stdout",
     "output_type": "stream",
     "text": [
      "1\n",
      "2\n",
      "3\n",
      "4\n",
      "sudh\n",
      "kumar\n",
      "45.56\n",
      "if for loop is going to complete itself the it will execute else \n"
     ]
    }
   ],
   "source": [
    "for i in l :\n",
    "    print(i)\n",
    "else :\n",
    "    print(\"if for loop is going to complete itself the it will execute else \")"
   ]
  },
  {
   "cell_type": "code",
   "execution_count": 10,
   "id": "d9a80907",
   "metadata": {},
   "outputs": [
    {
     "data": {
      "text/plain": [
       "[1, 2, 3, 4, 'sudh', 'kumar', 45.56]"
      ]
     },
     "execution_count": 10,
     "metadata": {},
     "output_type": "execute_result"
    }
   ],
   "source": [
    "l"
   ]
  },
  {
   "cell_type": "code",
   "execution_count": 11,
   "id": "62d285ec",
   "metadata": {},
   "outputs": [
    {
     "name": "stdout",
     "output_type": "stream",
     "text": [
      "1\n",
      "2\n",
      "3\n"
     ]
    }
   ],
   "source": [
    "for i in l :\n",
    "    if i == 4 :\n",
    "        break\n",
    "    print(i)\n",
    "else :\n",
    "    print(\"this will execute only if for is going to complete itself\")"
   ]
  },
  {
   "cell_type": "code",
   "execution_count": 13,
   "id": "3c6cb81e",
   "metadata": {},
   "outputs": [
    {
     "name": "stdout",
     "output_type": "stream",
     "text": [
      "s\n",
      "u\n",
      "d\n",
      "h\n",
      "a\n",
      "n\n",
      "s\n",
      "h\n",
      "u\n",
      "print srtring  sudhanshu\n"
     ]
    }
   ],
   "source": [
    "s = \"sudhanshu\"\n",
    "for i in s :\n",
    "    if i == 'z' :\n",
    "        break\n",
    "    print(i)\n",
    "else :\n",
    "    print(\"print srtring \" , s )\n",
    "        "
   ]
  },
  {
   "cell_type": "code",
   "execution_count": 14,
   "id": "c05c6c17",
   "metadata": {},
   "outputs": [
    {
     "name": "stdout",
     "output_type": "stream",
     "text": [
      "4\n",
      "5\n",
      "6\n",
      "7\n",
      "8\n",
      "6\n",
      "sudh\n"
     ]
    }
   ],
   "source": [
    "t = (4,5,6,7,8,6,\"sudh\")\n",
    "for i in t :\n",
    "    print(i)"
   ]
  },
  {
   "cell_type": "code",
   "execution_count": 15,
   "id": "aee7e59b",
   "metadata": {},
   "outputs": [],
   "source": [
    "b = {4,5,6,7,7,7,7,7,7,7,7, 8,\"sudh\"}"
   ]
  },
  {
   "cell_type": "code",
   "execution_count": 16,
   "id": "a124b211",
   "metadata": {},
   "outputs": [
    {
     "data": {
      "text/plain": [
       "set"
      ]
     },
     "execution_count": 16,
     "metadata": {},
     "output_type": "execute_result"
    }
   ],
   "source": [
    "type(b)"
   ]
  },
  {
   "cell_type": "code",
   "execution_count": 17,
   "id": "9e379087",
   "metadata": {},
   "outputs": [
    {
     "data": {
      "text/plain": [
       "{4, 5, 6, 7, 8, 'sudh'}"
      ]
     },
     "execution_count": 17,
     "metadata": {},
     "output_type": "execute_result"
    }
   ],
   "source": [
    "b"
   ]
  },
  {
   "cell_type": "code",
   "execution_count": 18,
   "id": "927717fe",
   "metadata": {},
   "outputs": [
    {
     "name": "stdout",
     "output_type": "stream",
     "text": [
      "4\n",
      "5\n",
      "6\n",
      "7\n",
      "8\n",
      "sudh\n"
     ]
    }
   ],
   "source": [
    "for i in b :\n",
    "    print(i)"
   ]
  },
  {
   "cell_type": "code",
   "execution_count": 20,
   "id": "444d8f49",
   "metadata": {},
   "outputs": [],
   "source": [
    "d = {'key1' :\"sudh\" , 'contact' : \"sudhanshu@ineuron.ai\" , \"position\" : \"xyz\"}"
   ]
  },
  {
   "cell_type": "code",
   "execution_count": 26,
   "id": "c49b2c4c",
   "metadata": {},
   "outputs": [
    {
     "name": "stdout",
     "output_type": "stream",
     "text": [
      "key1 : sudh\n",
      "contact : sudhanshu@ineuron.ai\n",
      "position : xyz\n"
     ]
    }
   ],
   "source": [
    "for i in d :\n",
    "    print(i ,\":\" ,  d[i] )"
   ]
  },
  {
   "cell_type": "code",
   "execution_count": 22,
   "id": "94395d44",
   "metadata": {},
   "outputs": [
    {
     "data": {
      "text/plain": [
       "'sudh'"
      ]
     },
     "execution_count": 22,
     "metadata": {},
     "output_type": "execute_result"
    }
   ],
   "source": [
    "d['key1']"
   ]
  },
  {
   "cell_type": "code",
   "execution_count": 27,
   "id": "554220c4",
   "metadata": {},
   "outputs": [
    {
     "data": {
      "text/plain": [
       "range(0, 9)"
      ]
     },
     "execution_count": 27,
     "metadata": {},
     "output_type": "execute_result"
    }
   ],
   "source": [
    "range(9)"
   ]
  },
  {
   "cell_type": "code",
   "execution_count": 28,
   "id": "9203e12d",
   "metadata": {},
   "outputs": [
    {
     "data": {
      "text/plain": [
       "[0, 1, 2, 3, 4, 5, 6, 7, 8]"
      ]
     },
     "execution_count": 28,
     "metadata": {},
     "output_type": "execute_result"
    }
   ],
   "source": [
    "list(range(9))"
   ]
  },
  {
   "cell_type": "code",
   "execution_count": 29,
   "id": "16549fcf",
   "metadata": {},
   "outputs": [
    {
     "name": "stdout",
     "output_type": "stream",
     "text": [
      "0\n",
      "1\n",
      "2\n",
      "3\n",
      "4\n",
      "5\n",
      "6\n",
      "7\n",
      "8\n"
     ]
    }
   ],
   "source": [
    "for i in range(9):\n",
    "    print(i)"
   ]
  },
  {
   "cell_type": "code",
   "execution_count": 31,
   "id": "4753ccf8",
   "metadata": {},
   "outputs": [
    {
     "data": {
      "text/plain": [
       "[0, 1, 2, 3, 4, 5, 6, 7, 8]"
      ]
     },
     "execution_count": 31,
     "metadata": {},
     "output_type": "execute_result"
    }
   ],
   "source": [
    "list(range(0,9))"
   ]
  },
  {
   "cell_type": "code",
   "execution_count": 32,
   "id": "1f883fd8",
   "metadata": {},
   "outputs": [
    {
     "data": {
      "text/plain": [
       "[0, 2, 4, 6, 8]"
      ]
     },
     "execution_count": 32,
     "metadata": {},
     "output_type": "execute_result"
    }
   ],
   "source": [
    "list(range(0,9 , 2))"
   ]
  },
  {
   "cell_type": "code",
   "execution_count": 33,
   "id": "692f4890",
   "metadata": {},
   "outputs": [
    {
     "data": {
      "text/plain": [
       "[]"
      ]
     },
     "execution_count": 33,
     "metadata": {},
     "output_type": "execute_result"
    }
   ],
   "source": [
    "list(range(0,9 , -1))"
   ]
  },
  {
   "cell_type": "code",
   "execution_count": 34,
   "id": "097f8d2e",
   "metadata": {},
   "outputs": [
    {
     "data": {
      "text/plain": [
       "[9, 8, 7, 6, 5, 4, 3, 2, 1]"
      ]
     },
     "execution_count": 34,
     "metadata": {},
     "output_type": "execute_result"
    }
   ],
   "source": [
    "list(range(9,0 , -1))"
   ]
  },
  {
   "cell_type": "code",
   "execution_count": 162,
   "id": "eb744426",
   "metadata": {},
   "outputs": [
    {
     "name": "stdout",
     "output_type": "stream",
     "text": [
      "sudh     \n",
      "\n",
      "sudh     sudh     \n",
      "\n",
      "sudh     sudh     sudh     \n",
      "\n",
      "sudh     sudh     sudh     sudh     \n",
      "\n"
     ]
    }
   ],
   "source": [
    "n = 4 \n",
    "for i in range(4) :\n",
    "    for j in range(0 ,i+1) : \n",
    "        print(\"sudh\" , end = \"     \")\n",
    "    print(\"\\n\")"
   ]
  },
  {
   "cell_type": "code",
   "execution_count": 41,
   "id": "6d5e1b53",
   "metadata": {},
   "outputs": [
    {
     "name": "stdout",
     "output_type": "stream",
     "text": [
      "          sudh \n",
      "     sudh sudh sudh \n",
      "sudh sudh sudh sudh sudh \n"
     ]
    }
   ],
   "source": [
    "n=3\n",
    "for i in range(n):\n",
    "    for j in range(i,n-1):\n",
    "        print(\" \" * len(\"sudh\"),end=\" \")\n",
    "    for j in range(i+1):\n",
    "        print(\"sudh\",end=\" \")\n",
    "    for j in range(i): \n",
    "        print(\"sudh\",end=\" \")\n",
    "    print()\n"
   ]
  },
  {
   "cell_type": "code",
   "execution_count": 42,
   "id": "539c7a4b",
   "metadata": {},
   "outputs": [
    {
     "name": "stdout",
     "output_type": "stream",
     "text": [
      "      sudh \n",
      "    sudh sudh \n",
      "  sudh sudh sudh \n",
      "sudh sudh sudh sudh \n"
     ]
    }
   ],
   "source": [
    "n=4\n",
    "k=n\n",
    "for i in range(n):\n",
    "    k=k-1\n",
    "    print('  '*k, end='')\n",
    "    for j in range(i+1):\n",
    "        print('sudh ', end= '')\n",
    "    print()\n"
   ]
  },
  {
   "cell_type": "code",
   "execution_count": 45,
   "id": "dc823bf5",
   "metadata": {},
   "outputs": [
    {
     "name": "stdout",
     "output_type": "stream",
     "text": [
      "  sudh \n",
      " sudh sudh \n",
      "sudh sudh sudh \n"
     ]
    }
   ],
   "source": [
    "n=3\n",
    "for i in range(n):\n",
    "    for j in range(i,n-1):\n",
    "        print(\"\",end=' ')\n",
    "    for j in range(i+1):\n",
    "        print(\"sudh\",end=' ')\n",
    "    print()\n"
   ]
  },
  {
   "cell_type": "code",
   "execution_count": 46,
   "id": "5cce0196",
   "metadata": {},
   "outputs": [
    {
     "name": "stdout",
     "output_type": "stream",
     "text": [
      "   \n",
      "  sudh \n",
      " sudh sudh \n",
      "sudh sudh sudh \n"
     ]
    }
   ],
   "source": [
    "n = 3\n",
    "\n",
    "for i in range(n+1):\n",
    "    print(' '*(n-i) + 'sudh '*i)\n"
   ]
  },
  {
   "cell_type": "code",
   "execution_count": 49,
   "id": "1965a936",
   "metadata": {},
   "outputs": [
    {
     "data": {
      "text/plain": [
       "[]"
      ]
     },
     "execution_count": 49,
     "metadata": {},
     "output_type": "execute_result"
    }
   ],
   "source": [
    "list(range(0))"
   ]
  },
  {
   "cell_type": "code",
   "execution_count": 50,
   "id": "ae20e482",
   "metadata": {},
   "outputs": [],
   "source": [
    "t = (3,23,45,67,2,4,5,6)"
   ]
  },
  {
   "cell_type": "code",
   "execution_count": 55,
   "id": "fa3a7dd7",
   "metadata": {},
   "outputs": [
    {
     "data": {
      "text/plain": [
       "3"
      ]
     },
     "execution_count": 55,
     "metadata": {},
     "output_type": "execute_result"
    }
   ],
   "source": [
    "t[0]"
   ]
  },
  {
   "cell_type": "code",
   "execution_count": 57,
   "id": "787cc580",
   "metadata": {},
   "outputs": [
    {
     "name": "stdout",
     "output_type": "stream",
     "text": [
      "0 3\n",
      "1 23\n",
      "2 45\n",
      "3 67\n",
      "4 2\n",
      "5 4\n",
      "6 5\n",
      "7 6\n"
     ]
    }
   ],
   "source": [
    "for i in range(len(t)):\n",
    "    print(i,t[i])"
   ]
  },
  {
   "cell_type": "code",
   "execution_count": 54,
   "id": "d945f1c1",
   "metadata": {},
   "outputs": [
    {
     "data": {
      "text/plain": [
       "[0, 1, 2, 3, 4, 5, 6, 7]"
      ]
     },
     "execution_count": 54,
     "metadata": {},
     "output_type": "execute_result"
    }
   ],
   "source": [
    "list(range(len(t)))"
   ]
  },
  {
   "cell_type": "code",
   "execution_count": 51,
   "id": "45ec0df8",
   "metadata": {},
   "outputs": [
    {
     "name": "stdout",
     "output_type": "stream",
     "text": [
      "0 3\n",
      "1 23\n",
      "2 45\n",
      "3 67\n",
      "4 2\n",
      "5 4\n",
      "6 5\n",
      "7 6\n"
     ]
    }
   ],
   "source": [
    "t = (3,23,45,67,2,4,5,6)\n",
    "\n",
    "for i in range(len(t)):\n",
    "    print(i,t[i])\n"
   ]
  },
  {
   "cell_type": "code",
   "execution_count": 60,
   "id": "f03784cb",
   "metadata": {},
   "outputs": [
    {
     "name": "stdout",
     "output_type": "stream",
     "text": [
      "0 i\n",
      "1 n\n",
      "2 e\n",
      "3 u\n",
      "4 r\n",
      "5 o\n",
      "6 n\n"
     ]
    }
   ],
   "source": [
    "s = \"ineuron\"\n",
    "for i in range(len(s)) : \n",
    "    print(i , s[i])"
   ]
  },
  {
   "cell_type": "code",
   "execution_count": 61,
   "id": "a3373360",
   "metadata": {},
   "outputs": [
    {
     "data": {
      "text/plain": [
       "'ineuron'"
      ]
     },
     "execution_count": 61,
     "metadata": {},
     "output_type": "execute_result"
    }
   ],
   "source": [
    "s "
   ]
  },
  {
   "cell_type": "code",
   "execution_count": 69,
   "id": "c9c66ea9",
   "metadata": {},
   "outputs": [
    {
     "name": "stdout",
     "output_type": "stream",
     "text": [
      "6 n\n",
      "5 o\n",
      "4 r\n",
      "3 u\n",
      "2 e\n",
      "1 n\n",
      "0 i\n"
     ]
    }
   ],
   "source": [
    "for i in range(len(s)-1 , -1, -1):\n",
    "    print(i , s[i])"
   ]
  },
  {
   "cell_type": "code",
   "execution_count": 70,
   "id": "07908b6b",
   "metadata": {},
   "outputs": [
    {
     "data": {
      "text/plain": [
       "{'key1': 'sudh', 'contact': 'sudhanshu@ineuron.ai', 'position': 'xyz'}"
      ]
     },
     "execution_count": 70,
     "metadata": {},
     "output_type": "execute_result"
    }
   ],
   "source": [
    "d"
   ]
  },
  {
   "cell_type": "code",
   "execution_count": 74,
   "id": "1a11f6a0",
   "metadata": {},
   "outputs": [
    {
     "name": "stdout",
     "output_type": "stream",
     "text": [
      "('key1', 'sudh') <class 'tuple'> <class 'str'>\n",
      "('contact', 'sudhanshu@ineuron.ai') <class 'tuple'> <class 'str'>\n",
      "('position', 'xyz') <class 'tuple'> <class 'str'>\n"
     ]
    }
   ],
   "source": [
    "for i in d.items():\n",
    "    print(i , type(i) , type(i[1]))"
   ]
  },
  {
   "cell_type": "code",
   "execution_count": 75,
   "id": "27105750",
   "metadata": {},
   "outputs": [],
   "source": [
    "l = [\"sudh\" , \"kuamr\" , 3234545 , \"sudhanshu@ineuron.ai\" , 345, 34345353]\n",
    "l1 = []\n",
    "for i in l :\n",
    "    if type(i) == int :\n",
    "        l1.append(i)\n",
    "\n"
   ]
  },
  {
   "cell_type": "code",
   "execution_count": 76,
   "id": "b4ac33cc",
   "metadata": {},
   "outputs": [
    {
     "data": {
      "text/plain": [
       "[3234545, 345, 34345353]"
      ]
     },
     "execution_count": 76,
     "metadata": {},
     "output_type": "execute_result"
    }
   ],
   "source": [
    "l1"
   ]
  },
  {
   "cell_type": "code",
   "execution_count": 77,
   "id": "bf54b65b",
   "metadata": {},
   "outputs": [],
   "source": [
    " d = {1: 3345345  , \"name\" : \"sudh\" , \"email_id\" : \"sudhanshu@ineuron.ai\" , 234 : \"fsfddsf\" , \"43\" : \"sfsaf\" , 234 : \"3454\"}"
   ]
  },
  {
   "cell_type": "code",
   "execution_count": 79,
   "id": "c502d0ca",
   "metadata": {},
   "outputs": [
    {
     "name": "stdout",
     "output_type": "stream",
     "text": [
      "1 : 3345345\n",
      "234 : 3454\n"
     ]
    }
   ],
   "source": [
    "for i in d :\n",
    "    if type(i) == int :\n",
    "        print(i , \":\"  , d[i])"
   ]
  },
  {
   "cell_type": "code",
   "execution_count": 80,
   "id": "bc5be456",
   "metadata": {},
   "outputs": [],
   "source": [
    "s = \"aaaabbccd\""
   ]
  },
  {
   "cell_type": "code",
   "execution_count": 83,
   "id": "b62dc9a2",
   "metadata": {},
   "outputs": [
    {
     "name": "stdout",
     "output_type": "stream",
     "text": [
      "b : 2\n",
      "a : 4\n",
      "c : 2\n",
      "d : 1\n"
     ]
    }
   ],
   "source": [
    "for i in set(s):\n",
    "    print(i  , \":\" , s.count(i))    "
   ]
  },
  {
   "cell_type": "code",
   "execution_count": 82,
   "id": "c2546bb9",
   "metadata": {},
   "outputs": [
    {
     "data": {
      "text/plain": [
       "4"
      ]
     },
     "execution_count": 82,
     "metadata": {},
     "output_type": "execute_result"
    }
   ],
   "source": [
    "s.count('a')"
   ]
  },
  {
   "cell_type": "code",
   "execution_count": 89,
   "id": "35375dc5",
   "metadata": {},
   "outputs": [
    {
     "name": "stdout",
     "output_type": "stream",
     "text": [
      "3 <class 'int'>\n",
      "4 <class 'int'>\n",
      "5 <class 'int'>\n",
      "3 <class 'int'>\n",
      "4 <class 'int'>\n",
      "6 <class 'int'>\n",
      "5 <class 'int'>\n",
      "4 <class 'int'>\n",
      "6 <class 'int'>\n",
      "4 <class 'int'>\n",
      "6 <class 'int'>\n",
      "4 <class 'int'>\n",
      "3 <class 'int'>\n",
      "5 <class 'int'>\n"
     ]
    }
   ],
   "source": [
    "i = 34534654646435\n",
    "for j in str(i) :\n",
    "    print(int(j ), type(int(j)))"
   ]
  },
  {
   "cell_type": "code",
   "execution_count": 85,
   "id": "1a78889b",
   "metadata": {},
   "outputs": [
    {
     "data": {
      "text/plain": [
       "'34534654646435'"
      ]
     },
     "execution_count": 85,
     "metadata": {},
     "output_type": "execute_result"
    }
   ],
   "source": [
    "str(i)"
   ]
  },
  {
   "cell_type": "code",
   "execution_count": 98,
   "id": "b7c07cb6",
   "metadata": {},
   "outputs": [],
   "source": [
    "t = (\"sudh\" , \"kumar\" ,[1,2,3,4,5] , (3,4,5,6) , {3:3 , \"key2\" :\"kumar\"})"
   ]
  },
  {
   "cell_type": "code",
   "execution_count": 127,
   "id": "ee62969e",
   "metadata": {},
   "outputs": [],
   "source": [
    "t=(\"sudh\",\"kumar\",[1,3,5,7,4],(3,5,88,4),{3:3,3:\"kjshdf\",\"key1\":\"sudh\",\"key2\":\"kumar\"})"
   ]
  },
  {
   "cell_type": "code",
   "execution_count": 128,
   "id": "3d9496f8",
   "metadata": {},
   "outputs": [
    {
     "name": "stdout",
     "output_type": "stream",
     "text": [
      "3\n",
      "3\n",
      "3\n",
      "kjshdf\n"
     ]
    }
   ],
   "source": [
    "for i in t :\n",
    "    if type(i) == list or type(i) == tuple :\n",
    "        for j in i :\n",
    "            if j == 3 :\n",
    "                print(j)\n",
    "    if type(i) == dict :\n",
    "        for k,v  in i.items():\n",
    "            if k == 3 or v == 3 :\n",
    "                print(k)\n",
    "                print(v)\n",
    "        "
   ]
  },
  {
   "cell_type": "code",
   "execution_count": 134,
   "id": "76b278bf",
   "metadata": {},
   "outputs": [],
   "source": [
    "d = {4:5 , \"key1\" : \"sudh\" , \"key2\" : \"kumar\"}"
   ]
  },
  {
   "cell_type": "code",
   "execution_count": 135,
   "id": "0955b52c",
   "metadata": {},
   "outputs": [
    {
     "data": {
      "text/plain": [
       "dict_items([(4, 5), ('key1', 'sudh'), ('key2', 'kumar')])"
      ]
     },
     "execution_count": 135,
     "metadata": {},
     "output_type": "execute_result"
    }
   ],
   "source": [
    "d.items()"
   ]
  },
  {
   "cell_type": "code",
   "execution_count": 137,
   "id": "b54881ee",
   "metadata": {},
   "outputs": [
    {
     "name": "stdout",
     "output_type": "stream",
     "text": [
      "(4, 5)\n",
      "('key1', 'sudh')\n",
      "('key2', 'kumar')\n"
     ]
    }
   ],
   "source": [
    "for i in d.items():\n",
    "    print(i)"
   ]
  },
  {
   "cell_type": "code",
   "execution_count": 105,
   "id": "4f78888b",
   "metadata": {},
   "outputs": [
    {
     "data": {
      "text/plain": [
       "dict_items([(4, 5), ('key1', 'sudh'), ('key2', 'kumar')])"
      ]
     },
     "execution_count": 105,
     "metadata": {},
     "output_type": "execute_result"
    }
   ],
   "source": [
    "d.items()"
   ]
  },
  {
   "cell_type": "code",
   "execution_count": 107,
   "id": "99091377",
   "metadata": {},
   "outputs": [],
   "source": [
    "a = 10 \n",
    "b = 20\n",
    "c = 30 "
   ]
  },
  {
   "cell_type": "code",
   "execution_count": 108,
   "id": "b1a6b6ca",
   "metadata": {},
   "outputs": [],
   "source": [
    "a , b , c = 10 , 20 , 30 "
   ]
  },
  {
   "cell_type": "code",
   "execution_count": 109,
   "id": "41ab2383",
   "metadata": {},
   "outputs": [],
   "source": [
    "a,b,c = (10,20,30)"
   ]
  },
  {
   "cell_type": "code",
   "execution_count": 113,
   "id": "db438917",
   "metadata": {},
   "outputs": [
    {
     "ename": "IndentationError",
     "evalue": "unindent does not match any outer indentation level (<tokenize>, line 10)",
     "output_type": "error",
     "traceback": [
      "\u001b[1;36m  File \u001b[1;32m\"<tokenize>\"\u001b[1;36m, line \u001b[1;32m10\u001b[0m\n\u001b[1;33m    ineruon      ineruon\u001b[0m\n\u001b[1;37m    ^\u001b[0m\n\u001b[1;31mIndentationError\u001b[0m\u001b[1;31m:\u001b[0m unindent does not match any outer indentation level\n"
     ]
    }
   ],
   "source": [
    "q1 :\n",
    "ineruon \n",
    "ineruon ineruon \n",
    "ineruon ineruon ineruon\n",
    "ineruon ineruon ineruon ineruon\n",
    "\n",
    "q2 - \n",
    "\n",
    "          ineruon\n",
    "    ineruon      ineruon\n",
    "ineruon\t\tineruon \tineruon\n",
    "\tineruon\t\t ineruon\n",
    "\t\t  ineruon\n",
    "\n",
    "l = [[1,2,3,4] , (2,3,4,5,6) , (3,4,5,6,7) , set([23,4,5,45,4,4,5,45,45,4,5]) , {'k1' :\"sudh\" , \"k2\" : \"ineuron\",\"k3\":\n",
    "            \"kumar\" , 3:6 , 7:8} , [\"ineuron\" , \"data science \"]]\n",
    "\n",
    "q3 : Try to extract all the list entity \n",
    "q4 : Try to extract all the dict enteties\n",
    "q5 : Try to extract all the tuples entities\n",
    "q6 : Try to extract all the numerical data it may b a part of dict key and values \n",
    "q7 : Try to give summation of all the numeric data \n",
    "q8 : Try to filter out all the odd values out all numeric data which is a part of a list \n",
    "q9 : Try to extract \"ineruon\" out of this data\n",
    "q10 :Try to find out a number of occurances of all the data \n",
    "q11 : Try to find out number of keys in dict element\n",
    "q12 : Try to filter out all the string data \n",
    "q13 : Try to Find  out alphanum in data\n",
    "q14 : Try to find out multiplication of all numeric value in  the individual collection inside dataset \n",
    "q15 : Try to unwrape all the collection inside collection and create a flat list \n",
    "    \n",
    "    \n",
    "before 29th may 2022 3 PM IST you have to send an answer to me or to shivan \n",
    "sudhanshu@ineuron.ai\n",
    "shivan@ineuron.ai"
   ]
  },
  {
   "cell_type": "code",
   "execution_count": 115,
   "id": "577d9dfb",
   "metadata": {},
   "outputs": [
    {
     "ename": "TypeError",
     "evalue": "unhashable type: 'list'",
     "output_type": "error",
     "traceback": [
      "\u001b[1;31m---------------------------------------------------------------------------\u001b[0m",
      "\u001b[1;31mTypeError\u001b[0m                                 Traceback (most recent call last)",
      "\u001b[1;32m~\\AppData\\Local\\Temp/ipykernel_36256/3516709124.py\u001b[0m in \u001b[0;36m<module>\u001b[1;34m\u001b[0m\n\u001b[1;32m----> 1\u001b[1;33m \u001b[0md\u001b[0m\u001b[1;33m=\u001b[0m \u001b[1;33m{\u001b[0m\u001b[1;34m'key1'\u001b[0m \u001b[1;33m:\u001b[0m\u001b[1;34m\"sudh\"\u001b[0m \u001b[1;33m,\u001b[0m \u001b[1;33m(\u001b[0m\u001b[1;36m3\u001b[0m\u001b[1;33m,\u001b[0m\u001b[1;36m4\u001b[0m\u001b[1;33m,\u001b[0m\u001b[1;36m5\u001b[0m\u001b[1;33m,\u001b[0m\u001b[1;36m65\u001b[0m\u001b[1;33m)\u001b[0m \u001b[1;33m:\u001b[0m \u001b[1;34m\"fdsfdsd\"\u001b[0m \u001b[1;33m,\u001b[0m \u001b[1;33m[\u001b[0m\u001b[1;36m3\u001b[0m\u001b[1;33m,\u001b[0m\u001b[1;36m4\u001b[0m\u001b[1;33m,\u001b[0m\u001b[1;36m5\u001b[0m\u001b[1;33m,\u001b[0m\u001b[1;36m6\u001b[0m\u001b[1;33m]\u001b[0m \u001b[1;33m:\u001b[0m\u001b[1;34m\"345\"\u001b[0m\u001b[1;33m}\u001b[0m\u001b[1;33m\u001b[0m\u001b[1;33m\u001b[0m\u001b[0m\n\u001b[0m",
      "\u001b[1;31mTypeError\u001b[0m: unhashable type: 'list'"
     ]
    }
   ],
   "source": [
    "d= {'key1' :\"sudh\" , (3,4,5,65) : \"fdsfdsd\" , [3,4,5,6] :\"345\"}"
   ]
  },
  {
   "cell_type": "code",
   "execution_count": 116,
   "id": "e94d0e64",
   "metadata": {},
   "outputs": [
    {
     "name": "stdout",
     "output_type": "stream",
     "text": [
      "3\n",
      "3\n",
      "3\n",
      "3\n"
     ]
    }
   ],
   "source": [
    "for i in t:\n",
    "    if type(i) == list or type(i) == tuple:\n",
    "        for j in i:\n",
    "            if j == 3:\n",
    "                print(j)\n",
    "    if type(i) == dict:\n",
    "        for k,v in i.items():\n",
    "            if k == 3 or v == 3:\n",
    "                print(k)\n",
    "                print(v)"
   ]
  },
  {
   "cell_type": "code",
   "execution_count": 123,
   "id": "4269cdc2",
   "metadata": {},
   "outputs": [
    {
     "ename": "KeyError",
     "evalue": "'a'",
     "output_type": "error",
     "traceback": [
      "\u001b[1;31m---------------------------------------------------------------------------\u001b[0m",
      "\u001b[1;31mKeyError\u001b[0m                                  Traceback (most recent call last)",
      "\u001b[1;32m~\\AppData\\Local\\Temp/ipykernel_36256/3418551350.py\u001b[0m in \u001b[0;36m<module>\u001b[1;34m\u001b[0m\n\u001b[0;32m      1\u001b[0m \u001b[0md1\u001b[0m \u001b[1;33m=\u001b[0m \u001b[1;33m{\u001b[0m\u001b[1;33m}\u001b[0m\u001b[1;33m\u001b[0m\u001b[1;33m\u001b[0m\u001b[0m\n\u001b[1;32m----> 2\u001b[1;33m \u001b[0md1\u001b[0m\u001b[1;33m[\u001b[0m\u001b[1;34m'a'\u001b[0m\u001b[1;33m]\u001b[0m \u001b[1;33m==\u001b[0m \u001b[1;32mNone\u001b[0m\u001b[1;33m\u001b[0m\u001b[1;33m\u001b[0m\u001b[0m\n\u001b[0m",
      "\u001b[1;31mKeyError\u001b[0m: 'a'"
     ]
    }
   ],
   "source": [
    "d1 = {}\n",
    "d1['a'] == None"
   ]
  },
  {
   "cell_type": "code",
   "execution_count": 122,
   "id": "b023587b",
   "metadata": {},
   "outputs": [
    {
     "ename": "KeyError",
     "evalue": "'a'",
     "output_type": "error",
     "traceback": [
      "\u001b[1;31m---------------------------------------------------------------------------\u001b[0m",
      "\u001b[1;31mKeyError\u001b[0m                                  Traceback (most recent call last)",
      "\u001b[1;32m~\\AppData\\Local\\Temp/ipykernel_36256/983012404.py\u001b[0m in \u001b[0;36m<module>\u001b[1;34m\u001b[0m\n\u001b[0;32m      3\u001b[0m \u001b[1;33m\u001b[0m\u001b[0m\n\u001b[0;32m      4\u001b[0m \u001b[1;32mfor\u001b[0m \u001b[0mi\u001b[0m \u001b[1;32min\u001b[0m \u001b[0ms\u001b[0m\u001b[1;33m:\u001b[0m\u001b[1;33m\u001b[0m\u001b[1;33m\u001b[0m\u001b[0m\n\u001b[1;32m----> 5\u001b[1;33m     \u001b[1;32mif\u001b[0m \u001b[0md1\u001b[0m\u001b[1;33m[\u001b[0m\u001b[0mi\u001b[0m\u001b[1;33m]\u001b[0m\u001b[1;33m==\u001b[0m\u001b[1;32mNone\u001b[0m \u001b[1;33m:\u001b[0m\u001b[1;33m\u001b[0m\u001b[1;33m\u001b[0m\u001b[0m\n\u001b[0m\u001b[0;32m      6\u001b[0m         \u001b[0mkey\u001b[0m\u001b[1;33m=\u001b[0m\u001b[0mi\u001b[0m\u001b[1;33m\u001b[0m\u001b[1;33m\u001b[0m\u001b[0m\n\u001b[0;32m      7\u001b[0m         \u001b[0md1\u001b[0m\u001b[1;33m=\u001b[0m\u001b[1;33m{\u001b[0m\u001b[0mkey\u001b[0m\u001b[1;33m:\u001b[0m\u001b[1;36m0\u001b[0m\u001b[1;33m}\u001b[0m\u001b[1;33m\u001b[0m\u001b[1;33m\u001b[0m\u001b[0m\n",
      "\u001b[1;31mKeyError\u001b[0m: 'a'"
     ]
    }
   ],
   "source": [
    "s=\"aaaabbccd\"\n",
    "d1={}\n",
    "\n",
    "for i in s:\n",
    "    if d1[i]==None :\n",
    "        key=i\n",
    "        d1={key:0}\n",
    "    else:\n",
    "        d1[i]=d1[i]+1\n",
    "print(d1)\n"
   ]
  },
  {
   "cell_type": "code",
   "execution_count": 120,
   "id": "27afcae7",
   "metadata": {},
   "outputs": [],
   "source": [
    "s=\"aaaabbccd\"\n",
    "d = {}\n",
    "for i in set(s) : \n",
    "    d[i] =  s.count(i)\n",
    "    "
   ]
  },
  {
   "cell_type": "code",
   "execution_count": 121,
   "id": "761bf90f",
   "metadata": {},
   "outputs": [
    {
     "data": {
      "text/plain": [
       "{'b': 2, 'a': 4, 'c': 2, 'd': 1}"
      ]
     },
     "execution_count": 121,
     "metadata": {},
     "output_type": "execute_result"
    }
   ],
   "source": [
    "d"
   ]
  },
  {
   "cell_type": "code",
   "execution_count": 130,
   "id": "ca866355",
   "metadata": {},
   "outputs": [
    {
     "data": {
      "text/plain": [
       "([6, 5, 4, 3, 2, 1, 0], 'ineuron')"
      ]
     },
     "execution_count": 130,
     "metadata": {},
     "output_type": "execute_result"
    }
   ],
   "source": [
    "l = list(range(6,-1,-1))\n",
    "s = 'ineuron'\n",
    "t = (l,s)\n",
    "\n",
    "t"
   ]
  },
  {
   "cell_type": "code",
   "execution_count": 131,
   "id": "18b0e400",
   "metadata": {},
   "outputs": [
    {
     "name": "stdout",
     "output_type": "stream",
     "text": [
      "([6, 5, 4, 3, 2, 1, 0], 'ineuron')\n"
     ]
    },
    {
     "ename": "ValueError",
     "evalue": "too many values to unpack (expected 2)",
     "output_type": "error",
     "traceback": [
      "\u001b[1;31m---------------------------------------------------------------------------\u001b[0m",
      "\u001b[1;31mValueError\u001b[0m                                Traceback (most recent call last)",
      "\u001b[1;32m~\\AppData\\Local\\Temp/ipykernel_36256/401628409.py\u001b[0m in \u001b[0;36m<module>\u001b[1;34m\u001b[0m\n\u001b[0;32m      1\u001b[0m \u001b[0mprint\u001b[0m\u001b[1;33m(\u001b[0m\u001b[0mt\u001b[0m\u001b[1;33m)\u001b[0m\u001b[1;33m\u001b[0m\u001b[1;33m\u001b[0m\u001b[0m\n\u001b[1;32m----> 2\u001b[1;33m \u001b[1;32mfor\u001b[0m \u001b[0mi\u001b[0m\u001b[1;33m,\u001b[0m\u001b[0mj\u001b[0m \u001b[1;32min\u001b[0m \u001b[0mt\u001b[0m\u001b[1;33m:\u001b[0m\u001b[1;33m\u001b[0m\u001b[1;33m\u001b[0m\u001b[0m\n\u001b[0m\u001b[0;32m      3\u001b[0m     \u001b[0mprint\u001b[0m\u001b[1;33m(\u001b[0m\u001b[0mi\u001b[0m\u001b[1;33m,\u001b[0m\u001b[0mj\u001b[0m\u001b[1;33m)\u001b[0m\u001b[1;33m\u001b[0m\u001b[1;33m\u001b[0m\u001b[0m\n",
      "\u001b[1;31mValueError\u001b[0m: too many values to unpack (expected 2)"
     ]
    }
   ],
   "source": [
    "print(t)\n",
    "for i,j in t:\n",
    "    print(i,j)"
   ]
  },
  {
   "cell_type": "code",
   "execution_count": 132,
   "id": "18fc6daf",
   "metadata": {},
   "outputs": [
    {
     "data": {
      "text/plain": [
       "{'b': 2, 'a': 4, 'c': 2, 'd': 1}"
      ]
     },
     "execution_count": 132,
     "metadata": {},
     "output_type": "execute_result"
    }
   ],
   "source": [
    "d"
   ]
  },
  {
   "cell_type": "code",
   "execution_count": 133,
   "id": "c3937a50",
   "metadata": {},
   "outputs": [
    {
     "data": {
      "text/plain": [
       "dict_items([('b', 2), ('a', 4), ('c', 2), ('d', 1)])"
      ]
     },
     "execution_count": 133,
     "metadata": {},
     "output_type": "execute_result"
    }
   ],
   "source": [
    "d.items()"
   ]
  },
  {
   "cell_type": "code",
   "execution_count": null,
   "id": "7cf489b5",
   "metadata": {},
   "outputs": [],
   "source": [
    "1.\ti = j = [3]\n",
    "              i += j\n",
    "              print(i,j)\n",
    "\n",
    "\n",
    "2.\tset = {\"python\", \"coding\", \"tips\", \"for\", \"beginners\"}\n",
    "               print(set)\n",
    "              ''.join(set)\n",
    "3.\ttuple = (\"python\", \"coding\", \"tips\", \"for\", \"beginners\")\n",
    "               print(tuple)\n",
    "              ''.join(tuple)\n",
    "4.\tprint(dict((\"py\", \"th\", \"on\")))\n",
    "5.\tx, y = (0,1) if True else None, None\n",
    "print(x)\n",
    "6.\ti = j = [3]\n",
    "i += j\n",
    "print(i,j)\n"
   ]
  },
  {
   "cell_type": "code",
   "execution_count": 139,
   "id": "46d04ef0",
   "metadata": {},
   "outputs": [
    {
     "name": "stdout",
     "output_type": "stream",
     "text": [
      "[3, 3] [3]\n"
     ]
    }
   ],
   "source": [
    "i = j = [3]\n",
    "i = [3] + [3]\n",
    "print(i,j)"
   ]
  },
  {
   "cell_type": "code",
   "execution_count": 142,
   "id": "91e56cff",
   "metadata": {},
   "outputs": [
    {
     "name": "stdout",
     "output_type": "stream",
     "text": [
      "{'tips', 'for', 'coding', 'python', 'beginners'}\n"
     ]
    },
    {
     "data": {
      "text/plain": [
       "'tips for coding python beginners'"
      ]
     },
     "execution_count": 142,
     "metadata": {},
     "output_type": "execute_result"
    }
   ],
   "source": [
    "set = {\"python\", \"coding\", \"tips\", \"for\", \"beginners\"}\n",
    "print(set)\n",
    "' '.join(set)"
   ]
  },
  {
   "cell_type": "code",
   "execution_count": 144,
   "id": "691847f4",
   "metadata": {},
   "outputs": [
    {
     "name": "stdout",
     "output_type": "stream",
     "text": [
      "('python', 'coding', 'tips', 'for', 'beginners')\n"
     ]
    },
    {
     "data": {
      "text/plain": [
       "'python coding tips for beginners'"
      ]
     },
     "execution_count": 144,
     "metadata": {},
     "output_type": "execute_result"
    }
   ],
   "source": [
    "tuple = (\"python\", \"coding\", \"tips\", \"for\", \"beginners\")\n",
    "print(tuple)\n",
    "' '.join(tuple)"
   ]
  },
  {
   "cell_type": "code",
   "execution_count": 145,
   "id": "bd8d1a9c",
   "metadata": {},
   "outputs": [
    {
     "name": "stdout",
     "output_type": "stream",
     "text": [
      "{'p': 'y', 't': 'h', 'o': 'n'}\n"
     ]
    }
   ],
   "source": [
    "print(dict((\"py\", \"th\", \"on\")))"
   ]
  },
  {
   "cell_type": "code",
   "execution_count": 159,
   "id": "029b152d",
   "metadata": {},
   "outputs": [
    {
     "name": "stdout",
     "output_type": "stream",
     "text": [
      "(0, 1)\n"
     ]
    }
   ],
   "source": [
    "x, y = (0,1) if True else None , None\n",
    "print(x)"
   ]
  },
  {
   "cell_type": "code",
   "execution_count": null,
   "id": "1d89ad27",
   "metadata": {},
   "outputs": [],
   "source": [
    "i = j = [3]\n",
    "i += j\n",
    "print(i,j)"
   ]
  },
  {
   "cell_type": "code",
   "execution_count": 160,
   "id": "1416dae1",
   "metadata": {},
   "outputs": [
    {
     "name": "stdout",
     "output_type": "stream",
     "text": [
      "          * \n",
      "        * * * \n",
      "      * * * * * \n",
      "    * * * * * * * \n",
      "  * * * * * * * * * \n",
      "    * * * * * * * \n",
      "      * * * * * \n",
      "        * * * \n",
      "          * \n"
     ]
    }
   ],
   "source": [
    "n=5\n",
    "for i in range(n-1):\n",
    "    for j in range(i,n):\n",
    "        print(\" \",end=\" \")\n",
    "    for j in range(i):\n",
    "        print(\"*\",end=\" \")\n",
    "    for j in range(i+1):\n",
    "        print(\"*\",end=\" \")\n",
    "    print()\n",
    "for i in range(n):    \n",
    "    for j in range(i+1):\n",
    "        print(\" \",end=\" \")\n",
    "    for j in range(i,n-1):\n",
    "        print(\"*\",end=\" \")\n",
    "    for j in range(i,n):\n",
    "        print(\"*\",end=\" \")\n",
    "    print()\n"
   ]
  },
  {
   "cell_type": "code",
   "execution_count": 169,
   "id": "66aee2a0",
   "metadata": {},
   "outputs": [],
   "source": [
    "s = {1,1,1,11,1,1,4,4,4,4}"
   ]
  },
  {
   "cell_type": "code",
   "execution_count": 170,
   "id": "b7a06dfe",
   "metadata": {},
   "outputs": [],
   "source": [
    "f = frozenset((1,2,2,3,34,4,4,4,4))"
   ]
  },
  {
   "cell_type": "code",
   "execution_count": 171,
   "id": "d81c4500",
   "metadata": {},
   "outputs": [],
   "source": [
    "s.add(3)"
   ]
  },
  {
   "cell_type": "code",
   "execution_count": 177,
   "id": "061f7670",
   "metadata": {},
   "outputs": [
    {
     "name": "stdout",
     "output_type": "stream",
     "text": [
      "sudh*\n",
      "sudh*sudh*\n",
      "sudh*sudh*sudh*\n",
      "sudh*sudh*sudh*sudh*\n"
     ]
    }
   ],
   "source": [
    "for i in range(4) :\n",
    "    for j in range (0 , i+1) :\n",
    "        print(\"sudh\" , end = \"*\")\n",
    "    print()"
   ]
  },
  {
   "cell_type": "code",
   "execution_count": 32,
   "id": "3f391244",
   "metadata": {},
   "outputs": [],
   "source": [
    "l= [(3,4,5,6) , [2,4,5,5,6] , {'k1' : 'v1' , 'k2' :'v2'}]\n",
    "l1 = []"
   ]
  },
  {
   "cell_type": "code",
   "execution_count": 35,
   "id": "f2e26c2d",
   "metadata": {},
   "outputs": [],
   "source": [
    "for i in l :\n",
    "    if type(i) == list or type( i )== tuple :\n",
    "        for j in i :\n",
    "            l1.append(j)\n",
    "    if type(i) == dict :\n",
    "        for k in i.items():\n",
    "            for m in k :\n",
    "                l1.append(m)    "
   ]
  },
  {
   "cell_type": "code",
   "execution_count": 34,
   "id": "47b4e893",
   "metadata": {},
   "outputs": [
    {
     "data": {
      "text/plain": [
       "[3, 4, 5, 6, 2, 4, 5, 5, 6, 'k1', 'v1', 'k2', 'v2']"
      ]
     },
     "execution_count": 34,
     "metadata": {},
     "output_type": "execute_result"
    }
   ],
   "source": [
    "l1"
   ]
  },
  {
   "cell_type": "code",
   "execution_count": 37,
   "id": "234bf593",
   "metadata": {},
   "outputs": [
    {
     "data": {
      "text/plain": [
       "1"
      ]
     },
     "execution_count": 37,
     "metadata": {},
     "output_type": "execute_result"
    }
   ],
   "source": [
    "5%2"
   ]
  },
  {
   "cell_type": "code",
   "execution_count": 39,
   "id": "f7c7e969",
   "metadata": {},
   "outputs": [
    {
     "name": "stdout",
     "output_type": "stream",
     "text": [
      "3\n",
      "3\n",
      "3\n",
      "3\n"
     ]
    }
   ],
   "source": [
    "t = (\"sudh\" , \"kumar\" , [1,2,3,4,5] , (3,4,5,6) , {3:3 , \"key2\":\"kumar\"})\n",
    "for i in t :\n",
    "    if type(i) == list or type(i) == tuple :\n",
    "        for j in i :\n",
    "            if j == 3 :\n",
    "                print(j)\n",
    "    if type(i) == dict : \n",
    "        for k,v  in i.items():\n",
    "            if k == 3 or v == 3 :\n",
    "                    print(k)\n",
    "                    print(v)\n"
   ]
  },
  {
   "cell_type": "code",
   "execution_count": 41,
   "id": "776d959d",
   "metadata": {},
   "outputs": [
    {
     "name": "stdout",
     "output_type": "stream",
     "text": [
      "No\n"
     ]
    }
   ],
   "source": [
    "a = \"sudh\"\n",
    "\n",
    "if \"3\" in a:\n",
    "    print(\"yes\")\n",
    "else:\n",
    "    print(\"No\")\n"
   ]
  },
  {
   "cell_type": "code",
   "execution_count": null,
   "id": "81e7d146",
   "metadata": {},
   "outputs": [],
   "source": [
    "a = \"sudh\"\n",
    "\n",
    "if 3 in a:\n",
    "    print(\"yes\")\n",
    "else:\n",
    "    print(\"No\")\n",
    "\n",
    "\n",
    "\n",
    "b = [\"sudh\",\"kumar\",\"vyas\"]\n",
    "\n",
    "if 3 in b:\n",
    "    print(\"yes\")\n",
    "else:\n",
    "    print(\"No\")\n"
   ]
  },
  {
   "cell_type": "code",
   "execution_count": 45,
   "id": "8fec796f",
   "metadata": {},
   "outputs": [
    {
     "name": "stdout",
     "output_type": "stream",
     "text": [
      "sudh \n",
      "\n",
      "sudh sudh \n",
      "\n",
      "sudh sudh sudh \n",
      "\n",
      "sudh sudh sudh sudh \n",
      "\n"
     ]
    }
   ],
   "source": [
    "n = 4\n",
    "for i in range(4) :\n",
    "    for j in range(0,i+1) :\n",
    "        print(\"sudh\" , end =\" \")\n",
    "    print(\"\\n\")\n"
   ]
  },
  {
   "cell_type": "code",
   "execution_count": 48,
   "id": "3d5e2090",
   "metadata": {},
   "outputs": [
    {
     "name": "stdout",
     "output_type": "stream",
     "text": [
      "  sudh \n",
      " sudh sudh sudh \n",
      "sudh sudh sudh sudh sudh \n"
     ]
    }
   ],
   "source": [
    "n=3\n",
    "for i in range (n):\n",
    "    for j in range(i,n-1):\n",
    "        print(\"\" *len(\"sudh\"),end= \" \")\n",
    "    for j in range (i+1):\n",
    "        print(\"sudh\",end=\" \" )\n",
    "    for j in range(i):\n",
    "        print(\"sudh\",end= \" \")\n",
    "    print()\n"
   ]
  },
  {
   "cell_type": "code",
   "execution_count": 50,
   "id": "2eef345e",
   "metadata": {},
   "outputs": [
    {
     "name": "stdout",
     "output_type": "stream",
     "text": [
      "3\n",
      "3\n",
      "3\n",
      "3\n"
     ]
    }
   ],
   "source": [
    "for i in t :\n",
    "    if type(i) == list or type (i) == tuple :\n",
    "        for j in i :\n",
    "            if j ==3 :\n",
    "                print(j)\n",
    "    if type(i) ==dict :\n",
    "            for k,v in i . items():\n",
    "                if k == 3 or v == 3:\n",
    "                    print(k)   \n",
    "                    print(v)\n"
   ]
  },
  {
   "cell_type": "code",
   "execution_count": 54,
   "id": "414d91fa",
   "metadata": {},
   "outputs": [
    {
     "name": "stdout",
     "output_type": "stream",
     "text": [
      "890\n"
     ]
    }
   ],
   "source": [
    "b = input()"
   ]
  },
  {
   "cell_type": "markdown",
   "id": "36bf41f1",
   "metadata": {},
   "source": [
    "# Practise after revision"
   ]
  },
  {
   "cell_type": "code",
   "execution_count": 1,
   "id": "c2d2c091",
   "metadata": {},
   "outputs": [],
   "source": [
    "l = [1,2,3,4,\"sudh\",\"kumar\"]"
   ]
  },
  {
   "cell_type": "code",
   "execution_count": 2,
   "id": "615a855d",
   "metadata": {},
   "outputs": [
    {
     "name": "stdout",
     "output_type": "stream",
     "text": [
      "1\n",
      "2\n",
      "3\n",
      "4\n",
      "sudh\n",
      "kumar\n",
      "if for loop is going to complete itself tjem it will execute this statement\n"
     ]
    }
   ],
   "source": [
    "for i in l:\n",
    "    print(i)\n",
    "else:\n",
    "    print(\"if for loop is going to complete itself tjem it will execute this statement\")"
   ]
  },
  {
   "cell_type": "code",
   "execution_count": 3,
   "id": "0003c17c",
   "metadata": {},
   "outputs": [
    {
     "name": "stdout",
     "output_type": "stream",
     "text": [
      "1\n",
      "2\n",
      "3\n"
     ]
    }
   ],
   "source": [
    "for i in l: \n",
    "    if i == 4:\n",
    "        break\n",
    "    print(i)\n",
    "else: \n",
    "    print(\"this will execute only if for is going to complete itself\")"
   ]
  },
  {
   "cell_type": "code",
   "execution_count": 10,
   "id": "d14f1ebf",
   "metadata": {},
   "outputs": [],
   "source": [
    "l = [1,2,3,4,\"sudh\",\"kumar\"]"
   ]
  },
  {
   "cell_type": "code",
   "execution_count": 11,
   "id": "7dc7f11c",
   "metadata": {},
   "outputs": [
    {
     "data": {
      "text/plain": [
       "[1, 2, 3, 4, 'sudh', 'kumar']"
      ]
     },
     "execution_count": 11,
     "metadata": {},
     "output_type": "execute_result"
    }
   ],
   "source": [
    "l"
   ]
  },
  {
   "cell_type": "code",
   "execution_count": 14,
   "id": "30dfcb62",
   "metadata": {},
   "outputs": [
    {
     "name": "stdout",
     "output_type": "stream",
     "text": [
      "s\n",
      "u\n",
      "d\n",
      "h\n",
      "a\n"
     ]
    }
   ],
   "source": [
    "s = \"sudhanshu\"\n",
    "for i in s:\n",
    "    if i == 'n':\n",
    "        break\n",
    "    print(i)\n",
    "else:\n",
    "    print(\"print string\", s)"
   ]
  },
  {
   "cell_type": "code",
   "execution_count": 15,
   "id": "50531d58",
   "metadata": {},
   "outputs": [
    {
     "name": "stdout",
     "output_type": "stream",
     "text": [
      "s\n",
      "u\n",
      "d\n",
      "h\n",
      "a\n",
      "n\n",
      "s\n",
      "h\n",
      "u\n",
      "print string sudhanshu\n"
     ]
    }
   ],
   "source": [
    "s = \"sudhanshu\"\n",
    "for i in s:\n",
    "    if i == 'z':\n",
    "        break\n",
    "    print(i)\n",
    "else:\n",
    "    print(\"print string\", s)"
   ]
  },
  {
   "cell_type": "code",
   "execution_count": 16,
   "id": "41130fbb",
   "metadata": {},
   "outputs": [],
   "source": [
    "t = (4,5,6,7,8,\"sudh\")"
   ]
  },
  {
   "cell_type": "code",
   "execution_count": 17,
   "id": "8d583e2a",
   "metadata": {},
   "outputs": [
    {
     "data": {
      "text/plain": [
       "(4, 5, 6, 7, 8, 'sudh')"
      ]
     },
     "execution_count": 17,
     "metadata": {},
     "output_type": "execute_result"
    }
   ],
   "source": [
    "t"
   ]
  },
  {
   "cell_type": "code",
   "execution_count": 20,
   "id": "4eb0ff17",
   "metadata": {},
   "outputs": [
    {
     "name": "stdout",
     "output_type": "stream",
     "text": [
      "4\n",
      "5\n",
      "6\n",
      "7\n",
      "8\n",
      "6\n",
      "sudh\n"
     ]
    }
   ],
   "source": [
    "t = (4,5,6,7,8,6,\"sudh\")\n",
    "for i in t:\n",
    "    print(i)"
   ]
  },
  {
   "cell_type": "code",
   "execution_count": 21,
   "id": "031235af",
   "metadata": {},
   "outputs": [],
   "source": [
    "b = {4,5,6,7,7,7,7,7,7,7,7,7,8,\"sudh\"}"
   ]
  },
  {
   "cell_type": "code",
   "execution_count": 22,
   "id": "63cc13c3",
   "metadata": {},
   "outputs": [
    {
     "data": {
      "text/plain": [
       "set"
      ]
     },
     "execution_count": 22,
     "metadata": {},
     "output_type": "execute_result"
    }
   ],
   "source": [
    "type(b)"
   ]
  },
  {
   "cell_type": "code",
   "execution_count": 23,
   "id": "fc14cd46",
   "metadata": {},
   "outputs": [
    {
     "data": {
      "text/plain": [
       "{4, 5, 6, 7, 8, 'sudh'}"
      ]
     },
     "execution_count": 23,
     "metadata": {},
     "output_type": "execute_result"
    }
   ],
   "source": [
    "b"
   ]
  },
  {
   "cell_type": "code",
   "execution_count": 24,
   "id": "e2dfddd9",
   "metadata": {},
   "outputs": [
    {
     "name": "stdout",
     "output_type": "stream",
     "text": [
      "4\n",
      "5\n",
      "6\n",
      "7\n",
      "8\n",
      "sudh\n"
     ]
    }
   ],
   "source": [
    "for i in b:\n",
    "    print(i)"
   ]
  },
  {
   "cell_type": "code",
   "execution_count": 3,
   "id": "79008443",
   "metadata": {},
   "outputs": [],
   "source": [
    "d = {'key1' : \"sudh\" , 'contact' : \"sudhanshu@ineuron.ai\" , 'position' : \"xyz\"}"
   ]
  },
  {
   "cell_type": "code",
   "execution_count": 4,
   "id": "97769ad9",
   "metadata": {},
   "outputs": [
    {
     "name": "stdout",
     "output_type": "stream",
     "text": [
      "key1\n",
      "contact\n",
      "position\n"
     ]
    }
   ],
   "source": [
    "for i in d :\n",
    "    print(i)"
   ]
  },
  {
   "cell_type": "code",
   "execution_count": 3,
   "id": "1af2b2f1",
   "metadata": {},
   "outputs": [
    {
     "name": "stdout",
     "output_type": "stream",
     "text": [
      "Enter first variable211\n",
      "Enter another variable332\n",
      "condition satisfied\n"
     ]
    }
   ],
   "source": [
    "x = int(input(\"Enter first variable\"))\n",
    "y = int(input(\"Enter another variable\"))\n",
    "\n",
    "if x + y > 500:\n",
    "    print(\"condition satisfied\")\n",
    "else:\n",
    "    print(\"not satisfied\")"
   ]
  },
  {
   "cell_type": "markdown",
   "id": "3d65a5e5",
   "metadata": {},
   "source": [
    "# Practise "
   ]
  },
  {
   "cell_type": "code",
   "execution_count": 2,
   "id": "043294e0",
   "metadata": {},
   "outputs": [
    {
     "name": "stdout",
     "output_type": "stream",
     "text": [
      "4\n",
      "5\n",
      "6\n",
      "7\n",
      "8\n",
      "6\n",
      "sudh\n"
     ]
    }
   ],
   "source": [
    "t = (4,5,6,7,8,6,\"sudh\")\n",
    "for i in t:\n",
    "    print(i)"
   ]
  },
  {
   "cell_type": "code",
   "execution_count": 3,
   "id": "9aef9ab0",
   "metadata": {},
   "outputs": [],
   "source": [
    "b = {4,5,6,7,7,7,7,7,7,7,8,\"sudh\"}"
   ]
  },
  {
   "cell_type": "code",
   "execution_count": 4,
   "id": "21df9581",
   "metadata": {},
   "outputs": [
    {
     "data": {
      "text/plain": [
       "set"
      ]
     },
     "execution_count": 4,
     "metadata": {},
     "output_type": "execute_result"
    }
   ],
   "source": [
    "type(b)"
   ]
  },
  {
   "cell_type": "code",
   "execution_count": 5,
   "id": "7b054667",
   "metadata": {},
   "outputs": [
    {
     "data": {
      "text/plain": [
       "{4, 5, 6, 7, 8, 'sudh'}"
      ]
     },
     "execution_count": 5,
     "metadata": {},
     "output_type": "execute_result"
    }
   ],
   "source": [
    "b"
   ]
  },
  {
   "cell_type": "code",
   "execution_count": 6,
   "id": "59017265",
   "metadata": {},
   "outputs": [
    {
     "name": "stdout",
     "output_type": "stream",
     "text": [
      "4\n",
      "5\n",
      "6\n",
      "7\n",
      "8\n",
      "sudh\n"
     ]
    }
   ],
   "source": [
    "for i in b:\n",
    "    print(i)"
   ]
  },
  {
   "cell_type": "code",
   "execution_count": 7,
   "id": "1dd9d8af",
   "metadata": {},
   "outputs": [
    {
     "name": "stdout",
     "output_type": "stream",
     "text": [
      "4\n",
      "5\n",
      "6\n",
      "7\n",
      "8\n",
      "sudh\n"
     ]
    }
   ],
   "source": [
    "for i in b:\n",
    "    print(i)"
   ]
  },
  {
   "cell_type": "code",
   "execution_count": 8,
   "id": "ec72f467",
   "metadata": {},
   "outputs": [],
   "source": [
    "x = {'key1' : \"value 1\", 'key2' : \"sudhanshu@ineuron.ai\" , 'position' : \"xyz\"}"
   ]
  },
  {
   "cell_type": "code",
   "execution_count": 9,
   "id": "d3198237",
   "metadata": {},
   "outputs": [
    {
     "data": {
      "text/plain": [
       "dict"
      ]
     },
     "execution_count": 9,
     "metadata": {},
     "output_type": "execute_result"
    }
   ],
   "source": [
    "type(x)"
   ]
  },
  {
   "cell_type": "code",
   "execution_count": 10,
   "id": "c9d491b1",
   "metadata": {},
   "outputs": [
    {
     "name": "stdout",
     "output_type": "stream",
     "text": [
      "key1\n",
      "key2\n",
      "position\n"
     ]
    }
   ],
   "source": [
    "for i in x:\n",
    "    print(i)"
   ]
  },
  {
   "cell_type": "code",
   "execution_count": 14,
   "id": "67815685",
   "metadata": {},
   "outputs": [
    {
     "data": {
      "text/plain": [
       "'value 1'"
      ]
     },
     "execution_count": 14,
     "metadata": {},
     "output_type": "execute_result"
    }
   ],
   "source": [
    "x['key1']"
   ]
  },
  {
   "cell_type": "code",
   "execution_count": 17,
   "id": "e0b25b26",
   "metadata": {},
   "outputs": [
    {
     "name": "stdout",
     "output_type": "stream",
     "text": [
      "value 1\n",
      "sudhanshu@ineuron.ai\n",
      "xyz\n"
     ]
    }
   ],
   "source": [
    "for i in x:\n",
    "    print(x[i])"
   ]
  },
  {
   "cell_type": "code",
   "execution_count": 18,
   "id": "00e126f0",
   "metadata": {},
   "outputs": [
    {
     "name": "stdout",
     "output_type": "stream",
     "text": [
      "value 1 key1\n",
      "sudhanshu@ineuron.ai key2\n",
      "xyz position\n"
     ]
    }
   ],
   "source": [
    "for i in x:\n",
    "    print(x[i],i)"
   ]
  },
  {
   "cell_type": "code",
   "execution_count": 19,
   "id": "8773264b",
   "metadata": {},
   "outputs": [
    {
     "name": "stdout",
     "output_type": "stream",
     "text": [
      "key1 value 1\n",
      "key2 sudhanshu@ineuron.ai\n",
      "position xyz\n"
     ]
    }
   ],
   "source": [
    "for i in x:\n",
    "    print(i ,x[i])"
   ]
  },
  {
   "cell_type": "code",
   "execution_count": 20,
   "id": "3ae5e300",
   "metadata": {},
   "outputs": [],
   "source": [
    "a = \"sdsddsfdsfsdgfsgfdsgfdsg\"\n",
    "b = [542,4454,74,211,\"sfsd\"]\n",
    "c = (45,\"df\",a)\n",
    "d = {5455,\"sfsdf\",213,341}\n",
    "e = {'key1':\"421\"}"
   ]
  },
  {
   "cell_type": "code",
   "execution_count": 22,
   "id": "da24639c",
   "metadata": {},
   "outputs": [
    {
     "data": {
      "text/plain": [
       "str"
      ]
     },
     "execution_count": 22,
     "metadata": {},
     "output_type": "execute_result"
    }
   ],
   "source": [
    "type(a)"
   ]
  },
  {
   "cell_type": "code",
   "execution_count": 23,
   "id": "182a180b",
   "metadata": {},
   "outputs": [
    {
     "data": {
      "text/plain": [
       "set"
      ]
     },
     "execution_count": 23,
     "metadata": {},
     "output_type": "execute_result"
    }
   ],
   "source": [
    "type(d)"
   ]
  },
  {
   "cell_type": "code",
   "execution_count": 24,
   "id": "432ce87a",
   "metadata": {},
   "outputs": [
    {
     "data": {
      "text/plain": [
       "dict"
      ]
     },
     "execution_count": 24,
     "metadata": {},
     "output_type": "execute_result"
    }
   ],
   "source": [
    "type(e)"
   ]
  },
  {
   "cell_type": "code",
   "execution_count": 25,
   "id": "66a0470d",
   "metadata": {},
   "outputs": [
    {
     "data": {
      "text/plain": [
       "tuple"
      ]
     },
     "execution_count": 25,
     "metadata": {},
     "output_type": "execute_result"
    }
   ],
   "source": [
    "type(c)"
   ]
  },
  {
   "cell_type": "code",
   "execution_count": 26,
   "id": "36b40f84",
   "metadata": {},
   "outputs": [
    {
     "name": "stdout",
     "output_type": "stream",
     "text": [
      "key1 : value 1\n",
      "key2 : sudhanshu@ineuron.ai\n",
      "position : xyz\n"
     ]
    }
   ],
   "source": [
    "for i in x:\n",
    "    print(i , \":\" ,x[i])"
   ]
  },
  {
   "cell_type": "code",
   "execution_count": 27,
   "id": "5be6ff52",
   "metadata": {},
   "outputs": [
    {
     "data": {
      "text/plain": [
       "range(0, 9)"
      ]
     },
     "execution_count": 27,
     "metadata": {},
     "output_type": "execute_result"
    }
   ],
   "source": [
    "range(9)"
   ]
  },
  {
   "cell_type": "code",
   "execution_count": 28,
   "id": "6602f334",
   "metadata": {},
   "outputs": [
    {
     "data": {
      "text/plain": [
       "[0, 1, 2, 3, 4, 5, 6, 7, 8]"
      ]
     },
     "execution_count": 28,
     "metadata": {},
     "output_type": "execute_result"
    }
   ],
   "source": [
    "list(range(9))"
   ]
  },
  {
   "cell_type": "code",
   "execution_count": 29,
   "id": "cd61c1e1",
   "metadata": {},
   "outputs": [
    {
     "name": "stdout",
     "output_type": "stream",
     "text": [
      "0\n",
      "1\n",
      "2\n",
      "3\n",
      "4\n",
      "5\n",
      "6\n",
      "7\n",
      "8\n"
     ]
    }
   ],
   "source": [
    "for i in range(9):\n",
    "    print(i)"
   ]
  },
  {
   "cell_type": "code",
   "execution_count": 30,
   "id": "16659e86",
   "metadata": {},
   "outputs": [
    {
     "data": {
      "text/plain": [
       "range(0, 9)"
      ]
     },
     "execution_count": 30,
     "metadata": {},
     "output_type": "execute_result"
    }
   ],
   "source": [
    "range(0,9)"
   ]
  },
  {
   "cell_type": "code",
   "execution_count": 31,
   "id": "2b7fa3fb",
   "metadata": {},
   "outputs": [
    {
     "data": {
      "text/plain": [
       "[0, 2, 4, 6, 8]"
      ]
     },
     "execution_count": 31,
     "metadata": {},
     "output_type": "execute_result"
    }
   ],
   "source": [
    "list(range(0,9,2))"
   ]
  },
  {
   "cell_type": "code",
   "execution_count": 32,
   "id": "511c9f22",
   "metadata": {},
   "outputs": [
    {
     "data": {
      "text/plain": [
       "[0, 9, 18, 27, 36, 45, 54, 63, 72, 81]"
      ]
     },
     "execution_count": 32,
     "metadata": {},
     "output_type": "execute_result"
    }
   ],
   "source": [
    "list(range(0,90,9))"
   ]
  },
  {
   "cell_type": "code",
   "execution_count": 33,
   "id": "dfdfa245",
   "metadata": {},
   "outputs": [
    {
     "data": {
      "text/plain": [
       "[]"
      ]
     },
     "execution_count": 33,
     "metadata": {},
     "output_type": "execute_result"
    }
   ],
   "source": [
    "list(range(0,9,-1))"
   ]
  },
  {
   "cell_type": "code",
   "execution_count": 34,
   "id": "c083dcbd",
   "metadata": {},
   "outputs": [
    {
     "name": "stdout",
     "output_type": "stream",
     "text": [
      "Enter a value45\n"
     ]
    },
    {
     "data": {
      "text/plain": [
       "[0, 4, 8, 12, 16, 20, 24, 28, 32, 36, 40, 44]"
      ]
     },
     "execution_count": 34,
     "metadata": {},
     "output_type": "execute_result"
    }
   ],
   "source": [
    "x = int(input('Enter a value'))\n",
    "list(range(0,x,4))"
   ]
  },
  {
   "cell_type": "code",
   "execution_count": 35,
   "id": "f1a2dd87",
   "metadata": {},
   "outputs": [
    {
     "data": {
      "text/plain": [
       "[9, 8, 7, 6, 5, 4, 3, 2, 1]"
      ]
     },
     "execution_count": 35,
     "metadata": {},
     "output_type": "execute_result"
    }
   ],
   "source": [
    "list(range(9,0,-1))"
   ]
  },
  {
   "cell_type": "code",
   "execution_count": 36,
   "id": "a1009404",
   "metadata": {},
   "outputs": [
    {
     "name": "stdout",
     "output_type": "stream",
     "text": [
      "sudh \n",
      "\n",
      "sudh sudh \n",
      "\n",
      "sudh sudh sudh \n",
      "\n",
      "sudh sudh sudh sudh \n",
      "\n"
     ]
    }
   ],
   "source": [
    "n = 4 \n",
    "for i in range(4):\n",
    "    for j in range(0,i+1):\n",
    "        print(\"sudh\",end=\" \")\n",
    "    print(\"\\n\")"
   ]
  },
  {
   "cell_type": "code",
   "execution_count": 37,
   "id": "e3340ac3",
   "metadata": {},
   "outputs": [
    {
     "name": "stdout",
     "output_type": "stream",
     "text": [
      "Enter a value40\n"
     ]
    },
    {
     "data": {
      "text/plain": [
       "{0, 4, 8, 12, 16, 20, 24, 28, 32, 36}"
      ]
     },
     "execution_count": 37,
     "metadata": {},
     "output_type": "execute_result"
    }
   ],
   "source": [
    "x = int(input('Enter a value'))\n",
    "set(range(0,x,4))"
   ]
  },
  {
   "cell_type": "code",
   "execution_count": 38,
   "id": "9662618c",
   "metadata": {},
   "outputs": [
    {
     "name": "stdout",
     "output_type": "stream",
     "text": [
      "Enter a value40\n"
     ]
    },
    {
     "data": {
      "text/plain": [
       "'range(0, 40, 4)'"
      ]
     },
     "execution_count": 38,
     "metadata": {},
     "output_type": "execute_result"
    }
   ],
   "source": [
    "x = int(input('Enter a value'))\n",
    "str(range(0,x,4))"
   ]
  },
  {
   "cell_type": "code",
   "execution_count": 39,
   "id": "a4a6014c",
   "metadata": {},
   "outputs": [
    {
     "name": "stdout",
     "output_type": "stream",
     "text": [
      "sudh \n",
      "\n",
      "sudh sudh \n",
      "\n",
      "sudh sudh sudh \n",
      "\n",
      "sudh sudh sudh sudh \n",
      "\n"
     ]
    }
   ],
   "source": [
    "n = 4 \n",
    "for i in range(4):\n",
    "    for j in range(0,i+1):\n",
    "        print(\"sudh\",end=\" \")\n",
    "    print(\"\\n\")"
   ]
  },
  {
   "cell_type": "code",
   "execution_count": 41,
   "id": "4cb80e4d",
   "metadata": {},
   "outputs": [
    {
     "name": "stdout",
     "output_type": "stream",
     "text": [
      "enter value4\n",
      "sudh \n",
      "\n",
      "sudh sudh \n",
      "\n",
      "sudh sudh sudh \n",
      "\n",
      "sudh sudh sudh sudh \n",
      "\n"
     ]
    }
   ],
   "source": [
    "x = int(input(\"enter value\"))\n",
    "for i in range(x):\n",
    "    for j in range(0 ,i+1) :\n",
    "        print(\"sudh\",end=\" \")\n",
    "    print(\"\\n\")"
   ]
  },
  {
   "cell_type": "code",
   "execution_count": 45,
   "id": "0d60acd0",
   "metadata": {},
   "outputs": [
    {
     "name": "stdout",
     "output_type": "stream",
     "text": [
      "enter valhe5\n",
      "sudh \n",
      "\n",
      "sudh sudh \n",
      "\n",
      "sudh sudh sudh \n",
      "\n",
      "sudh sudh sudh sudh \n",
      "\n",
      "sudh sudh sudh sudh sudh \n",
      "\n"
     ]
    }
   ],
   "source": [
    "x = int(input(\"enter valhe\"))\n",
    "for i in range(x):\n",
    "    for j in range(0,i+1):\n",
    "        print(\"sudh\",end=\" \")\n",
    "    print(\"\\n\")\n",
    "    "
   ]
  },
  {
   "cell_type": "code",
   "execution_count": 44,
   "id": "0fa6045c",
   "metadata": {},
   "outputs": [
    {
     "name": "stdout",
     "output_type": "stream",
     "text": [
      "range value3\n",
      "          sudh \n",
      "     sudh sudh sudh \n",
      "sudh sudh sudh sudh sudh \n"
     ]
    }
   ],
   "source": [
    "x = int(input(\"range value\"))\n",
    "for i in range(x):\n",
    "    for j in range(i,x-1):\n",
    "        print(\" \"*len(\"sudh\"),end=\" \")\n",
    "    for j in range(i+1):\n",
    "        print(\"sudh\",end=\" \")\n",
    "    for j in range(i):\n",
    "        print(\"sudh\",end=\" \")\n",
    "    print()"
   ]
  },
  {
   "cell_type": "code",
   "execution_count": 46,
   "id": "265670c0",
   "metadata": {},
   "outputs": [
    {
     "name": "stdout",
     "output_type": "stream",
     "text": [
      "enter value5\n",
      "                    sudh \n",
      "               sudh sudh sudh \n",
      "          sudh sudh sudh sudh sudh \n",
      "     sudh sudh sudh sudh sudh sudh sudh \n",
      "sudh sudh sudh sudh sudh sudh sudh sudh sudh \n"
     ]
    }
   ],
   "source": [
    "x = int(input(\"enter value\"))\n",
    "for i in range(x):\n",
    "    for j in range(i,x-1):\n",
    "        print(\" \"*len(\"sudh\"),end=\" \")\n",
    "    for j in range(i+1):\n",
    "        print(\"sudh\",end=\" \")\n",
    "    for j in range(i):\n",
    "        print(\"sudh\",end=\" \")\n",
    "    print()"
   ]
  },
  {
   "cell_type": "code",
   "execution_count": 47,
   "id": "9168ab87",
   "metadata": {},
   "outputs": [
    {
     "data": {
      "text/plain": [
       "[]"
      ]
     },
     "execution_count": 47,
     "metadata": {},
     "output_type": "execute_result"
    }
   ],
   "source": [
    "list(range(0))"
   ]
  },
  {
   "cell_type": "code",
   "execution_count": 48,
   "id": "f1a6334b",
   "metadata": {},
   "outputs": [],
   "source": [
    "t = (3,23,45,67,2,4,5,6)"
   ]
  },
  {
   "cell_type": "code",
   "execution_count": 49,
   "id": "49b2e2ee",
   "metadata": {},
   "outputs": [
    {
     "name": "stdout",
     "output_type": "stream",
     "text": [
      "0 3\n",
      "1 23\n",
      "2 45\n",
      "3 67\n",
      "4 2\n",
      "5 4\n",
      "6 5\n",
      "7 6\n"
     ]
    }
   ],
   "source": [
    "for i in range(len(t)):\n",
    "    print(i,t[i])"
   ]
  },
  {
   "cell_type": "code",
   "execution_count": 51,
   "id": "f20ea235",
   "metadata": {},
   "outputs": [
    {
     "name": "stdout",
     "output_type": "stream",
     "text": [
      "0 3\n",
      "1 23\n",
      "2 45\n",
      "3 67\n",
      "4 2\n",
      "5 4\n",
      "6 5\n",
      "7 6\n"
     ]
    }
   ],
   "source": [
    "for i in range(len(t)):\n",
    "    print(i,t[i])"
   ]
  },
  {
   "cell_type": "code",
   "execution_count": 53,
   "id": "26004048",
   "metadata": {},
   "outputs": [
    {
     "name": "stdout",
     "output_type": "stream",
     "text": [
      "0 i\n",
      "1 n\n",
      "2 e\n",
      "3 u\n",
      "4 r\n",
      "5 o\n",
      "6 n\n"
     ]
    }
   ],
   "source": [
    "s = \"ineuron\"\n",
    "for i in range(len(s)):\n",
    "    print(i,s[i])"
   ]
  },
  {
   "cell_type": "code",
   "execution_count": 55,
   "id": "0ac8eb63",
   "metadata": {
    "scrolled": true
   },
   "outputs": [
    {
     "data": {
      "text/plain": [
       "range(0, 7)"
      ]
     },
     "execution_count": 55,
     "metadata": {},
     "output_type": "execute_result"
    }
   ],
   "source": [
    "range(len(s))"
   ]
  },
  {
   "cell_type": "code",
   "execution_count": 57,
   "id": "6ffe87fc",
   "metadata": {},
   "outputs": [
    {
     "data": {
      "text/plain": [
       "[7, 6, 5, 4, 3, 2, 1]"
      ]
     },
     "execution_count": 57,
     "metadata": {},
     "output_type": "execute_result"
    }
   ],
   "source": [
    "list(range(len(s),0,-1))"
   ]
  },
  {
   "cell_type": "code",
   "execution_count": 58,
   "id": "fc166a07",
   "metadata": {},
   "outputs": [
    {
     "data": {
      "text/plain": [
       "[7, 6, 5, 4, 3, 2, 1, 0]"
      ]
     },
     "execution_count": 58,
     "metadata": {},
     "output_type": "execute_result"
    }
   ],
   "source": [
    "list(range(len(s),-1,-1))"
   ]
  },
  {
   "cell_type": "code",
   "execution_count": 59,
   "id": "62e42fe2",
   "metadata": {},
   "outputs": [
    {
     "data": {
      "text/plain": [
       "[6, 5, 4, 3, 2, 1, 0]"
      ]
     },
     "execution_count": 59,
     "metadata": {},
     "output_type": "execute_result"
    }
   ],
   "source": [
    "list(range(len(s)-1,-1,-1))"
   ]
  },
  {
   "cell_type": "code",
   "execution_count": 60,
   "id": "f016da40",
   "metadata": {},
   "outputs": [
    {
     "name": "stdout",
     "output_type": "stream",
     "text": [
      "6 n\n",
      "5 o\n",
      "4 r\n",
      "3 u\n",
      "2 e\n",
      "1 n\n",
      "0 i\n"
     ]
    }
   ],
   "source": [
    "for i in range(len(s)-1,-1,-1):\n",
    "    print(i ,s[i])"
   ]
  },
  {
   "cell_type": "code",
   "execution_count": 65,
   "id": "ecd782df",
   "metadata": {},
   "outputs": [],
   "source": [
    "d = {'key1':\"sudh\" , 'key2':\"sudhanshu@ineuron.ai\" , 'position':\"xyz\"}"
   ]
  },
  {
   "cell_type": "code",
   "execution_count": 66,
   "id": "7708ff74",
   "metadata": {},
   "outputs": [
    {
     "name": "stdout",
     "output_type": "stream",
     "text": [
      "('key1', 'sudh')\n",
      "('key2', 'sudhanshu@ineuron.ai')\n",
      "('position', 'xyz')\n"
     ]
    }
   ],
   "source": [
    "for i in d.items():\n",
    "    print(i)"
   ]
  },
  {
   "cell_type": "code",
   "execution_count": 68,
   "id": "faad5b80",
   "metadata": {},
   "outputs": [
    {
     "name": "stdout",
     "output_type": "stream",
     "text": [
      "('key1', 'sudh') <class 'tuple'> <class 'str'>\n",
      "('key2', 'sudhanshu@ineuron.ai') <class 'tuple'> <class 'str'>\n",
      "('position', 'xyz') <class 'tuple'> <class 'str'>\n"
     ]
    }
   ],
   "source": [
    "for i in d.items():\n",
    "    print(i, type(i) , type(i[1]))"
   ]
  },
  {
   "cell_type": "code",
   "execution_count": 69,
   "id": "911c9606",
   "metadata": {},
   "outputs": [],
   "source": [
    "l = [\"sudh\" , \"kumar\" , 3234545 , \"sudhanshu@ineuron.ai\" , 345 ,34345353]"
   ]
  },
  {
   "cell_type": "code",
   "execution_count": 70,
   "id": "d568d19d",
   "metadata": {},
   "outputs": [
    {
     "data": {
      "text/plain": [
       "['sudh', 'kumar', 3234545, 'sudhanshu@ineuron.ai', 345, 34345353]"
      ]
     },
     "execution_count": 70,
     "metadata": {},
     "output_type": "execute_result"
    }
   ],
   "source": [
    "l"
   ]
  },
  {
   "cell_type": "code",
   "execution_count": 74,
   "id": "bd75280a",
   "metadata": {},
   "outputs": [
    {
     "name": "stdout",
     "output_type": "stream",
     "text": [
      " \n",
      " \n",
      " \n",
      " \n",
      " \n",
      " \n"
     ]
    }
   ],
   "source": [
    "for i in l:\n",
    "    if i == int:\n",
    "        print(i)\n",
    "    else:\n",
    "        print(\" \")"
   ]
  },
  {
   "cell_type": "code",
   "execution_count": 5,
   "id": "576826fb",
   "metadata": {},
   "outputs": [],
   "source": [
    "l = [\"sudh\", \"kumar\", 3234545, \"sudhanshu@ineuron.ai\", 345, 34345353]\n",
    "l1 = []\n",
    "for i in l:\n",
    "    if type(i) == int:\n",
    "        l1.append(i)"
   ]
  },
  {
   "cell_type": "code",
   "execution_count": 6,
   "id": "4521c828",
   "metadata": {},
   "outputs": [
    {
     "data": {
      "text/plain": [
       "[3234545, 345, 34345353]"
      ]
     },
     "execution_count": 6,
     "metadata": {},
     "output_type": "execute_result"
    }
   ],
   "source": [
    "l1"
   ]
  },
  {
   "cell_type": "code",
   "execution_count": 8,
   "id": "c17ab825",
   "metadata": {},
   "outputs": [
    {
     "name": "stdout",
     "output_type": "stream",
     "text": [
      "3234545\n",
      "345\n",
      "34345353\n"
     ]
    }
   ],
   "source": [
    "for i in l: \n",
    "    if type(i) == int:\n",
    "        print(i)"
   ]
  },
  {
   "cell_type": "code",
   "execution_count": 9,
   "id": "b50bddd3",
   "metadata": {},
   "outputs": [],
   "source": [
    "d = {1:3345345 , \"name\" : \"sudh\" , \"email_id\" : \"sudhanshu@ineuron.ai\" , 234 : \"fsfddsf\" , \"43\" : \"sfsaf\" , 234 : \"3454\"}"
   ]
  },
  {
   "cell_type": "code",
   "execution_count": 10,
   "id": "c626355d",
   "metadata": {},
   "outputs": [
    {
     "data": {
      "text/plain": [
       "{1: 3345345,\n",
       " 'name': 'sudh',\n",
       " 'email_id': 'sudhanshu@ineuron.ai',\n",
       " 234: '3454',\n",
       " '43': 'sfsaf'}"
      ]
     },
     "execution_count": 10,
     "metadata": {},
     "output_type": "execute_result"
    }
   ],
   "source": [
    "d"
   ]
  },
  {
   "cell_type": "code",
   "execution_count": 11,
   "id": "d02c9be2",
   "metadata": {},
   "outputs": [
    {
     "name": "stdout",
     "output_type": "stream",
     "text": [
      "1\n",
      "234\n"
     ]
    }
   ],
   "source": [
    "for i in d: \n",
    "    if type(i) == int:\n",
    "        print(i)"
   ]
  },
  {
   "cell_type": "code",
   "execution_count": 13,
   "id": "167fd078",
   "metadata": {},
   "outputs": [
    {
     "name": "stdout",
     "output_type": "stream",
     "text": [
      "1 : 3345345\n",
      "234 : 3454\n"
     ]
    }
   ],
   "source": [
    "for i in d:\n",
    "    if type(i) == int:\n",
    "        print(i,\":\",d[i])"
   ]
  },
  {
   "cell_type": "code",
   "execution_count": 14,
   "id": "99d4b3f8",
   "metadata": {},
   "outputs": [],
   "source": [
    "s = \"aaaabbccd\""
   ]
  },
  {
   "cell_type": "raw",
   "id": "38305341",
   "metadata": {},
   "source": [
    "solution required is from above string:\n",
    "a : 4\n",
    "b : 2\n",
    "c : 2\n",
    "d : 1"
   ]
  },
  {
   "cell_type": "code",
   "execution_count": 16,
   "id": "51eb7834",
   "metadata": {},
   "outputs": [
    {
     "data": {
      "text/plain": [
       "{'a', 'b', 'c', 'd'}"
      ]
     },
     "execution_count": 16,
     "metadata": {},
     "output_type": "execute_result"
    }
   ],
   "source": [
    "set(s)"
   ]
  },
  {
   "cell_type": "code",
   "execution_count": 17,
   "id": "a96cbc32",
   "metadata": {},
   "outputs": [
    {
     "name": "stdout",
     "output_type": "stream",
     "text": [
      "c\n",
      "b\n",
      "d\n",
      "a\n"
     ]
    }
   ],
   "source": [
    "for i in set(s):\n",
    "    print(i)"
   ]
  },
  {
   "cell_type": "code",
   "execution_count": 18,
   "id": "0afee9b3",
   "metadata": {},
   "outputs": [
    {
     "data": {
      "text/plain": [
       "4"
      ]
     },
     "execution_count": 18,
     "metadata": {},
     "output_type": "execute_result"
    }
   ],
   "source": [
    "s.count('a')"
   ]
  },
  {
   "cell_type": "code",
   "execution_count": 19,
   "id": "efbc85e3",
   "metadata": {},
   "outputs": [
    {
     "name": "stdout",
     "output_type": "stream",
     "text": [
      "c : 2\n",
      "b : 2\n",
      "d : 1\n",
      "a : 4\n"
     ]
    }
   ],
   "source": [
    "for i in set(s):\n",
    "    print(i , \":\" , s.count(i))"
   ]
  },
  {
   "cell_type": "code",
   "execution_count": 20,
   "id": "28de831d",
   "metadata": {},
   "outputs": [
    {
     "data": {
      "text/plain": [
       "'aaaabbccd'"
      ]
     },
     "execution_count": 20,
     "metadata": {},
     "output_type": "execute_result"
    }
   ],
   "source": [
    "s"
   ]
  },
  {
   "cell_type": "code",
   "execution_count": 21,
   "id": "99ebe0a9",
   "metadata": {},
   "outputs": [
    {
     "name": "stdout",
     "output_type": "stream",
     "text": [
      "a : 4\n",
      "a : 4\n",
      "a : 4\n",
      "a : 4\n",
      "b : 2\n",
      "b : 2\n",
      "c : 2\n",
      "c : 2\n",
      "d : 1\n"
     ]
    }
   ],
   "source": [
    "for i in s:\n",
    "    print(i,\":\",s.count(i))"
   ]
  },
  {
   "cell_type": "code",
   "execution_count": 22,
   "id": "37dac527",
   "metadata": {},
   "outputs": [],
   "source": [
    "i = 34534654646435"
   ]
  },
  {
   "cell_type": "code",
   "execution_count": 25,
   "id": "b0809a14",
   "metadata": {},
   "outputs": [
    {
     "ename": "TypeError",
     "evalue": "'int' object is not iterable",
     "output_type": "error",
     "traceback": [
      "\u001b[1;31m---------------------------------------------------------------------------\u001b[0m",
      "\u001b[1;31mTypeError\u001b[0m                                 Traceback (most recent call last)",
      "\u001b[1;32m~\\AppData\\Local\\Temp/ipykernel_23580/473172315.py\u001b[0m in \u001b[0;36m<module>\u001b[1;34m\u001b[0m\n\u001b[1;32m----> 1\u001b[1;33m \u001b[1;32mfor\u001b[0m \u001b[0mj\u001b[0m \u001b[1;32min\u001b[0m \u001b[0mi\u001b[0m\u001b[1;33m:\u001b[0m\u001b[1;33m\u001b[0m\u001b[1;33m\u001b[0m\u001b[0m\n\u001b[0m\u001b[0;32m      2\u001b[0m     \u001b[0mprint\u001b[0m\u001b[1;33m(\u001b[0m\u001b[0mj\u001b[0m\u001b[1;33m)\u001b[0m\u001b[1;33m\u001b[0m\u001b[1;33m\u001b[0m\u001b[0m\n",
      "\u001b[1;31mTypeError\u001b[0m: 'int' object is not iterable"
     ]
    }
   ],
   "source": [
    "for j in i:\n",
    "    print(j)"
   ]
  },
  {
   "cell_type": "raw",
   "id": "a8a81ca0",
   "metadata": {},
   "source": [
    "so integers objects are not iterable//... \n",
    "remeber it "
   ]
  },
  {
   "cell_type": "code",
   "execution_count": 26,
   "id": "4f7cfc7e",
   "metadata": {},
   "outputs": [],
   "source": [
    "t = (\"sudh\" , \"kumar\", [1,2,3,4,5], (3,4,5,6) , {'key1' :\"sudh\" , 'key2':\"kumar\"})"
   ]
  },
  {
   "cell_type": "code",
   "execution_count": 27,
   "id": "29c2bb53",
   "metadata": {},
   "outputs": [
    {
     "data": {
      "text/plain": [
       "('sudh',\n",
       " 'kumar',\n",
       " [1, 2, 3, 4, 5],\n",
       " (3, 4, 5, 6),\n",
       " {'key1': 'sudh', 'key2': 'kumar'})"
      ]
     },
     "execution_count": 27,
     "metadata": {},
     "output_type": "execute_result"
    }
   ],
   "source": [
    "t"
   ]
  },
  {
   "cell_type": "code",
   "execution_count": 29,
   "id": "013d24cc",
   "metadata": {},
   "outputs": [
    {
     "name": "stdout",
     "output_type": "stream",
     "text": [
      "sudh\n",
      "kumar\n",
      "[1, 2, 3, 4, 5]\n",
      "(3, 4, 5, 6)\n",
      "{'key1': 'sudh', 'key2': 'kumar'}\n"
     ]
    }
   ],
   "source": [
    "for i in t:\n",
    "    print(i)"
   ]
  },
  {
   "cell_type": "code",
   "execution_count": null,
   "id": "cc4c029a",
   "metadata": {},
   "outputs": [],
   "source": [
    "for i in t:\n",
    "    if type(i) == int:\n",
    "        if type(i) == 3:\n",
    "            print(i)"
   ]
  },
  {
   "cell_type": "code",
   "execution_count": 32,
   "id": "a69a4e26",
   "metadata": {},
   "outputs": [
    {
     "name": "stdout",
     "output_type": "stream",
     "text": [
      "3\n",
      "3\n"
     ]
    }
   ],
   "source": [
    "for i in t:\n",
    "    if type(i) == list or type(i) == tuple:\n",
    "        for j in i :\n",
    "            if j == 3 :\n",
    "                print(j)"
   ]
  },
  {
   "cell_type": "code",
   "execution_count": 37,
   "id": "fc0f47ae",
   "metadata": {},
   "outputs": [],
   "source": [
    "t = (\"sudh\" , \"kumar\", [1,2,3,4,5], (3,4,5,6) , {3:3 , 'key1' :\"sudh\" , 'key2':\"kumar\"})"
   ]
  },
  {
   "cell_type": "code",
   "execution_count": 38,
   "id": "cd317196",
   "metadata": {},
   "outputs": [
    {
     "data": {
      "text/plain": [
       "('sudh',\n",
       " 'kumar',\n",
       " [1, 2, 3, 4, 5],\n",
       " (3, 4, 5, 6),\n",
       " {3: 3, 'key1': 'sudh', 'key2': 'kumar'})"
      ]
     },
     "execution_count": 38,
     "metadata": {},
     "output_type": "execute_result"
    }
   ],
   "source": [
    "t"
   ]
  },
  {
   "cell_type": "code",
   "execution_count": 40,
   "id": "ba0e70bc",
   "metadata": {},
   "outputs": [
    {
     "name": "stdout",
     "output_type": "stream",
     "text": [
      "3\n",
      "3\n",
      "3\n",
      "3\n"
     ]
    }
   ],
   "source": [
    "for i in t:\n",
    "    if type(i) == list or type(i) == tuple:\n",
    "        for j in i:\n",
    "            if j == 3:\n",
    "                print(j)\n",
    "    if type(i) == dict:\n",
    "        for k,v in i.items():\n",
    "            if k == 3 or v == 3:\n",
    "                print(k)\n",
    "                print(v)"
   ]
  },
  {
   "cell_type": "code",
   "execution_count": 41,
   "id": "1c1c0016",
   "metadata": {},
   "outputs": [
    {
     "data": {
      "text/plain": [
       "dict_items([(1, 3345345), ('name', 'sudh'), ('email_id', 'sudhanshu@ineuron.ai'), (234, '3454'), ('43', 'sfsaf')])"
      ]
     },
     "execution_count": 41,
     "metadata": {},
     "output_type": "execute_result"
    }
   ],
   "source": [
    "d.items()"
   ]
  },
  {
   "cell_type": "code",
   "execution_count": 46,
   "id": "dcfcb51e",
   "metadata": {},
   "outputs": [
    {
     "name": "stdout",
     "output_type": "stream",
     "text": [
      "3\n",
      "3\n"
     ]
    }
   ],
   "source": [
    "for i in t:\n",
    "    if type(i) == list or type(i) == tuple:\n",
    "        for j in i:\n",
    "            if j == 3:\n",
    "                print(j)\n",
    "    if type(i) == dict:\n",
    "        for k,v in i.items():\n",
    "            if k == 3 or v == 3:\n",
    "                print(k)\n",
    "                print(v)"
   ]
  },
  {
   "cell_type": "code",
   "execution_count": null,
   "id": "adb0da84",
   "metadata": {},
   "outputs": [],
   "source": []
  },
  {
   "cell_type": "markdown",
   "id": "b0806d9f",
   "metadata": {},
   "source": [
    "# homework "
   ]
  },
  {
   "cell_type": "code",
   "execution_count": null,
   "id": "f77d4588",
   "metadata": {},
   "outputs": [],
   "source": [
    "q1 : \n",
    "    ineuron\n",
    "    ineuron ineuron\n",
    "    ineoron ineroun ineuron \n",
    "    ineuron ineuron ineuron ineuron"
   ]
  },
  {
   "cell_type": "code",
   "execution_count": null,
   "id": "2110578a",
   "metadata": {},
   "outputs": [],
   "source": [
    "q2:      ineuron\n",
    "    ineuron    ineuron \n",
    "ineuron   ineuron     ineuron \n",
    "     ineuron    ineuron \n",
    "          ineuron "
   ]
  },
  {
   "cell_type": "code",
   "execution_count": 42,
   "id": "1353f3c4",
   "metadata": {},
   "outputs": [],
   "source": [
    "q3: "
   ]
  },
  {
   "cell_type": "code",
   "execution_count": 44,
   "id": "5e29859a",
   "metadata": {},
   "outputs": [],
   "source": [
    "l = [[1,2,3,4] , (2,3,4,5,6) , (3,4,5,6,7), set([23,4,5,45,4,4,5,45,45,4,5]) , {'k1':\"sudh\" , 'k2' :\"ineuron\" ,'k3':\"kumar\" , 3:6 ,7:8} ,[\"ineuron\",\"data science\"]]"
   ]
  },
  {
   "cell_type": "code",
   "execution_count": 45,
   "id": "c9af8343",
   "metadata": {},
   "outputs": [
    {
     "data": {
      "text/plain": [
       "[[1, 2, 3, 4],\n",
       " (2, 3, 4, 5, 6),\n",
       " (3, 4, 5, 6, 7),\n",
       " {4, 5, 23, 45},\n",
       " {'k1': 'sudh', 'k2': 'ineuron', 'k3': 'kumar', 3: 6, 7: 8},\n",
       " ['ineuron', 'data science']]"
      ]
     },
     "execution_count": 45,
     "metadata": {},
     "output_type": "execute_result"
    }
   ],
   "source": [
    "l"
   ]
  },
  {
   "cell_type": "raw",
   "id": "fc0ca13c",
   "metadata": {},
   "source": [
    "l = [[1,2,3,4] , (2,3,4,5,6) , (3,4,5,6,7), set([23,4,5,45,4,4,5,45,45,4,5]) , {'k1':\"sudh\" , 'k2' :\"ineuron\" ,'k3':\"kumar\" , 3:6 ,7:8} ,[\"ineuron\",\"data science\"]]\n",
    "\n",
    "Try to extract all the list entity \n",
    "Try to extract all the dict entities\n",
    "Try to extract all the tuples entities\n",
    "Try to extract all the numerical data it may be a part of dict key and values\n",
    "\n",
    "Try to give a sumation of all numeric data \n",
    "Try to filter out all the odd values out all numeric dta which is a part of a list \n",
    "\n",
    "Try to extract \"ineuron\" put of this data\n",
    "Try to find out a number of occurances of all the data \n",
    "Try to find out a number of keys in dict element \n",
    "Try to filter out all the string data \n",
    "Try to find out aphanum in data \n",
    "Try to find out multiplication of all the individual collection inside dataset \n",
    "\n",
    "Try to unwrape all the collection inside collection and create a flat list "
   ]
  },
  {
   "cell_type": "code",
   "execution_count": null,
   "id": "418446c5",
   "metadata": {},
   "outputs": [],
   "source": []
  },
  {
   "cell_type": "code",
   "execution_count": null,
   "id": "37543be1",
   "metadata": {},
   "outputs": [],
   "source": []
  },
  {
   "cell_type": "code",
   "execution_count": null,
   "id": "2efd6d97",
   "metadata": {},
   "outputs": [],
   "source": []
  },
  {
   "cell_type": "code",
   "execution_count": null,
   "id": "1abef478",
   "metadata": {},
   "outputs": [],
   "source": []
  },
  {
   "cell_type": "code",
   "execution_count": null,
   "id": "3b56690c",
   "metadata": {},
   "outputs": [],
   "source": []
  },
  {
   "cell_type": "code",
   "execution_count": null,
   "id": "37152318",
   "metadata": {},
   "outputs": [],
   "source": []
  }
 ],
 "metadata": {
  "kernelspec": {
   "display_name": "Python 3 (ipykernel)",
   "language": "python",
   "name": "python3"
  },
  "language_info": {
   "codemirror_mode": {
    "name": "ipython",
    "version": 3
   },
   "file_extension": ".py",
   "mimetype": "text/x-python",
   "name": "python",
   "nbconvert_exporter": "python",
   "pygments_lexer": "ipython3",
   "version": "3.9.7"
  }
 },
 "nbformat": 4,
 "nbformat_minor": 5
}
