{
 "cells": [
  {
   "cell_type": "code",
   "execution_count": 1,
   "id": "bb6387fc",
   "metadata": {},
   "outputs": [],
   "source": [
    "s = \"this is My First Python programming class and i am learNING python string and its function\""
   ]
  },
  {
   "cell_type": "code",
   "execution_count": 2,
   "id": "8497d74c",
   "metadata": {},
   "outputs": [
    {
     "data": {
      "text/plain": [
       "'h   r tnrrmglsnimeNGyosi dtfco'"
      ]
     },
     "execution_count": 2,
     "metadata": {},
     "output_type": "execute_result"
    }
   ],
   "source": [
    "# question 1 :- Try to extract data from index one to index 300 with a jump of 3\n",
    "\n",
    "s[1:300:3]"
   ]
  },
  {
   "cell_type": "code",
   "execution_count": 3,
   "id": "03e5cb20",
   "metadata": {},
   "outputs": [
    {
     "data": {
      "text/plain": [
       "'noitcnuf sti dna gnirts nohtyp GNINrael ma i dna ssalc gnimmargorp nohtyP tsriF yM si siht'"
      ]
     },
     "execution_count": 3,
     "metadata": {},
     "output_type": "execute_result"
    }
   ],
   "source": [
    "# question 2: Try to reverse a string without using reverse function \n",
    "\n",
    "s[::-1]"
   ]
  },
  {
   "cell_type": "code",
   "execution_count": 4,
   "id": "3a64b939",
   "metadata": {},
   "outputs": [
    {
     "data": {
      "text/plain": [
       "['THIS',\n",
       " 'IS',\n",
       " 'MY',\n",
       " 'FIRST',\n",
       " 'PYTHON',\n",
       " 'PROGRAMMING',\n",
       " 'CLASS',\n",
       " 'AND',\n",
       " 'I',\n",
       " 'AM',\n",
       " 'LEARNING',\n",
       " 'PYTHON',\n",
       " 'STRING',\n",
       " 'AND',\n",
       " 'ITS',\n",
       " 'FUNCTION']"
      ]
     },
     "execution_count": 4,
     "metadata": {},
     "output_type": "execute_result"
    }
   ],
   "source": [
    "# question 3:- Try to split a string after conversion of entire string in uppercase \n",
    "\n",
    "s = s.upper()\n",
    "s.split(' ')"
   ]
  },
  {
   "cell_type": "code",
   "execution_count": 6,
   "id": "360aab7c",
   "metadata": {},
   "outputs": [
    {
     "data": {
      "text/plain": [
       "'this is my first python programming class and i am learning python string and its function'"
      ]
     },
     "execution_count": 6,
     "metadata": {},
     "output_type": "execute_result"
    }
   ],
   "source": [
    "# question 4. Try to convert the whole string into lower case \n",
    "\n",
    "s = s.lower()\n",
    "s"
   ]
  },
  {
   "cell_type": "code",
   "execution_count": 8,
   "id": "bd2d4f58",
   "metadata": {},
   "outputs": [
    {
     "data": {
      "text/plain": [
       "'This is my first python programming class and i am learning python string and its function'"
      ]
     },
     "execution_count": 8,
     "metadata": {},
     "output_type": "execute_result"
    }
   ],
   "source": [
    "# question 5 . Try to capitalize the whole string \n",
    "\n",
    "s = s.capitalize()\n",
    "s"
   ]
  },
  {
   "cell_type": "markdown",
   "id": "4981f1cc",
   "metadata": {},
   "source": [
    "# question 6 . Write a diference between isalnum() and isalpha()\n",
    "\n",
    "s.isalnum() :- \n",
    "When a string have at-least one character and that must be alphabet or numerical whole number.\n",
    "It will be true otherwise false, function variable.isalnum() executed as OR gate. \n",
    "for exmple:- if x = \"abc123\" , x = \"abc\" and x = \"123\" otherwise false. \n",
    "\n",
    "s.islpha()\n",
    "when a string have at-least one character and that must be alphabet, then it will be true otherwise false.\n",
    "for example if x = \"abc\" \n"
   ]
  },
  {
   "cell_type": "code",
   "execution_count": 27,
   "id": "1c376cf7",
   "metadata": {},
   "outputs": [
    {
     "data": {
      "text/plain": [
       "'This is my first         python programming class        and     i am learning python string and its function'"
      ]
     },
     "execution_count": 27,
     "metadata": {},
     "output_type": "execute_result"
    }
   ],
   "source": [
    "# question 7:- Try to give an example of expand tab. \n",
    "\n",
    "s = 'This is my first \\t python programming class \\t and \\t i am learning python string and its function'\n",
    "s.expandtabs()"
   ]
  },
  {
   "cell_type": "code",
   "execution_count": 34,
   "id": "57d3145f",
   "metadata": {},
   "outputs": [
    {
     "data": {
      "text/plain": [
       "'First    Programming'"
      ]
     },
     "execution_count": 34,
     "metadata": {},
     "output_type": "execute_result"
    }
   ],
   "source": [
    "# question 8 . Give an example of strip , lstrip and rstrip \n",
    "\n",
    "x = \"   First    Programming   \"\n",
    "x.strip()"
   ]
  },
  {
   "cell_type": "code",
   "execution_count": 35,
   "id": "6ab4a4f5",
   "metadata": {},
   "outputs": [
    {
     "data": {
      "text/plain": [
       "'First    Programming   '"
      ]
     },
     "execution_count": 35,
     "metadata": {},
     "output_type": "execute_result"
    }
   ],
   "source": [
    "x.lstrip()"
   ]
  },
  {
   "cell_type": "code",
   "execution_count": 36,
   "id": "defb8820",
   "metadata": {},
   "outputs": [
    {
     "data": {
      "text/plain": [
       "'   First    Programming'"
      ]
     },
     "execution_count": 36,
     "metadata": {},
     "output_type": "execute_result"
    }
   ],
   "source": [
    "x.rstrip()"
   ]
  },
  {
   "cell_type": "code",
   "execution_count": 44,
   "id": "bcd3bc53",
   "metadata": {},
   "outputs": [
    {
     "name": "stdout",
     "output_type": "stream",
     "text": [
      "My first programming language is python\n"
     ]
    }
   ],
   "source": [
    "# question 9. Replace a string character by another charactor by taking your own example \n",
    "\n",
    "x = 'My first programming language is C++'\n",
    "y = x.replace(\"C++\", \"python\")\n",
    "print(y)"
   ]
  },
  {
   "cell_type": "markdown",
   "id": "2fa30d4c",
   "metadata": {},
   "source": [
    "# question 10 . Try  to give a defination of a string center function with and example \n",
    "\n",
    "String center function:- \n",
    "We used this function to increase length of a string with specified character along sides. \n",
    "s.center(total length,'special character')"
   ]
  },
  {
   "cell_type": "code",
   "execution_count": 42,
   "id": "24a84bb9",
   "metadata": {},
   "outputs": [
    {
     "data": {
      "text/plain": [
       "'######This is my first programming language#######'"
      ]
     },
     "execution_count": 42,
     "metadata": {},
     "output_type": "execute_result"
    }
   ],
   "source": [
    "s = \"This is my first programming language\"\n",
    "s.center(50,'#')"
   ]
  },
  {
   "cell_type": "markdown",
   "id": "5a8c5d15",
   "metadata": {},
   "source": [
    "# question 11. Write your own definition of compiler and interpretor without copy paste form internet in your own language\n",
    "\n",
    "Answer:- \n",
    "\n",
    "They both do the same thing but differently, I'll explain how:-\n",
    "Both converts high level language to machine language.... \n",
    "\n",
    "Interpreter:- \n",
    "\n",
    "ye ek baar mei ek line ko execute krta hai. It interprets the code line by line\n",
    "\n",
    "compiler:- \n",
    "\n",
    "It compiles the whole program at a time in machine lang. \n",
    "It can convert the whole program into application file type \"EXE\" at \n",
    "ye warning m deta hai agar prog galat hai exe nahi banenga error or warning deta hai \n",
    "\n",
    "It also gives error syntax/ suggestions to us when we use incorrect code. \n"
   ]
  },
  {
   "cell_type": "code",
   "execution_count": null,
   "id": "93b2961d",
   "metadata": {},
   "outputs": [],
   "source": [
    "# question 12.python is interpreted of compiled language give a clear answer with your understanding \n",
    "\n"
   ]
  },
  {
   "cell_type": "markdown",
   "id": "4dec17a9",
   "metadata": {},
   "source": [
    "# question 13:- 13 . Try to write a usecase of python with your understanding .\n",
    "\n",
    "Use cases of python are :- \n",
    "\n",
    "We used to develop games through python so Game Development is one of the use case. \n",
    "Artificial Intelligence\n",
    "Machine Learning \n",
    "Application development \n",
    "Data analytics \n"
   ]
  },
  {
   "cell_type": "code",
   "execution_count": null,
   "id": "ded0a336",
   "metadata": {},
   "outputs": [],
   "source": []
  }
 ],
 "metadata": {
  "kernelspec": {
   "display_name": "Python 3 (ipykernel)",
   "language": "python",
   "name": "python3"
  },
  "language_info": {
   "codemirror_mode": {
    "name": "ipython",
    "version": 3
   },
   "file_extension": ".py",
   "mimetype": "text/x-python",
   "name": "python",
   "nbconvert_exporter": "python",
   "pygments_lexer": "ipython3",
   "version": "3.9.7"
  }
 },
 "nbformat": 4,
 "nbformat_minor": 5
}
